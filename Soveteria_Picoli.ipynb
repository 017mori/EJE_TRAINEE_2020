{
  "nbformat": 4,
  "nbformat_minor": 0,
  "metadata": {
    "colab": {
      "name": "Soveteria_Picoli.ipynb",
      "provenance": [],
      "authorship_tag": "ABX9TyO3FNrFqBt/YQKJd34GR5CQ",
      "include_colab_link": true
    },
    "kernelspec": {
      "name": "python3",
      "display_name": "Python 3"
    }
  },
  "cells": [
    {
      "cell_type": "markdown",
      "metadata": {
        "id": "view-in-github",
        "colab_type": "text"
      },
      "source": [
        "<a href=\"https://colab.research.google.com/github/017mori/EJE_TRAINEE_2020/blob/master/Soveteria_Picoli.ipynb\" target=\"_parent\"><img src=\"https://colab.research.google.com/assets/colab-badge.svg\" alt=\"Open In Colab\"/></a>"
      ]
    },
    {
      "cell_type": "markdown",
      "metadata": {
        "id": "9Wy4tpMzddvl"
      },
      "source": [
        "\n",
        "#Índice\n",
        "0) Importando as bibliotecas;\n",
        "\n",
        "1) DataSet;\n",
        "\n",
        "2) Análise do DataSet;\n",
        "\n",
        "3) Análises descritiva dos sabores de picolés;\n",
        "\n",
        "4) Visualização dos dados vendas dos sabores de picolés;\n",
        "\n",
        "5) Organizando o banco de dados de vendas por semana;\n",
        "\n",
        "6) Análises descritiva de vendas por semana;\n",
        "\n",
        "7) Visualização dos dados vendas por semana;\n",
        "\n",
        "8) Conclusões."
      ]
    },
    {
      "cell_type": "markdown",
      "metadata": {
        "id": "Hcw2OcM8dwkM"
      },
      "source": [
        "#0) Importando as bibliotecas"
      ]
    },
    {
      "cell_type": "code",
      "metadata": {
        "id": "N6ag0zdHiEyO"
      },
      "source": [
        "#Para os bancos de dados\n",
        "import numpy as np\n",
        "import pandas as pd\n",
        "\n",
        "#Para as visualização de dados\n",
        "import matplotlib.pyplot as plt\n",
        "import seaborn as sns\n",
        "import plotly as py\n",
        "import plotly.graph_objects as go\n",
        "\n",
        "#Para trabalharmos com datas\n",
        "from datetime import date\n",
        "from datetime import datetime"
      ],
      "execution_count": null,
      "outputs": []
    },
    {
      "cell_type": "markdown",
      "metadata": {
        "id": "O1GYx1X-d4UR"
      },
      "source": [
        "#1) DataSet\n",
        "\n",
        "*   O banco de dados relata as vendas de 10 sabores de picolé (Chocolate; Pistache; Morango; Amendoim; Leite Ninho; Abacaxi Suico; Coco; Limao; Blue Ice;Maracuja) em uma sorveteria de São Carlos FICTICIA;\n",
        "*   Podemos encontrar esse Banco de dados neste [link.](https://raw.githubusercontent.com/017mori/EJE_TRAINEE_2020/master/vendas_sorveteria.csv)\n",
        "---\n",
        "##Dicionário dos dados\n",
        "\n",
        "1.   Dia = datas dos dias das vendas de picolé;\n",
        "2.   Chocolate     = Vendas do picolé de Chocolate;\n",
        "3.   Pistache      = Vendas do picolé de Pistache;\n",
        "4.   Morango       = Vendas do picolé de Morango;\n",
        "5.   Amendoim      = Vendas do picolé de Amendoim;\n",
        "6.   Leite_ninho   = Vendas do picolé de Leite Ninho;\n",
        "7.   Abacaxi_suico = Vendas do picolé de Abacaxi Suico;\n",
        "8.   Coco          = Vendas do picolé de Coco;\n",
        "9.   Limao         = Vendas do picolé de Limao;\n",
        "10.  Blue_ice      = Vendas do picolé de Blue Ice;\n",
        "11.  Maracuja      = Vendas do picolé de Maracuja.\n",
        "\n",
        " \n",
        "\n",
        "\n",
        "\n",
        "\n",
        "\n"
      ]
    },
    {
      "cell_type": "code",
      "metadata": {
        "id": "HK9XwvdAja50",
        "outputId": "3a741ed4-6e0c-4ab8-d67c-cf75cad6d237",
        "colab": {
          "base_uri": "https://localhost:8080/"
        }
      },
      "source": [
        "#Importação e leitura dos dados \n",
        "url = 'https://raw.githubusercontent.com/017mori/EJE_TRAINEE_2020/master/vendas_sorveteria.csv'\n",
        "df = pd.read_csv(url, sep =\";\", decimal=\",\")\n",
        "df.head()"
      ],
      "execution_count": null,
      "outputs": [
        {
          "output_type": "execute_result",
          "data": {
            "text/html": [
              "<div>\n",
              "<style scoped>\n",
              "    .dataframe tbody tr th:only-of-type {\n",
              "        vertical-align: middle;\n",
              "    }\n",
              "\n",
              "    .dataframe tbody tr th {\n",
              "        vertical-align: top;\n",
              "    }\n",
              "\n",
              "    .dataframe thead th {\n",
              "        text-align: right;\n",
              "    }\n",
              "</style>\n",
              "<table border=\"1\" class=\"dataframe\">\n",
              "  <thead>\n",
              "    <tr style=\"text-align: right;\">\n",
              "      <th></th>\n",
              "      <th>Dia</th>\n",
              "      <th>Chocolate</th>\n",
              "      <th>Pistache</th>\n",
              "      <th>Morango</th>\n",
              "      <th>Amendoim</th>\n",
              "      <th>Leite_ninho</th>\n",
              "      <th>Abacaxi_suico</th>\n",
              "      <th>Coco</th>\n",
              "      <th>Limao</th>\n",
              "      <th>Blue_ice</th>\n",
              "      <th>Maracuja</th>\n",
              "    </tr>\n",
              "  </thead>\n",
              "  <tbody>\n",
              "    <tr>\n",
              "      <th>0</th>\n",
              "      <td>01/10/2019</td>\n",
              "      <td>34</td>\n",
              "      <td>8</td>\n",
              "      <td>27</td>\n",
              "      <td>23</td>\n",
              "      <td>22</td>\n",
              "      <td>17</td>\n",
              "      <td>22</td>\n",
              "      <td>2</td>\n",
              "      <td>32</td>\n",
              "      <td>32</td>\n",
              "    </tr>\n",
              "    <tr>\n",
              "      <th>1</th>\n",
              "      <td>02/10/2019</td>\n",
              "      <td>51</td>\n",
              "      <td>7</td>\n",
              "      <td>22</td>\n",
              "      <td>36</td>\n",
              "      <td>20</td>\n",
              "      <td>26</td>\n",
              "      <td>14</td>\n",
              "      <td>17</td>\n",
              "      <td>18</td>\n",
              "      <td>30</td>\n",
              "    </tr>\n",
              "    <tr>\n",
              "      <th>2</th>\n",
              "      <td>03/10/2019</td>\n",
              "      <td>42</td>\n",
              "      <td>12</td>\n",
              "      <td>31</td>\n",
              "      <td>24</td>\n",
              "      <td>31</td>\n",
              "      <td>33</td>\n",
              "      <td>23</td>\n",
              "      <td>11</td>\n",
              "      <td>19</td>\n",
              "      <td>36</td>\n",
              "    </tr>\n",
              "    <tr>\n",
              "      <th>3</th>\n",
              "      <td>04/10/2019</td>\n",
              "      <td>30</td>\n",
              "      <td>19</td>\n",
              "      <td>30</td>\n",
              "      <td>31</td>\n",
              "      <td>36</td>\n",
              "      <td>30</td>\n",
              "      <td>21</td>\n",
              "      <td>12</td>\n",
              "      <td>22</td>\n",
              "      <td>19</td>\n",
              "    </tr>\n",
              "    <tr>\n",
              "      <th>4</th>\n",
              "      <td>05/10/2019</td>\n",
              "      <td>60</td>\n",
              "      <td>32</td>\n",
              "      <td>34</td>\n",
              "      <td>47</td>\n",
              "      <td>40</td>\n",
              "      <td>41</td>\n",
              "      <td>40</td>\n",
              "      <td>22</td>\n",
              "      <td>38</td>\n",
              "      <td>41</td>\n",
              "    </tr>\n",
              "  </tbody>\n",
              "</table>\n",
              "</div>"
            ],
            "text/plain": [
              "          Dia  Chocolate  Pistache  Morango  ...  Coco  Limao  Blue_ice  Maracuja\n",
              "0  01/10/2019         34         8       27  ...    22      2        32        32\n",
              "1  02/10/2019         51         7       22  ...    14     17        18        30\n",
              "2  03/10/2019         42        12       31  ...    23     11        19        36\n",
              "3  04/10/2019         30        19       30  ...    21     12        22        19\n",
              "4  05/10/2019         60        32       34  ...    40     22        38        41\n",
              "\n",
              "[5 rows x 11 columns]"
            ]
          },
          "metadata": {
            "tags": []
          },
          "execution_count": 135
        }
      ]
    },
    {
      "cell_type": "markdown",
      "metadata": {
        "id": "e4qvJ426gEx1"
      },
      "source": [
        "#2) Análise do DataSet"
      ]
    },
    {
      "cell_type": "code",
      "metadata": {
        "id": "JAVMrZZbkGpt",
        "outputId": "66be68fa-392a-4749-9b20-897039335b0e",
        "colab": {
          "base_uri": "https://localhost:8080/"
        }
      },
      "source": [
        "#Informações das variáveis e do banco de dados\n",
        "df.info()"
      ],
      "execution_count": null,
      "outputs": [
        {
          "output_type": "stream",
          "text": [
            "<class 'pandas.core.frame.DataFrame'>\n",
            "RangeIndex: 61 entries, 0 to 60\n",
            "Data columns (total 11 columns):\n",
            " #   Column         Non-Null Count  Dtype \n",
            "---  ------         --------------  ----- \n",
            " 0   Dia            61 non-null     object\n",
            " 1   Chocolate      61 non-null     int64 \n",
            " 2   Pistache       61 non-null     int64 \n",
            " 3   Morango        61 non-null     int64 \n",
            " 4   Amendoim       61 non-null     int64 \n",
            " 5   Leite_ninho    61 non-null     int64 \n",
            " 6   Abacaxi_suico  61 non-null     int64 \n",
            " 7   Coco           61 non-null     int64 \n",
            " 8   Limao          61 non-null     int64 \n",
            " 9   Blue_ice       61 non-null     int64 \n",
            " 10  Maracuja       61 non-null     int64 \n",
            "dtypes: int64(10), object(1)\n",
            "memory usage: 5.4+ KB\n"
          ],
          "name": "stdout"
        }
      ]
    },
    {
      "cell_type": "markdown",
      "metadata": {
        "id": "Ypic47VNgirU"
      },
      "source": [
        "#3)  Análises descritiva dos sabores de picolés"
      ]
    },
    {
      "cell_type": "code",
      "metadata": {
        "id": "qZhRbnr9kMDU",
        "outputId": "d0841105-2164-4d5c-b69b-bc13e07281d0",
        "colab": {
          "base_uri": "https://localhost:8080/"
        }
      },
      "source": [
        "#Principais medidas de cada tipo de sabor dos picolés\n",
        "df.describe()"
      ],
      "execution_count": null,
      "outputs": [
        {
          "output_type": "execute_result",
          "data": {
            "text/html": [
              "<div>\n",
              "<style scoped>\n",
              "    .dataframe tbody tr th:only-of-type {\n",
              "        vertical-align: middle;\n",
              "    }\n",
              "\n",
              "    .dataframe tbody tr th {\n",
              "        vertical-align: top;\n",
              "    }\n",
              "\n",
              "    .dataframe thead th {\n",
              "        text-align: right;\n",
              "    }\n",
              "</style>\n",
              "<table border=\"1\" class=\"dataframe\">\n",
              "  <thead>\n",
              "    <tr style=\"text-align: right;\">\n",
              "      <th></th>\n",
              "      <th>Chocolate</th>\n",
              "      <th>Pistache</th>\n",
              "      <th>Morango</th>\n",
              "      <th>Amendoim</th>\n",
              "      <th>Leite_ninho</th>\n",
              "      <th>Abacaxi_suico</th>\n",
              "      <th>Coco</th>\n",
              "      <th>Limao</th>\n",
              "      <th>Blue_ice</th>\n",
              "      <th>Maracuja</th>\n",
              "    </tr>\n",
              "  </thead>\n",
              "  <tbody>\n",
              "    <tr>\n",
              "      <th>count</th>\n",
              "      <td>61.000000</td>\n",
              "      <td>61.000000</td>\n",
              "      <td>61.000000</td>\n",
              "      <td>61.000000</td>\n",
              "      <td>61.000000</td>\n",
              "      <td>61.000000</td>\n",
              "      <td>61.000000</td>\n",
              "      <td>61.000000</td>\n",
              "      <td>61.000000</td>\n",
              "      <td>61.000000</td>\n",
              "    </tr>\n",
              "    <tr>\n",
              "      <th>mean</th>\n",
              "      <td>45.885246</td>\n",
              "      <td>17.754098</td>\n",
              "      <td>35.163934</td>\n",
              "      <td>36.606557</td>\n",
              "      <td>37.491803</td>\n",
              "      <td>33.573770</td>\n",
              "      <td>28.245902</td>\n",
              "      <td>23.311475</td>\n",
              "      <td>32.901639</td>\n",
              "      <td>33.967213</td>\n",
              "    </tr>\n",
              "    <tr>\n",
              "      <th>std</th>\n",
              "      <td>14.111577</td>\n",
              "      <td>9.456313</td>\n",
              "      <td>13.089666</td>\n",
              "      <td>13.727441</td>\n",
              "      <td>12.088042</td>\n",
              "      <td>14.377597</td>\n",
              "      <td>11.949415</td>\n",
              "      <td>13.398434</td>\n",
              "      <td>13.957919</td>\n",
              "      <td>12.621367</td>\n",
              "    </tr>\n",
              "    <tr>\n",
              "      <th>min</th>\n",
              "      <td>14.000000</td>\n",
              "      <td>0.000000</td>\n",
              "      <td>11.000000</td>\n",
              "      <td>10.000000</td>\n",
              "      <td>18.000000</td>\n",
              "      <td>7.000000</td>\n",
              "      <td>5.000000</td>\n",
              "      <td>1.000000</td>\n",
              "      <td>8.000000</td>\n",
              "      <td>4.000000</td>\n",
              "    </tr>\n",
              "    <tr>\n",
              "      <th>25%</th>\n",
              "      <td>34.000000</td>\n",
              "      <td>10.000000</td>\n",
              "      <td>23.000000</td>\n",
              "      <td>24.000000</td>\n",
              "      <td>28.000000</td>\n",
              "      <td>20.000000</td>\n",
              "      <td>21.000000</td>\n",
              "      <td>11.000000</td>\n",
              "      <td>20.000000</td>\n",
              "      <td>23.000000</td>\n",
              "    </tr>\n",
              "    <tr>\n",
              "      <th>50%</th>\n",
              "      <td>43.000000</td>\n",
              "      <td>15.000000</td>\n",
              "      <td>37.000000</td>\n",
              "      <td>34.000000</td>\n",
              "      <td>37.000000</td>\n",
              "      <td>32.000000</td>\n",
              "      <td>28.000000</td>\n",
              "      <td>22.000000</td>\n",
              "      <td>32.000000</td>\n",
              "      <td>34.000000</td>\n",
              "    </tr>\n",
              "    <tr>\n",
              "      <th>75%</th>\n",
              "      <td>56.000000</td>\n",
              "      <td>25.000000</td>\n",
              "      <td>43.000000</td>\n",
              "      <td>48.000000</td>\n",
              "      <td>48.000000</td>\n",
              "      <td>43.000000</td>\n",
              "      <td>37.000000</td>\n",
              "      <td>34.000000</td>\n",
              "      <td>44.000000</td>\n",
              "      <td>43.000000</td>\n",
              "    </tr>\n",
              "    <tr>\n",
              "      <th>max</th>\n",
              "      <td>80.000000</td>\n",
              "      <td>36.000000</td>\n",
              "      <td>63.000000</td>\n",
              "      <td>67.000000</td>\n",
              "      <td>61.000000</td>\n",
              "      <td>64.000000</td>\n",
              "      <td>52.000000</td>\n",
              "      <td>55.000000</td>\n",
              "      <td>61.000000</td>\n",
              "      <td>61.000000</td>\n",
              "    </tr>\n",
              "  </tbody>\n",
              "</table>\n",
              "</div>"
            ],
            "text/plain": [
              "       Chocolate   Pistache    Morango  ...      Limao   Blue_ice   Maracuja\n",
              "count  61.000000  61.000000  61.000000  ...  61.000000  61.000000  61.000000\n",
              "mean   45.885246  17.754098  35.163934  ...  23.311475  32.901639  33.967213\n",
              "std    14.111577   9.456313  13.089666  ...  13.398434  13.957919  12.621367\n",
              "min    14.000000   0.000000  11.000000  ...   1.000000   8.000000   4.000000\n",
              "25%    34.000000  10.000000  23.000000  ...  11.000000  20.000000  23.000000\n",
              "50%    43.000000  15.000000  37.000000  ...  22.000000  32.000000  34.000000\n",
              "75%    56.000000  25.000000  43.000000  ...  34.000000  44.000000  43.000000\n",
              "max    80.000000  36.000000  63.000000  ...  55.000000  61.000000  61.000000\n",
              "\n",
              "[8 rows x 10 columns]"
            ]
          },
          "metadata": {
            "tags": []
          },
          "execution_count": 137
        }
      ]
    },
    {
      "cell_type": "markdown",
      "metadata": {
        "id": "WBDegrpeE4xv"
      },
      "source": [
        "##3.2) Correlação das variaveis"
      ]
    },
    {
      "cell_type": "code",
      "metadata": {
        "id": "i47laNd6E5hT",
        "outputId": "ef4e4e0b-edc3-4c7e-9cd5-967e1ba7b7ae",
        "colab": {
          "base_uri": "https://localhost:8080/"
        }
      },
      "source": [
        "corr = df.corr()\n",
        "corr.style.background_gradient(cmap =\"coolwarm\" )"
      ],
      "execution_count": null,
      "outputs": [
        {
          "output_type": "execute_result",
          "data": {
            "text/html": [
              "<style  type=\"text/css\" >\n",
              "    #T_30572fd8_e896_11ea_93be_0242ac1c0002row0_col0 {\n",
              "            background-color:  #b40426;\n",
              "            color:  #f1f1f1;\n",
              "        }    #T_30572fd8_e896_11ea_93be_0242ac1c0002row0_col1 {\n",
              "            background-color:  #5a78e4;\n",
              "            color:  #000000;\n",
              "        }    #T_30572fd8_e896_11ea_93be_0242ac1c0002row0_col2 {\n",
              "            background-color:  #3b4cc0;\n",
              "            color:  #f1f1f1;\n",
              "        }    #T_30572fd8_e896_11ea_93be_0242ac1c0002row0_col3 {\n",
              "            background-color:  #7699f6;\n",
              "            color:  #000000;\n",
              "        }    #T_30572fd8_e896_11ea_93be_0242ac1c0002row0_col4 {\n",
              "            background-color:  #3b4cc0;\n",
              "            color:  #f1f1f1;\n",
              "        }    #T_30572fd8_e896_11ea_93be_0242ac1c0002row0_col5 {\n",
              "            background-color:  #3b4cc0;\n",
              "            color:  #f1f1f1;\n",
              "        }    #T_30572fd8_e896_11ea_93be_0242ac1c0002row0_col6 {\n",
              "            background-color:  #5673e0;\n",
              "            color:  #000000;\n",
              "        }    #T_30572fd8_e896_11ea_93be_0242ac1c0002row0_col7 {\n",
              "            background-color:  #779af7;\n",
              "            color:  #000000;\n",
              "        }    #T_30572fd8_e896_11ea_93be_0242ac1c0002row0_col8 {\n",
              "            background-color:  #3b4cc0;\n",
              "            color:  #f1f1f1;\n",
              "        }    #T_30572fd8_e896_11ea_93be_0242ac1c0002row0_col9 {\n",
              "            background-color:  #3b4cc0;\n",
              "            color:  #f1f1f1;\n",
              "        }    #T_30572fd8_e896_11ea_93be_0242ac1c0002row1_col0 {\n",
              "            background-color:  #8badfd;\n",
              "            color:  #000000;\n",
              "        }    #T_30572fd8_e896_11ea_93be_0242ac1c0002row1_col1 {\n",
              "            background-color:  #b40426;\n",
              "            color:  #f1f1f1;\n",
              "        }    #T_30572fd8_e896_11ea_93be_0242ac1c0002row1_col2 {\n",
              "            background-color:  #6c8ff1;\n",
              "            color:  #000000;\n",
              "        }    #T_30572fd8_e896_11ea_93be_0242ac1c0002row1_col3 {\n",
              "            background-color:  #506bda;\n",
              "            color:  #000000;\n",
              "        }    #T_30572fd8_e896_11ea_93be_0242ac1c0002row1_col4 {\n",
              "            background-color:  #5673e0;\n",
              "            color:  #000000;\n",
              "        }    #T_30572fd8_e896_11ea_93be_0242ac1c0002row1_col5 {\n",
              "            background-color:  #455cce;\n",
              "            color:  #f1f1f1;\n",
              "        }    #T_30572fd8_e896_11ea_93be_0242ac1c0002row1_col6 {\n",
              "            background-color:  #6180e9;\n",
              "            color:  #000000;\n",
              "        }    #T_30572fd8_e896_11ea_93be_0242ac1c0002row1_col7 {\n",
              "            background-color:  #6687ed;\n",
              "            color:  #000000;\n",
              "        }    #T_30572fd8_e896_11ea_93be_0242ac1c0002row1_col8 {\n",
              "            background-color:  #7b9ff9;\n",
              "            color:  #000000;\n",
              "        }    #T_30572fd8_e896_11ea_93be_0242ac1c0002row1_col9 {\n",
              "            background-color:  #516ddb;\n",
              "            color:  #000000;\n",
              "        }    #T_30572fd8_e896_11ea_93be_0242ac1c0002row2_col0 {\n",
              "            background-color:  #3b4cc0;\n",
              "            color:  #f1f1f1;\n",
              "        }    #T_30572fd8_e896_11ea_93be_0242ac1c0002row2_col1 {\n",
              "            background-color:  #3b4cc0;\n",
              "            color:  #f1f1f1;\n",
              "        }    #T_30572fd8_e896_11ea_93be_0242ac1c0002row2_col2 {\n",
              "            background-color:  #b40426;\n",
              "            color:  #f1f1f1;\n",
              "        }    #T_30572fd8_e896_11ea_93be_0242ac1c0002row2_col3 {\n",
              "            background-color:  #97b8ff;\n",
              "            color:  #000000;\n",
              "        }    #T_30572fd8_e896_11ea_93be_0242ac1c0002row2_col4 {\n",
              "            background-color:  #a1c0ff;\n",
              "            color:  #000000;\n",
              "        }    #T_30572fd8_e896_11ea_93be_0242ac1c0002row2_col5 {\n",
              "            background-color:  #92b4fe;\n",
              "            color:  #000000;\n",
              "        }    #T_30572fd8_e896_11ea_93be_0242ac1c0002row2_col6 {\n",
              "            background-color:  #7597f6;\n",
              "            color:  #000000;\n",
              "        }    #T_30572fd8_e896_11ea_93be_0242ac1c0002row2_col7 {\n",
              "            background-color:  #6a8bef;\n",
              "            color:  #000000;\n",
              "        }    #T_30572fd8_e896_11ea_93be_0242ac1c0002row2_col8 {\n",
              "            background-color:  #5f7fe8;\n",
              "            color:  #000000;\n",
              "        }    #T_30572fd8_e896_11ea_93be_0242ac1c0002row2_col9 {\n",
              "            background-color:  #7a9df8;\n",
              "            color:  #000000;\n",
              "        }    #T_30572fd8_e896_11ea_93be_0242ac1c0002row3_col0 {\n",
              "            background-color:  #a6c4fe;\n",
              "            color:  #000000;\n",
              "        }    #T_30572fd8_e896_11ea_93be_0242ac1c0002row3_col1 {\n",
              "            background-color:  #5470de;\n",
              "            color:  #000000;\n",
              "        }    #T_30572fd8_e896_11ea_93be_0242ac1c0002row3_col2 {\n",
              "            background-color:  #c0d4f5;\n",
              "            color:  #000000;\n",
              "        }    #T_30572fd8_e896_11ea_93be_0242ac1c0002row3_col3 {\n",
              "            background-color:  #b40426;\n",
              "            color:  #f1f1f1;\n",
              "        }    #T_30572fd8_e896_11ea_93be_0242ac1c0002row3_col4 {\n",
              "            background-color:  #4e68d8;\n",
              "            color:  #000000;\n",
              "        }    #T_30572fd8_e896_11ea_93be_0242ac1c0002row3_col5 {\n",
              "            background-color:  #bbd1f8;\n",
              "            color:  #000000;\n",
              "        }    #T_30572fd8_e896_11ea_93be_0242ac1c0002row3_col6 {\n",
              "            background-color:  #7b9ff9;\n",
              "            color:  #000000;\n",
              "        }    #T_30572fd8_e896_11ea_93be_0242ac1c0002row3_col7 {\n",
              "            background-color:  #aac7fd;\n",
              "            color:  #000000;\n",
              "        }    #T_30572fd8_e896_11ea_93be_0242ac1c0002row3_col8 {\n",
              "            background-color:  #90b2fe;\n",
              "            color:  #000000;\n",
              "        }    #T_30572fd8_e896_11ea_93be_0242ac1c0002row3_col9 {\n",
              "            background-color:  #d1dae9;\n",
              "            color:  #000000;\n",
              "        }    #T_30572fd8_e896_11ea_93be_0242ac1c0002row4_col0 {\n",
              "            background-color:  #5b7ae5;\n",
              "            color:  #000000;\n",
              "        }    #T_30572fd8_e896_11ea_93be_0242ac1c0002row4_col1 {\n",
              "            background-color:  #455cce;\n",
              "            color:  #f1f1f1;\n",
              "        }    #T_30572fd8_e896_11ea_93be_0242ac1c0002row4_col2 {\n",
              "            background-color:  #bad0f8;\n",
              "            color:  #000000;\n",
              "        }    #T_30572fd8_e896_11ea_93be_0242ac1c0002row4_col3 {\n",
              "            background-color:  #3b4cc0;\n",
              "            color:  #f1f1f1;\n",
              "        }    #T_30572fd8_e896_11ea_93be_0242ac1c0002row4_col4 {\n",
              "            background-color:  #b40426;\n",
              "            color:  #f1f1f1;\n",
              "        }    #T_30572fd8_e896_11ea_93be_0242ac1c0002row4_col5 {\n",
              "            background-color:  #6a8bef;\n",
              "            color:  #000000;\n",
              "        }    #T_30572fd8_e896_11ea_93be_0242ac1c0002row4_col6 {\n",
              "            background-color:  #cad8ef;\n",
              "            color:  #000000;\n",
              "        }    #T_30572fd8_e896_11ea_93be_0242ac1c0002row4_col7 {\n",
              "            background-color:  #4358cb;\n",
              "            color:  #f1f1f1;\n",
              "        }    #T_30572fd8_e896_11ea_93be_0242ac1c0002row4_col8 {\n",
              "            background-color:  #6f92f3;\n",
              "            color:  #000000;\n",
              "        }    #T_30572fd8_e896_11ea_93be_0242ac1c0002row4_col9 {\n",
              "            background-color:  #6e90f2;\n",
              "            color:  #000000;\n",
              "        }    #T_30572fd8_e896_11ea_93be_0242ac1c0002row5_col0 {\n",
              "            background-color:  #7093f3;\n",
              "            color:  #000000;\n",
              "        }    #T_30572fd8_e896_11ea_93be_0242ac1c0002row5_col1 {\n",
              "            background-color:  #4961d2;\n",
              "            color:  #f1f1f1;\n",
              "        }    #T_30572fd8_e896_11ea_93be_0242ac1c0002row5_col2 {\n",
              "            background-color:  #bcd2f7;\n",
              "            color:  #000000;\n",
              "        }    #T_30572fd8_e896_11ea_93be_0242ac1c0002row5_col3 {\n",
              "            background-color:  #bbd1f8;\n",
              "            color:  #000000;\n",
              "        }    #T_30572fd8_e896_11ea_93be_0242ac1c0002row5_col4 {\n",
              "            background-color:  #7ea1fa;\n",
              "            color:  #000000;\n",
              "        }    #T_30572fd8_e896_11ea_93be_0242ac1c0002row5_col5 {\n",
              "            background-color:  #b40426;\n",
              "            color:  #f1f1f1;\n",
              "        }    #T_30572fd8_e896_11ea_93be_0242ac1c0002row5_col6 {\n",
              "            background-color:  #85a8fc;\n",
              "            color:  #000000;\n",
              "        }    #T_30572fd8_e896_11ea_93be_0242ac1c0002row5_col7 {\n",
              "            background-color:  #a3c2fe;\n",
              "            color:  #000000;\n",
              "        }    #T_30572fd8_e896_11ea_93be_0242ac1c0002row5_col8 {\n",
              "            background-color:  #84a7fc;\n",
              "            color:  #000000;\n",
              "        }    #T_30572fd8_e896_11ea_93be_0242ac1c0002row5_col9 {\n",
              "            background-color:  #7a9df8;\n",
              "            color:  #000000;\n",
              "        }    #T_30572fd8_e896_11ea_93be_0242ac1c0002row6_col0 {\n",
              "            background-color:  #779af7;\n",
              "            color:  #000000;\n",
              "        }    #T_30572fd8_e896_11ea_93be_0242ac1c0002row6_col1 {\n",
              "            background-color:  #4f69d9;\n",
              "            color:  #000000;\n",
              "        }    #T_30572fd8_e896_11ea_93be_0242ac1c0002row6_col2 {\n",
              "            background-color:  #93b5fe;\n",
              "            color:  #000000;\n",
              "        }    #T_30572fd8_e896_11ea_93be_0242ac1c0002row6_col3 {\n",
              "            background-color:  #6788ee;\n",
              "            color:  #000000;\n",
              "        }    #T_30572fd8_e896_11ea_93be_0242ac1c0002row6_col4 {\n",
              "            background-color:  #cad8ef;\n",
              "            color:  #000000;\n",
              "        }    #T_30572fd8_e896_11ea_93be_0242ac1c0002row6_col5 {\n",
              "            background-color:  #7295f4;\n",
              "            color:  #000000;\n",
              "        }    #T_30572fd8_e896_11ea_93be_0242ac1c0002row6_col6 {\n",
              "            background-color:  #b40426;\n",
              "            color:  #f1f1f1;\n",
              "        }    #T_30572fd8_e896_11ea_93be_0242ac1c0002row6_col7 {\n",
              "            background-color:  #3b4cc0;\n",
              "            color:  #f1f1f1;\n",
              "        }    #T_30572fd8_e896_11ea_93be_0242ac1c0002row6_col8 {\n",
              "            background-color:  #506bda;\n",
              "            color:  #000000;\n",
              "        }    #T_30572fd8_e896_11ea_93be_0242ac1c0002row6_col9 {\n",
              "            background-color:  #4b64d5;\n",
              "            color:  #f1f1f1;\n",
              "        }    #T_30572fd8_e896_11ea_93be_0242ac1c0002row7_col0 {\n",
              "            background-color:  #96b7ff;\n",
              "            color:  #000000;\n",
              "        }    #T_30572fd8_e896_11ea_93be_0242ac1c0002row7_col1 {\n",
              "            background-color:  #5572df;\n",
              "            color:  #000000;\n",
              "        }    #T_30572fd8_e896_11ea_93be_0242ac1c0002row7_col2 {\n",
              "            background-color:  #89acfd;\n",
              "            color:  #000000;\n",
              "        }    #T_30572fd8_e896_11ea_93be_0242ac1c0002row7_col3 {\n",
              "            background-color:  #9bbcff;\n",
              "            color:  #000000;\n",
              "        }    #T_30572fd8_e896_11ea_93be_0242ac1c0002row7_col4 {\n",
              "            background-color:  #4358cb;\n",
              "            color:  #f1f1f1;\n",
              "        }    #T_30572fd8_e896_11ea_93be_0242ac1c0002row7_col5 {\n",
              "            background-color:  #93b5fe;\n",
              "            color:  #000000;\n",
              "        }    #T_30572fd8_e896_11ea_93be_0242ac1c0002row7_col6 {\n",
              "            background-color:  #3b4cc0;\n",
              "            color:  #f1f1f1;\n",
              "        }    #T_30572fd8_e896_11ea_93be_0242ac1c0002row7_col7 {\n",
              "            background-color:  #b40426;\n",
              "            color:  #f1f1f1;\n",
              "        }    #T_30572fd8_e896_11ea_93be_0242ac1c0002row7_col8 {\n",
              "            background-color:  #85a8fc;\n",
              "            color:  #000000;\n",
              "        }    #T_30572fd8_e896_11ea_93be_0242ac1c0002row7_col9 {\n",
              "            background-color:  #7295f4;\n",
              "            color:  #000000;\n",
              "        }    #T_30572fd8_e896_11ea_93be_0242ac1c0002row8_col0 {\n",
              "            background-color:  #7597f6;\n",
              "            color:  #000000;\n",
              "        }    #T_30572fd8_e896_11ea_93be_0242ac1c0002row8_col1 {\n",
              "            background-color:  #84a7fc;\n",
              "            color:  #000000;\n",
              "        }    #T_30572fd8_e896_11ea_93be_0242ac1c0002row8_col2 {\n",
              "            background-color:  #98b9ff;\n",
              "            color:  #000000;\n",
              "        }    #T_30572fd8_e896_11ea_93be_0242ac1c0002row8_col3 {\n",
              "            background-color:  #96b7ff;\n",
              "            color:  #000000;\n",
              "        }    #T_30572fd8_e896_11ea_93be_0242ac1c0002row8_col4 {\n",
              "            background-color:  #88abfd;\n",
              "            color:  #000000;\n",
              "        }    #T_30572fd8_e896_11ea_93be_0242ac1c0002row8_col5 {\n",
              "            background-color:  #89acfd;\n",
              "            color:  #000000;\n",
              "        }    #T_30572fd8_e896_11ea_93be_0242ac1c0002row8_col6 {\n",
              "            background-color:  #6b8df0;\n",
              "            color:  #000000;\n",
              "        }    #T_30572fd8_e896_11ea_93be_0242ac1c0002row8_col7 {\n",
              "            background-color:  #9bbcff;\n",
              "            color:  #000000;\n",
              "        }    #T_30572fd8_e896_11ea_93be_0242ac1c0002row8_col8 {\n",
              "            background-color:  #b40426;\n",
              "            color:  #f1f1f1;\n",
              "        }    #T_30572fd8_e896_11ea_93be_0242ac1c0002row8_col9 {\n",
              "            background-color:  #bfd3f6;\n",
              "            color:  #000000;\n",
              "        }    #T_30572fd8_e896_11ea_93be_0242ac1c0002row9_col0 {\n",
              "            background-color:  #7699f6;\n",
              "            color:  #000000;\n",
              "        }    #T_30572fd8_e896_11ea_93be_0242ac1c0002row9_col1 {\n",
              "            background-color:  #5a78e4;\n",
              "            color:  #000000;\n",
              "        }    #T_30572fd8_e896_11ea_93be_0242ac1c0002row9_col2 {\n",
              "            background-color:  #aec9fc;\n",
              "            color:  #000000;\n",
              "        }    #T_30572fd8_e896_11ea_93be_0242ac1c0002row9_col3 {\n",
              "            background-color:  #d4dbe6;\n",
              "            color:  #000000;\n",
              "        }    #T_30572fd8_e896_11ea_93be_0242ac1c0002row9_col4 {\n",
              "            background-color:  #86a9fc;\n",
              "            color:  #000000;\n",
              "        }    #T_30572fd8_e896_11ea_93be_0242ac1c0002row9_col5 {\n",
              "            background-color:  #80a3fa;\n",
              "            color:  #000000;\n",
              "        }    #T_30572fd8_e896_11ea_93be_0242ac1c0002row9_col6 {\n",
              "            background-color:  #6687ed;\n",
              "            color:  #000000;\n",
              "        }    #T_30572fd8_e896_11ea_93be_0242ac1c0002row9_col7 {\n",
              "            background-color:  #8badfd;\n",
              "            color:  #000000;\n",
              "        }    #T_30572fd8_e896_11ea_93be_0242ac1c0002row9_col8 {\n",
              "            background-color:  #c0d4f5;\n",
              "            color:  #000000;\n",
              "        }    #T_30572fd8_e896_11ea_93be_0242ac1c0002row9_col9 {\n",
              "            background-color:  #b40426;\n",
              "            color:  #f1f1f1;\n",
              "        }</style><table id=\"T_30572fd8_e896_11ea_93be_0242ac1c0002\" ><thead>    <tr>        <th class=\"blank level0\" ></th>        <th class=\"col_heading level0 col0\" >Chocolate</th>        <th class=\"col_heading level0 col1\" >Pistache</th>        <th class=\"col_heading level0 col2\" >Morango</th>        <th class=\"col_heading level0 col3\" >Amendoim </th>        <th class=\"col_heading level0 col4\" >Leite_ninho</th>        <th class=\"col_heading level0 col5\" >Abacaxi_suico</th>        <th class=\"col_heading level0 col6\" >Coco</th>        <th class=\"col_heading level0 col7\" >Limao</th>        <th class=\"col_heading level0 col8\" >Blue_ice</th>        <th class=\"col_heading level0 col9\" >Maracuja</th>    </tr></thead><tbody>\n",
              "                <tr>\n",
              "                        <th id=\"T_30572fd8_e896_11ea_93be_0242ac1c0002level0_row0\" class=\"row_heading level0 row0\" >Chocolate</th>\n",
              "                        <td id=\"T_30572fd8_e896_11ea_93be_0242ac1c0002row0_col0\" class=\"data row0 col0\" >1.000000</td>\n",
              "                        <td id=\"T_30572fd8_e896_11ea_93be_0242ac1c0002row0_col1\" class=\"data row0 col1\" >0.634636</td>\n",
              "                        <td id=\"T_30572fd8_e896_11ea_93be_0242ac1c0002row0_col2\" class=\"data row0 col2\" >0.516753</td>\n",
              "                        <td id=\"T_30572fd8_e896_11ea_93be_0242ac1c0002row0_col3\" class=\"data row0 col3\" >0.672054</td>\n",
              "                        <td id=\"T_30572fd8_e896_11ea_93be_0242ac1c0002row0_col4\" class=\"data row0 col4\" >0.568687</td>\n",
              "                        <td id=\"T_30572fd8_e896_11ea_93be_0242ac1c0002row0_col5\" class=\"data row0 col5\" >0.598025</td>\n",
              "                        <td id=\"T_30572fd8_e896_11ea_93be_0242ac1c0002row0_col6\" class=\"data row0 col6\" >0.607731</td>\n",
              "                        <td id=\"T_30572fd8_e896_11ea_93be_0242ac1c0002row0_col7\" class=\"data row0 col7\" >0.649765</td>\n",
              "                        <td id=\"T_30572fd8_e896_11ea_93be_0242ac1c0002row0_col8\" class=\"data row0 col8\" >0.605454</td>\n",
              "                        <td id=\"T_30572fd8_e896_11ea_93be_0242ac1c0002row0_col9\" class=\"data row0 col9\" >0.606074</td>\n",
              "            </tr>\n",
              "            <tr>\n",
              "                        <th id=\"T_30572fd8_e896_11ea_93be_0242ac1c0002level0_row1\" class=\"row_heading level0 row1\" >Pistache</th>\n",
              "                        <td id=\"T_30572fd8_e896_11ea_93be_0242ac1c0002row1_col0\" class=\"data row1 col0\" >0.634636</td>\n",
              "                        <td id=\"T_30572fd8_e896_11ea_93be_0242ac1c0002row1_col1\" class=\"data row1 col1\" >1.000000</td>\n",
              "                        <td id=\"T_30572fd8_e896_11ea_93be_0242ac1c0002row1_col2\" class=\"data row1 col2\" >0.592915</td>\n",
              "                        <td id=\"T_30572fd8_e896_11ea_93be_0242ac1c0002row1_col3\" class=\"data row1 col3\" >0.627078</td>\n",
              "                        <td id=\"T_30572fd8_e896_11ea_93be_0242ac1c0002row1_col4\" class=\"data row1 col4\" >0.607768</td>\n",
              "                        <td id=\"T_30572fd8_e896_11ea_93be_0242ac1c0002row1_col5\" class=\"data row1 col5\" >0.612636</td>\n",
              "                        <td id=\"T_30572fd8_e896_11ea_93be_0242ac1c0002row1_col6\" class=\"data row1 col6\" >0.621355</td>\n",
              "                        <td id=\"T_30572fd8_e896_11ea_93be_0242ac1c0002row1_col7\" class=\"data row1 col7\" >0.629003</td>\n",
              "                        <td id=\"T_30572fd8_e896_11ea_93be_0242ac1c0002row1_col8\" class=\"data row1 col8\" >0.684964</td>\n",
              "                        <td id=\"T_30572fd8_e896_11ea_93be_0242ac1c0002row1_col9\" class=\"data row1 col9\" >0.635449</td>\n",
              "            </tr>\n",
              "            <tr>\n",
              "                        <th id=\"T_30572fd8_e896_11ea_93be_0242ac1c0002level0_row2\" class=\"row_heading level0 row2\" >Morango</th>\n",
              "                        <td id=\"T_30572fd8_e896_11ea_93be_0242ac1c0002row2_col0\" class=\"data row2 col0\" >0.516753</td>\n",
              "                        <td id=\"T_30572fd8_e896_11ea_93be_0242ac1c0002row2_col1\" class=\"data row2 col1\" >0.592915</td>\n",
              "                        <td id=\"T_30572fd8_e896_11ea_93be_0242ac1c0002row2_col2\" class=\"data row2 col2\" >1.000000</td>\n",
              "                        <td id=\"T_30572fd8_e896_11ea_93be_0242ac1c0002row2_col3\" class=\"data row2 col3\" >0.709744</td>\n",
              "                        <td id=\"T_30572fd8_e896_11ea_93be_0242ac1c0002row2_col4\" class=\"data row2 col4\" >0.701421</td>\n",
              "                        <td id=\"T_30572fd8_e896_11ea_93be_0242ac1c0002row2_col5\" class=\"data row2 col5\" >0.704512</td>\n",
              "                        <td id=\"T_30572fd8_e896_11ea_93be_0242ac1c0002row2_col6\" class=\"data row2 col6\" >0.646633</td>\n",
              "                        <td id=\"T_30572fd8_e896_11ea_93be_0242ac1c0002row2_col7\" class=\"data row2 col7\" >0.633467</td>\n",
              "                        <td id=\"T_30572fd8_e896_11ea_93be_0242ac1c0002row2_col8\" class=\"data row2 col8\" >0.653057</td>\n",
              "                        <td id=\"T_30572fd8_e896_11ea_93be_0242ac1c0002row2_col9\" class=\"data row2 col9\" >0.683610</td>\n",
              "            </tr>\n",
              "            <tr>\n",
              "                        <th id=\"T_30572fd8_e896_11ea_93be_0242ac1c0002level0_row3\" class=\"row_heading level0 row3\" >Amendoim </th>\n",
              "                        <td id=\"T_30572fd8_e896_11ea_93be_0242ac1c0002row3_col0\" class=\"data row3 col0\" >0.672054</td>\n",
              "                        <td id=\"T_30572fd8_e896_11ea_93be_0242ac1c0002row3_col1\" class=\"data row3 col1\" >0.627078</td>\n",
              "                        <td id=\"T_30572fd8_e896_11ea_93be_0242ac1c0002row3_col2\" class=\"data row3 col2\" >0.709744</td>\n",
              "                        <td id=\"T_30572fd8_e896_11ea_93be_0242ac1c0002row3_col3\" class=\"data row3 col3\" >1.000000</td>\n",
              "                        <td id=\"T_30572fd8_e896_11ea_93be_0242ac1c0002row3_col4\" class=\"data row3 col4\" >0.597292</td>\n",
              "                        <td id=\"T_30572fd8_e896_11ea_93be_0242ac1c0002row3_col5\" class=\"data row3 col5\" >0.752299</td>\n",
              "                        <td id=\"T_30572fd8_e896_11ea_93be_0242ac1c0002row3_col6\" class=\"data row3 col6\" >0.655237</td>\n",
              "                        <td id=\"T_30572fd8_e896_11ea_93be_0242ac1c0002row3_col7\" class=\"data row3 col7\" >0.713735</td>\n",
              "                        <td id=\"T_30572fd8_e896_11ea_93be_0242ac1c0002row3_col8\" class=\"data row3 col8\" >0.708713</td>\n",
              "                        <td id=\"T_30572fd8_e896_11ea_93be_0242ac1c0002row3_col9\" class=\"data row3 col9\" >0.785453</td>\n",
              "            </tr>\n",
              "            <tr>\n",
              "                        <th id=\"T_30572fd8_e896_11ea_93be_0242ac1c0002level0_row4\" class=\"row_heading level0 row4\" >Leite_ninho</th>\n",
              "                        <td id=\"T_30572fd8_e896_11ea_93be_0242ac1c0002row4_col0\" class=\"data row4 col0\" >0.568687</td>\n",
              "                        <td id=\"T_30572fd8_e896_11ea_93be_0242ac1c0002row4_col1\" class=\"data row4 col1\" >0.607768</td>\n",
              "                        <td id=\"T_30572fd8_e896_11ea_93be_0242ac1c0002row4_col2\" class=\"data row4 col2\" >0.701421</td>\n",
              "                        <td id=\"T_30572fd8_e896_11ea_93be_0242ac1c0002row4_col3\" class=\"data row4 col3\" >0.597292</td>\n",
              "                        <td id=\"T_30572fd8_e896_11ea_93be_0242ac1c0002row4_col4\" class=\"data row4 col4\" >1.000000</td>\n",
              "                        <td id=\"T_30572fd8_e896_11ea_93be_0242ac1c0002row4_col5\" class=\"data row4 col5\" >0.658027</td>\n",
              "                        <td id=\"T_30572fd8_e896_11ea_93be_0242ac1c0002row4_col6\" class=\"data row4 col6\" >0.755376</td>\n",
              "                        <td id=\"T_30572fd8_e896_11ea_93be_0242ac1c0002row4_col7\" class=\"data row4 col7\" >0.581175</td>\n",
              "                        <td id=\"T_30572fd8_e896_11ea_93be_0242ac1c0002row4_col8\" class=\"data row4 col8\" >0.671210</td>\n",
              "                        <td id=\"T_30572fd8_e896_11ea_93be_0242ac1c0002row4_col9\" class=\"data row4 col9\" >0.669537</td>\n",
              "            </tr>\n",
              "            <tr>\n",
              "                        <th id=\"T_30572fd8_e896_11ea_93be_0242ac1c0002level0_row5\" class=\"row_heading level0 row5\" >Abacaxi_suico</th>\n",
              "                        <td id=\"T_30572fd8_e896_11ea_93be_0242ac1c0002row5_col0\" class=\"data row5 col0\" >0.598025</td>\n",
              "                        <td id=\"T_30572fd8_e896_11ea_93be_0242ac1c0002row5_col1\" class=\"data row5 col1\" >0.612636</td>\n",
              "                        <td id=\"T_30572fd8_e896_11ea_93be_0242ac1c0002row5_col2\" class=\"data row5 col2\" >0.704512</td>\n",
              "                        <td id=\"T_30572fd8_e896_11ea_93be_0242ac1c0002row5_col3\" class=\"data row5 col3\" >0.752299</td>\n",
              "                        <td id=\"T_30572fd8_e896_11ea_93be_0242ac1c0002row5_col4\" class=\"data row5 col4\" >0.658027</td>\n",
              "                        <td id=\"T_30572fd8_e896_11ea_93be_0242ac1c0002row5_col5\" class=\"data row5 col5\" >1.000000</td>\n",
              "                        <td id=\"T_30572fd8_e896_11ea_93be_0242ac1c0002row5_col6\" class=\"data row5 col6\" >0.668048</td>\n",
              "                        <td id=\"T_30572fd8_e896_11ea_93be_0242ac1c0002row5_col7\" class=\"data row5 col7\" >0.705133</td>\n",
              "                        <td id=\"T_30572fd8_e896_11ea_93be_0242ac1c0002row5_col8\" class=\"data row5 col8\" >0.694670</td>\n",
              "                        <td id=\"T_30572fd8_e896_11ea_93be_0242ac1c0002row5_col9\" class=\"data row5 col9\" >0.683709</td>\n",
              "            </tr>\n",
              "            <tr>\n",
              "                        <th id=\"T_30572fd8_e896_11ea_93be_0242ac1c0002level0_row6\" class=\"row_heading level0 row6\" >Coco</th>\n",
              "                        <td id=\"T_30572fd8_e896_11ea_93be_0242ac1c0002row6_col0\" class=\"data row6 col0\" >0.607731</td>\n",
              "                        <td id=\"T_30572fd8_e896_11ea_93be_0242ac1c0002row6_col1\" class=\"data row6 col1\" >0.621355</td>\n",
              "                        <td id=\"T_30572fd8_e896_11ea_93be_0242ac1c0002row6_col2\" class=\"data row6 col2\" >0.646633</td>\n",
              "                        <td id=\"T_30572fd8_e896_11ea_93be_0242ac1c0002row6_col3\" class=\"data row6 col3\" >0.655237</td>\n",
              "                        <td id=\"T_30572fd8_e896_11ea_93be_0242ac1c0002row6_col4\" class=\"data row6 col4\" >0.755376</td>\n",
              "                        <td id=\"T_30572fd8_e896_11ea_93be_0242ac1c0002row6_col5\" class=\"data row6 col5\" >0.668048</td>\n",
              "                        <td id=\"T_30572fd8_e896_11ea_93be_0242ac1c0002row6_col6\" class=\"data row6 col6\" >1.000000</td>\n",
              "                        <td id=\"T_30572fd8_e896_11ea_93be_0242ac1c0002row6_col7\" class=\"data row6 col7\" >0.568937</td>\n",
              "                        <td id=\"T_30572fd8_e896_11ea_93be_0242ac1c0002row6_col8\" class=\"data row6 col8\" >0.634682</td>\n",
              "                        <td id=\"T_30572fd8_e896_11ea_93be_0242ac1c0002row6_col9\" class=\"data row6 col9\" >0.628737</td>\n",
              "            </tr>\n",
              "            <tr>\n",
              "                        <th id=\"T_30572fd8_e896_11ea_93be_0242ac1c0002level0_row7\" class=\"row_heading level0 row7\" >Limao</th>\n",
              "                        <td id=\"T_30572fd8_e896_11ea_93be_0242ac1c0002row7_col0\" class=\"data row7 col0\" >0.649765</td>\n",
              "                        <td id=\"T_30572fd8_e896_11ea_93be_0242ac1c0002row7_col1\" class=\"data row7 col1\" >0.629003</td>\n",
              "                        <td id=\"T_30572fd8_e896_11ea_93be_0242ac1c0002row7_col2\" class=\"data row7 col2\" >0.633467</td>\n",
              "                        <td id=\"T_30572fd8_e896_11ea_93be_0242ac1c0002row7_col3\" class=\"data row7 col3\" >0.713735</td>\n",
              "                        <td id=\"T_30572fd8_e896_11ea_93be_0242ac1c0002row7_col4\" class=\"data row7 col4\" >0.581175</td>\n",
              "                        <td id=\"T_30572fd8_e896_11ea_93be_0242ac1c0002row7_col5\" class=\"data row7 col5\" >0.705133</td>\n",
              "                        <td id=\"T_30572fd8_e896_11ea_93be_0242ac1c0002row7_col6\" class=\"data row7 col6\" >0.568937</td>\n",
              "                        <td id=\"T_30572fd8_e896_11ea_93be_0242ac1c0002row7_col7\" class=\"data row7 col7\" >1.000000</td>\n",
              "                        <td id=\"T_30572fd8_e896_11ea_93be_0242ac1c0002row7_col8\" class=\"data row7 col8\" >0.694944</td>\n",
              "                        <td id=\"T_30572fd8_e896_11ea_93be_0242ac1c0002row7_col9\" class=\"data row7 col9\" >0.674094</td>\n",
              "            </tr>\n",
              "            <tr>\n",
              "                        <th id=\"T_30572fd8_e896_11ea_93be_0242ac1c0002level0_row8\" class=\"row_heading level0 row8\" >Blue_ice</th>\n",
              "                        <td id=\"T_30572fd8_e896_11ea_93be_0242ac1c0002row8_col0\" class=\"data row8 col0\" >0.605454</td>\n",
              "                        <td id=\"T_30572fd8_e896_11ea_93be_0242ac1c0002row8_col1\" class=\"data row8 col1\" >0.684964</td>\n",
              "                        <td id=\"T_30572fd8_e896_11ea_93be_0242ac1c0002row8_col2\" class=\"data row8 col2\" >0.653057</td>\n",
              "                        <td id=\"T_30572fd8_e896_11ea_93be_0242ac1c0002row8_col3\" class=\"data row8 col3\" >0.708713</td>\n",
              "                        <td id=\"T_30572fd8_e896_11ea_93be_0242ac1c0002row8_col4\" class=\"data row8 col4\" >0.671210</td>\n",
              "                        <td id=\"T_30572fd8_e896_11ea_93be_0242ac1c0002row8_col5\" class=\"data row8 col5\" >0.694670</td>\n",
              "                        <td id=\"T_30572fd8_e896_11ea_93be_0242ac1c0002row8_col6\" class=\"data row8 col6\" >0.634682</td>\n",
              "                        <td id=\"T_30572fd8_e896_11ea_93be_0242ac1c0002row8_col7\" class=\"data row8 col7\" >0.694944</td>\n",
              "                        <td id=\"T_30572fd8_e896_11ea_93be_0242ac1c0002row8_col8\" class=\"data row8 col8\" >1.000000</td>\n",
              "                        <td id=\"T_30572fd8_e896_11ea_93be_0242ac1c0002row8_col9\" class=\"data row8 col9\" >0.762889</td>\n",
              "            </tr>\n",
              "            <tr>\n",
              "                        <th id=\"T_30572fd8_e896_11ea_93be_0242ac1c0002level0_row9\" class=\"row_heading level0 row9\" >Maracuja</th>\n",
              "                        <td id=\"T_30572fd8_e896_11ea_93be_0242ac1c0002row9_col0\" class=\"data row9 col0\" >0.606074</td>\n",
              "                        <td id=\"T_30572fd8_e896_11ea_93be_0242ac1c0002row9_col1\" class=\"data row9 col1\" >0.635449</td>\n",
              "                        <td id=\"T_30572fd8_e896_11ea_93be_0242ac1c0002row9_col2\" class=\"data row9 col2\" >0.683610</td>\n",
              "                        <td id=\"T_30572fd8_e896_11ea_93be_0242ac1c0002row9_col3\" class=\"data row9 col3\" >0.785453</td>\n",
              "                        <td id=\"T_30572fd8_e896_11ea_93be_0242ac1c0002row9_col4\" class=\"data row9 col4\" >0.669537</td>\n",
              "                        <td id=\"T_30572fd8_e896_11ea_93be_0242ac1c0002row9_col5\" class=\"data row9 col5\" >0.683709</td>\n",
              "                        <td id=\"T_30572fd8_e896_11ea_93be_0242ac1c0002row9_col6\" class=\"data row9 col6\" >0.628737</td>\n",
              "                        <td id=\"T_30572fd8_e896_11ea_93be_0242ac1c0002row9_col7\" class=\"data row9 col7\" >0.674094</td>\n",
              "                        <td id=\"T_30572fd8_e896_11ea_93be_0242ac1c0002row9_col8\" class=\"data row9 col8\" >0.762889</td>\n",
              "                        <td id=\"T_30572fd8_e896_11ea_93be_0242ac1c0002row9_col9\" class=\"data row9 col9\" >1.000000</td>\n",
              "            </tr>\n",
              "    </tbody></table>"
            ],
            "text/plain": [
              "<pandas.io.formats.style.Styler at 0x7f778d2bf278>"
            ]
          },
          "metadata": {
            "tags": []
          },
          "execution_count": 138
        }
      ]
    },
    {
      "cell_type": "markdown",
      "metadata": {
        "id": "-xC_PYZ0gyZL"
      },
      "source": [
        "#4)  Visualização dos dados vendas dos sabores de picolés\n",
        "---\n",
        "##4.1) Box Plot de todas os sabores de picolés"
      ]
    },
    {
      "cell_type": "code",
      "metadata": {
        "id": "bd8bx_1Ik4_H",
        "outputId": "2bbbeb61-8ea5-4154-f905-08bafd350814",
        "colab": {
          "base_uri": "https://localhost:8080/",
          "height": 542
        }
      },
      "source": [
        "#Todos os sabores descritos em uma lista\n",
        "sabores = [\"Chocolate\", \"Pistache\", \"Morango\", \"Amendoim\", \"Leite_ninho\" , \"Abacaxi_suico\", \"Coco\", \"Limao\", \"Blue_ice\", \"Maracuja\" ]\n",
        "\n",
        "#Box Plot de todas os sabores de picolés\n",
        "fig = go.Figure()\n",
        "for i in range(0,10):\n",
        "  fig.add_trace( go.Box ( y = df.iloc[:,i] ,  name = sabores[i] , \n",
        "                marker_color='#FF4136' )) \n",
        "fig.show ()"
      ],
      "execution_count": null,
      "outputs": [
        {
          "output_type": "display_data",
          "data": {
            "text/html": [
              "<html>\n",
              "<head><meta charset=\"utf-8\" /></head>\n",
              "<body>\n",
              "    <div>\n",
              "            <script src=\"https://cdnjs.cloudflare.com/ajax/libs/mathjax/2.7.5/MathJax.js?config=TeX-AMS-MML_SVG\"></script><script type=\"text/javascript\">if (window.MathJax) {MathJax.Hub.Config({SVG: {font: \"STIX-Web\"}});}</script>\n",
              "                <script type=\"text/javascript\">window.PlotlyConfig = {MathJaxConfig: 'local'};</script>\n",
              "        <script src=\"https://cdn.plot.ly/plotly-latest.min.js\"></script>    \n",
              "            <div id=\"5b0e71dc-6cb5-4eb3-af9e-323de9999d78\" class=\"plotly-graph-div\" style=\"height:525px; width:100%;\"></div>\n",
              "            <script type=\"text/javascript\">\n",
              "                \n",
              "                    window.PLOTLYENV=window.PLOTLYENV || {};\n",
              "                    \n",
              "                if (document.getElementById(\"5b0e71dc-6cb5-4eb3-af9e-323de9999d78\")) {\n",
              "                    Plotly.newPlot(\n",
              "                        '5b0e71dc-6cb5-4eb3-af9e-323de9999d78',\n",
              "                        [{\"marker\": {\"color\": \"#FF4136\"}, \"name\": \"Chocolate\", \"type\": \"box\", \"y\": [\"01/10/2019\", \"02/10/2019\", \"03/10/2019\", \"04/10/2019\", \"05/10/2019\", \"06/10/2019\", \"07/10/2019\", \"08/10/2019\", \"09/10/2019\", \"10/10/2019\", \"11/10/2019\", \"12/10/2019\", \"13/10/2019\", \"14/10/2019\", \"15/10/2019\", \"16/10/2019\", \"17/10/2019\", \"18/10/2019\", \"19/10/2019\", \"20/10/2019\", \"21/10/2019\", \"22/10/2019\", \"23/10/2019\", \"24/10/2019\", \"25/10/2019\", \"26/10/2019\", \"27/10/2019\", \"28/10/2019\", \"29/10/2019\", \"30/10/2019\", \"31/10/2019\", \"01/11/2019\", \"02/11/2019\", \"03/11/2019\", \"04/11/2019\", \"05/11/2019\", \"06/11/2019\", \"07/11/2019\", \"08/11/2019\", \"09/11/2019\", \"10/11/2019\", \"11/11/2019\", \"12/11/2019\", \"13/11/2019\", \"14/11/2019\", \"15/11/2019\", \"16/11/2019\", \"17/11/2019\", \"18/11/2019\", \"19/11/2019\", \"20/11/2019\", \"21/11/2019\", \"22/11/2019\", \"23/11/2019\", \"24/11/2019\", \"25/11/2019\", \"26/11/2019\", \"27/11/2019\", \"28/11/2019\", \"29/11/2019\", \"30/11/2019\"]}, {\"marker\": {\"color\": \"#FF4136\"}, \"name\": \"Pistache\", \"type\": \"box\", \"y\": [34, 51, 42, 30, 60, 50, 62, 37, 43, 30, 36, 59, 60, 78, 50, 42, 14, 44, 33, 68, 47, 30, 41, 35, 40, 77, 50, 59, 32, 39, 31, 68, 32, 53, 80, 40, 37, 29, 30, 45, 57, 60, 32, 40, 34, 46, 49, 60, 76, 40, 38, 40, 32, 54, 50, 57, 43, 56, 34, 30, 53]}, {\"marker\": {\"color\": \"#FF4136\"}, \"name\": \"Morango\", \"type\": \"box\", \"y\": [8, 7, 12, 19, 32, 33, 29, 16, 6, 0, 12, 27, 20, 34, 14, 21, 0, 9, 29, 35, 30, 15, 18, 11, 6, 11, 20, 32, 10, 23, 10, 9, 8, 20, 32, 10, 14, 10, 16, 20, 31, 34, 10, 10, 13, 22, 14, 26, 25, 12, 10, 13, 9, 30, 24, 36, 22, 14, 11, 9, 20]}, {\"marker\": {\"color\": \"#FF4136\"}, \"name\": \"Amendoim\", \"type\": \"box\", \"y\": [27, 22, 31, 30, 34, 44, 62, 20, 40, 12, 34, 46, 63, 54, 37, 27, 21, 40, 45, 42, 63, 28, 29, 32, 34, 37, 43, 40, 45, 13, 18, 19, 38, 49, 51, 38, 36, 22, 39, 36, 41, 60, 19, 23, 16, 22, 40, 50, 42, 43, 30, 18, 37, 39, 43, 58, 19, 20, 11, 34, 39]}, {\"marker\": {\"color\": \"#FF4136\"}, \"name\": \"Leite_ninho\", \"type\": \"box\", \"y\": [23, 36, 24, 31, 47, 51, 49, 25, 32, 13, 28, 47, 46, 54, 33, 22, 29, 34, 41, 46, 64, 30, 16, 30, 24, 50, 56, 53, 25, 20, 44, 23, 40, 57, 58, 31, 30, 24, 21, 36, 55, 41, 30, 22, 10, 23, 48, 60, 67, 42, 20, 23, 29, 40, 48, 50, 31, 44, 20, 37, 50]}, {\"marker\": {\"color\": \"#FF4136\"}, \"name\": \"Abacaxi_suico\", \"type\": \"box\", \"y\": [22, 20, 31, 36, 40, 44, 56, 30, 24, 26, 20, 45, 52, 50, 49, 47, 26, 41, 36, 50, 41, 33, 45, 29, 45, 54, 40, 53, 42, 29, 19, 21, 53, 57, 40, 36, 30, 23, 29, 46, 51, 60, 30, 25, 29, 18, 49, 40, 53, 20, 26, 31, 37, 48, 43, 61, 34, 28, 18, 26, 50]}, {\"marker\": {\"color\": \"#FF4136\"}, \"name\": \"Coco\", \"type\": \"box\", \"y\": [17, 26, 33, 30, 41, 45, 42, 20, 33, 13, 34, 42, 53, 58, 26, 17, 19, 20, 38, 40, 59, 24, 20, 8, 36, 43, 59, 54, 20, 7, 23, 20, 44, 51, 39, 19, 20, 23, 28, 48, 37, 64, 16, 34, 32, 20, 41, 40, 56, 27, 30, 19, 20, 49, 62, 43, 26, 31, 24, 30, 55]}, {\"marker\": {\"color\": \"#FF4136\"}, \"name\": \"Limao\", \"type\": \"box\", \"y\": [22, 14, 23, 21, 40, 45, 48, 26, 11, 14, 29, 42, 44, 40, 27, 15, 16, 19, 31, 33, 37, 22, 36, 20, 27, 48, 30, 42, 27, 11, 14, 10, 32, 50, 35, 22, 21, 28, 22, 31, 36, 44, 37, 25, 18, 28, 40, 33, 52, 10, 29, 8, 26, 33, 29, 50, 22, 37, 7, 5, 29]}, {\"marker\": {\"color\": \"#FF4136\"}, \"name\": \"Blue_ice\", \"type\": \"box\", \"y\": [2, 17, 11, 12, 22, 33, 44, 9, 20, 1, 25, 36, 42, 43, 11, 18, 5, 8, 22, 43, 35, 25, 11, 22, 28, 36, 55, 34, 4, 25, 22, 24, 41, 19, 44, 16, 29, 20, 10, 20, 39, 29, 9, 11, 13, 23, 33, 34, 41, 11, 22, 6, 10, 46, 33, 41, 3, 9, 10, 22, 33]}, {\"marker\": {\"color\": \"#FF4136\"}, \"name\": \"Maracuja\", \"type\": \"box\", \"y\": [32, 18, 19, 22, 38, 51, 43, 16, 15, 24, 9, 36, 53, 47, 38, 30, 17, 20, 41, 48, 57, 8, 17, 27, 19, 41, 48, 58, 21, 39, 22, 30, 50, 44, 61, 24, 25, 16, 38, 46, 49, 48, 32, 20, 29, 31, 39, 48, 42, 18, 27, 8, 38, 42, 51, 43, 18, 27, 13, 28, 48]}],\n",
              "                        {\"template\": {\"data\": {\"bar\": [{\"error_x\": {\"color\": \"#2a3f5f\"}, \"error_y\": {\"color\": \"#2a3f5f\"}, \"marker\": {\"line\": {\"color\": \"#E5ECF6\", \"width\": 0.5}}, \"type\": \"bar\"}], \"barpolar\": [{\"marker\": {\"line\": {\"color\": \"#E5ECF6\", \"width\": 0.5}}, \"type\": \"barpolar\"}], \"carpet\": [{\"aaxis\": {\"endlinecolor\": \"#2a3f5f\", \"gridcolor\": \"white\", \"linecolor\": \"white\", \"minorgridcolor\": \"white\", \"startlinecolor\": \"#2a3f5f\"}, \"baxis\": {\"endlinecolor\": \"#2a3f5f\", \"gridcolor\": \"white\", \"linecolor\": \"white\", \"minorgridcolor\": \"white\", \"startlinecolor\": \"#2a3f5f\"}, \"type\": \"carpet\"}], \"choropleth\": [{\"colorbar\": {\"outlinewidth\": 0, \"ticks\": \"\"}, \"type\": \"choropleth\"}], \"contour\": [{\"colorbar\": {\"outlinewidth\": 0, \"ticks\": \"\"}, \"colorscale\": [[0.0, \"#0d0887\"], [0.1111111111111111, \"#46039f\"], [0.2222222222222222, \"#7201a8\"], [0.3333333333333333, \"#9c179e\"], [0.4444444444444444, \"#bd3786\"], [0.5555555555555556, \"#d8576b\"], [0.6666666666666666, \"#ed7953\"], [0.7777777777777778, \"#fb9f3a\"], [0.8888888888888888, \"#fdca26\"], [1.0, \"#f0f921\"]], \"type\": \"contour\"}], \"contourcarpet\": [{\"colorbar\": {\"outlinewidth\": 0, \"ticks\": \"\"}, \"type\": \"contourcarpet\"}], \"heatmap\": [{\"colorbar\": {\"outlinewidth\": 0, \"ticks\": \"\"}, \"colorscale\": [[0.0, \"#0d0887\"], [0.1111111111111111, \"#46039f\"], [0.2222222222222222, \"#7201a8\"], [0.3333333333333333, \"#9c179e\"], [0.4444444444444444, \"#bd3786\"], [0.5555555555555556, \"#d8576b\"], [0.6666666666666666, \"#ed7953\"], [0.7777777777777778, \"#fb9f3a\"], [0.8888888888888888, \"#fdca26\"], [1.0, \"#f0f921\"]], \"type\": \"heatmap\"}], \"heatmapgl\": [{\"colorbar\": {\"outlinewidth\": 0, \"ticks\": \"\"}, \"colorscale\": [[0.0, \"#0d0887\"], [0.1111111111111111, \"#46039f\"], [0.2222222222222222, \"#7201a8\"], [0.3333333333333333, \"#9c179e\"], [0.4444444444444444, \"#bd3786\"], [0.5555555555555556, \"#d8576b\"], [0.6666666666666666, \"#ed7953\"], [0.7777777777777778, \"#fb9f3a\"], [0.8888888888888888, \"#fdca26\"], [1.0, \"#f0f921\"]], \"type\": \"heatmapgl\"}], \"histogram\": [{\"marker\": {\"colorbar\": {\"outlinewidth\": 0, \"ticks\": \"\"}}, \"type\": \"histogram\"}], \"histogram2d\": [{\"colorbar\": {\"outlinewidth\": 0, \"ticks\": \"\"}, \"colorscale\": [[0.0, \"#0d0887\"], [0.1111111111111111, \"#46039f\"], [0.2222222222222222, \"#7201a8\"], [0.3333333333333333, \"#9c179e\"], [0.4444444444444444, \"#bd3786\"], [0.5555555555555556, \"#d8576b\"], [0.6666666666666666, \"#ed7953\"], [0.7777777777777778, \"#fb9f3a\"], [0.8888888888888888, \"#fdca26\"], [1.0, \"#f0f921\"]], \"type\": \"histogram2d\"}], \"histogram2dcontour\": [{\"colorbar\": {\"outlinewidth\": 0, \"ticks\": \"\"}, \"colorscale\": [[0.0, \"#0d0887\"], [0.1111111111111111, \"#46039f\"], [0.2222222222222222, \"#7201a8\"], [0.3333333333333333, \"#9c179e\"], [0.4444444444444444, \"#bd3786\"], [0.5555555555555556, \"#d8576b\"], [0.6666666666666666, \"#ed7953\"], [0.7777777777777778, \"#fb9f3a\"], [0.8888888888888888, \"#fdca26\"], [1.0, \"#f0f921\"]], \"type\": \"histogram2dcontour\"}], \"mesh3d\": [{\"colorbar\": {\"outlinewidth\": 0, \"ticks\": \"\"}, \"type\": \"mesh3d\"}], \"parcoords\": [{\"line\": {\"colorbar\": {\"outlinewidth\": 0, \"ticks\": \"\"}}, \"type\": \"parcoords\"}], \"pie\": [{\"automargin\": true, \"type\": \"pie\"}], \"scatter\": [{\"marker\": {\"colorbar\": {\"outlinewidth\": 0, \"ticks\": \"\"}}, \"type\": \"scatter\"}], \"scatter3d\": [{\"line\": {\"colorbar\": {\"outlinewidth\": 0, \"ticks\": \"\"}}, \"marker\": {\"colorbar\": {\"outlinewidth\": 0, \"ticks\": \"\"}}, \"type\": \"scatter3d\"}], \"scattercarpet\": [{\"marker\": {\"colorbar\": {\"outlinewidth\": 0, \"ticks\": \"\"}}, \"type\": \"scattercarpet\"}], \"scattergeo\": [{\"marker\": {\"colorbar\": {\"outlinewidth\": 0, \"ticks\": \"\"}}, \"type\": \"scattergeo\"}], \"scattergl\": [{\"marker\": {\"colorbar\": {\"outlinewidth\": 0, \"ticks\": \"\"}}, \"type\": \"scattergl\"}], \"scattermapbox\": [{\"marker\": {\"colorbar\": {\"outlinewidth\": 0, \"ticks\": \"\"}}, \"type\": \"scattermapbox\"}], \"scatterpolar\": [{\"marker\": {\"colorbar\": {\"outlinewidth\": 0, \"ticks\": \"\"}}, \"type\": \"scatterpolar\"}], \"scatterpolargl\": [{\"marker\": {\"colorbar\": {\"outlinewidth\": 0, \"ticks\": \"\"}}, \"type\": \"scatterpolargl\"}], \"scatterternary\": [{\"marker\": {\"colorbar\": {\"outlinewidth\": 0, \"ticks\": \"\"}}, \"type\": \"scatterternary\"}], \"surface\": [{\"colorbar\": {\"outlinewidth\": 0, \"ticks\": \"\"}, \"colorscale\": [[0.0, \"#0d0887\"], [0.1111111111111111, \"#46039f\"], [0.2222222222222222, \"#7201a8\"], [0.3333333333333333, \"#9c179e\"], [0.4444444444444444, \"#bd3786\"], [0.5555555555555556, \"#d8576b\"], [0.6666666666666666, \"#ed7953\"], [0.7777777777777778, \"#fb9f3a\"], [0.8888888888888888, \"#fdca26\"], [1.0, \"#f0f921\"]], \"type\": \"surface\"}], \"table\": [{\"cells\": {\"fill\": {\"color\": \"#EBF0F8\"}, \"line\": {\"color\": \"white\"}}, \"header\": {\"fill\": {\"color\": \"#C8D4E3\"}, \"line\": {\"color\": \"white\"}}, \"type\": \"table\"}]}, \"layout\": {\"annotationdefaults\": {\"arrowcolor\": \"#2a3f5f\", \"arrowhead\": 0, \"arrowwidth\": 1}, \"coloraxis\": {\"colorbar\": {\"outlinewidth\": 0, \"ticks\": \"\"}}, \"colorscale\": {\"diverging\": [[0, \"#8e0152\"], [0.1, \"#c51b7d\"], [0.2, \"#de77ae\"], [0.3, \"#f1b6da\"], [0.4, \"#fde0ef\"], [0.5, \"#f7f7f7\"], [0.6, \"#e6f5d0\"], [0.7, \"#b8e186\"], [0.8, \"#7fbc41\"], [0.9, \"#4d9221\"], [1, \"#276419\"]], \"sequential\": [[0.0, \"#0d0887\"], [0.1111111111111111, \"#46039f\"], [0.2222222222222222, \"#7201a8\"], [0.3333333333333333, \"#9c179e\"], [0.4444444444444444, \"#bd3786\"], [0.5555555555555556, \"#d8576b\"], [0.6666666666666666, \"#ed7953\"], [0.7777777777777778, \"#fb9f3a\"], [0.8888888888888888, \"#fdca26\"], [1.0, \"#f0f921\"]], \"sequentialminus\": [[0.0, \"#0d0887\"], [0.1111111111111111, \"#46039f\"], [0.2222222222222222, \"#7201a8\"], [0.3333333333333333, \"#9c179e\"], [0.4444444444444444, \"#bd3786\"], [0.5555555555555556, \"#d8576b\"], [0.6666666666666666, \"#ed7953\"], [0.7777777777777778, \"#fb9f3a\"], [0.8888888888888888, \"#fdca26\"], [1.0, \"#f0f921\"]]}, \"colorway\": [\"#636efa\", \"#EF553B\", \"#00cc96\", \"#ab63fa\", \"#FFA15A\", \"#19d3f3\", \"#FF6692\", \"#B6E880\", \"#FF97FF\", \"#FECB52\"], \"font\": {\"color\": \"#2a3f5f\"}, \"geo\": {\"bgcolor\": \"white\", \"lakecolor\": \"white\", \"landcolor\": \"#E5ECF6\", \"showlakes\": true, \"showland\": true, \"subunitcolor\": \"white\"}, \"hoverlabel\": {\"align\": \"left\"}, \"hovermode\": \"closest\", \"mapbox\": {\"style\": \"light\"}, \"paper_bgcolor\": \"white\", \"plot_bgcolor\": \"#E5ECF6\", \"polar\": {\"angularaxis\": {\"gridcolor\": \"white\", \"linecolor\": \"white\", \"ticks\": \"\"}, \"bgcolor\": \"#E5ECF6\", \"radialaxis\": {\"gridcolor\": \"white\", \"linecolor\": \"white\", \"ticks\": \"\"}}, \"scene\": {\"xaxis\": {\"backgroundcolor\": \"#E5ECF6\", \"gridcolor\": \"white\", \"gridwidth\": 2, \"linecolor\": \"white\", \"showbackground\": true, \"ticks\": \"\", \"zerolinecolor\": \"white\"}, \"yaxis\": {\"backgroundcolor\": \"#E5ECF6\", \"gridcolor\": \"white\", \"gridwidth\": 2, \"linecolor\": \"white\", \"showbackground\": true, \"ticks\": \"\", \"zerolinecolor\": \"white\"}, \"zaxis\": {\"backgroundcolor\": \"#E5ECF6\", \"gridcolor\": \"white\", \"gridwidth\": 2, \"linecolor\": \"white\", \"showbackground\": true, \"ticks\": \"\", \"zerolinecolor\": \"white\"}}, \"shapedefaults\": {\"line\": {\"color\": \"#2a3f5f\"}}, \"ternary\": {\"aaxis\": {\"gridcolor\": \"white\", \"linecolor\": \"white\", \"ticks\": \"\"}, \"baxis\": {\"gridcolor\": \"white\", \"linecolor\": \"white\", \"ticks\": \"\"}, \"bgcolor\": \"#E5ECF6\", \"caxis\": {\"gridcolor\": \"white\", \"linecolor\": \"white\", \"ticks\": \"\"}}, \"title\": {\"x\": 0.05}, \"xaxis\": {\"automargin\": true, \"gridcolor\": \"white\", \"linecolor\": \"white\", \"ticks\": \"\", \"title\": {\"standoff\": 15}, \"zerolinecolor\": \"white\", \"zerolinewidth\": 2}, \"yaxis\": {\"automargin\": true, \"gridcolor\": \"white\", \"linecolor\": \"white\", \"ticks\": \"\", \"title\": {\"standoff\": 15}, \"zerolinecolor\": \"white\", \"zerolinewidth\": 2}}}},\n",
              "                        {\"responsive\": true}\n",
              "                    ).then(function(){\n",
              "                            \n",
              "var gd = document.getElementById('5b0e71dc-6cb5-4eb3-af9e-323de9999d78');\n",
              "var x = new MutationObserver(function (mutations, observer) {{\n",
              "        var display = window.getComputedStyle(gd).display;\n",
              "        if (!display || display === 'none') {{\n",
              "            console.log([gd, 'removed!']);\n",
              "            Plotly.purge(gd);\n",
              "            observer.disconnect();\n",
              "        }}\n",
              "}});\n",
              "\n",
              "// Listen for the removal of the full notebook cells\n",
              "var notebookContainer = gd.closest('#notebook-container');\n",
              "if (notebookContainer) {{\n",
              "    x.observe(notebookContainer, {childList: true});\n",
              "}}\n",
              "\n",
              "// Listen for the clearing of the current output cell\n",
              "var outputEl = gd.closest('.output');\n",
              "if (outputEl) {{\n",
              "    x.observe(outputEl, {childList: true});\n",
              "}}\n",
              "\n",
              "                        })\n",
              "                };\n",
              "                \n",
              "            </script>\n",
              "        </div>\n",
              "</body>\n",
              "</html>"
            ]
          },
          "metadata": {
            "tags": []
          }
        }
      ]
    },
    {
      "cell_type": "markdown",
      "metadata": {
        "id": "hui7AEYChP_q"
      },
      "source": [
        "##4.2) Histogramas de cada sabor de picolé"
      ]
    },
    {
      "cell_type": "code",
      "metadata": {
        "id": "ncZRt02jvjWb",
        "outputId": "17888bad-d64f-4db4-e001-2a999529e4e5",
        "colab": {
          "base_uri": "https://localhost:8080/",
          "height": 420
        }
      },
      "source": [
        "plt.style.use('fivethirtyeight')\n",
        "plt.figure(1 , figsize = (20 , 6))\n",
        "n = 0 \n",
        "for i in range(3):\n",
        "  n += 1\n",
        "  plt.subplot(1 , 3 , n)\n",
        "  plt.subplots_adjust()\n",
        "  sns.distplot(df.iloc[:,i+1], color= '#FF4136')\n",
        "plt.show()"
      ],
      "execution_count": null,
      "outputs": [
        {
          "output_type": "display_data",
          "data": {
            "image/png": "[encoded data removed]",
            "text/plain": [
              "<Figure size 1440x432 with 3 Axes>"
            ]
          },
          "metadata": {
            "tags": []
          }
        }
      ]
    },
    {
      "cell_type": "code",
      "metadata": {
        "id": "mfZ2ohBlyVJD",
        "outputId": "638be74a-8903-4e73-dde6-24ad30de1936",
        "colab": {
          "base_uri": "https://localhost:8080/",
          "height": 426
        }
      },
      "source": [
        "plt.style.use('fivethirtyeight')\n",
        "plt.figure(1 , figsize = (20 , 6))\n",
        "n = 0 \n",
        "for i in range(3):\n",
        "  n += 1\n",
        "  plt.subplot(1 , 3 , n)\n",
        "  sns.distplot(df.iloc[:,i+4], color= '#FF4136')\n",
        "plt.show()"
      ],
      "execution_count": null,
      "outputs": [
        {
          "output_type": "display_data",
          "data": {
            "image/png": "[encoded data removed]",
            "text/plain": [
              "<Figure size 1440x432 with 3 Axes>"
            ]
          },
          "metadata": {
            "tags": []
          }
        }
      ]
    },
    {
      "cell_type": "code",
      "metadata": {
        "id": "BVtgkLy0zgUq",
        "outputId": "b03e864b-8d52-415d-ea61-6b618428d1d2",
        "colab": {
          "base_uri": "https://localhost:8080/",
          "height": 425
        }
      },
      "source": [
        "plt.style.use('fivethirtyeight')\n",
        "plt.figure(1 , figsize = (20 , 6))\n",
        "n = 0 \n",
        "for i in range(4):\n",
        "  n += 1\n",
        "  plt.subplot(1 , 4 , n)\n",
        "  sns.distplot(df.iloc[:,i+7], color= '#FF4136')\n",
        "plt.show()"
      ],
      "execution_count": null,
      "outputs": [
        {
          "output_type": "display_data",
          "data": {
            "image/png": "[encoded data removed]",
            "text/plain": [
              "<Figure size 1440x432 with 4 Axes>"
            ]
          },
          "metadata": {
            "tags": []
          }
        }
      ]
    },
    {
      "cell_type": "code",
      "metadata": {
        "id": "0CxW5Y-R5XuR",
        "outputId": "36c0fb05-3b8f-472e-b465-e96a8034f637",
        "colab": {
          "base_uri": "https://localhost:8080/",
          "height": 418
        }
      },
      "source": [
        "plt.style.use('seaborn-deep')\n",
        "plt.figure(1 , figsize = (15 , 6))\n",
        "df.iloc[:,1].hist( color= 'b', bins=8)\n",
        "plt.xlabel(\"Vendas do picolé de Chocolate \", fontsize=15)\n",
        "plt.ylabel(\"Frequência Absoluta\",fontsize=15)\n",
        "plt.xlim([14,80])\n",
        "plt.show()"
      ],
      "execution_count": null,
      "outputs": [
        {
          "output_type": "display_data",
          "data": {
            "image/png": "[encoded data removed]",
            "text/plain": [
              "<Figure size 1080x432 with 1 Axes>"
            ]
          },
          "metadata": {
            "tags": []
          }
        }
      ]
    },
    {
      "cell_type": "code",
      "metadata": {
        "id": "hzQZ02SMy7Vn",
        "outputId": "df0c5df1-1492-4ac5-8620-9d5704dfc7ec",
        "colab": {
          "base_uri": "https://localhost:8080/",
          "height": 70
        }
      },
      "source": [
        "from scipy import stats\n",
        "a = np.array(df.iloc[:,1])\n",
        "res = stats.relfreq(a, numbins=8)\n",
        "print(res.frequency)\n",
        "print(np.sum(res.frequency))\n",
        "rng = np.random.RandomState(seed=12345)\n",
        "samples = stats.norm.rvs(size=61, random_state=rng)\n",
        "res = stats.relfreq(samples, numbins=25)"
      ],
      "execution_count": null,
      "outputs": [
        {
          "output_type": "stream",
          "text": [
            "[0.01639344 0.         0.31147541 0.24590164 0.18032787 0.14754098\n",
            " 0.03278689 0.06557377]\n",
            "1.0\n"
          ],
          "name": "stdout"
        }
      ]
    },
    {
      "cell_type": "markdown",
      "metadata": {
        "id": "G5JpjUvQyv49"
      },
      "source": [
        "#5) Organizando o banco de dados de vendas por semana\n",
        "\n",
        "\n"
      ]
    },
    {
      "cell_type": "code",
      "metadata": {
        "id": "GoRp4h0OSxT2",
        "outputId": "0e5de4ad-6e67-4199-ec0a-8a427548cbd3",
        "colab": {
          "base_uri": "https://localhost:8080/"
        }
      },
      "source": [
        "#duplicando o banco de dados para não editarmos o original\n",
        "df_semana = df\n",
        "\n",
        "#Transformando as datas do formato STR para DATE\n",
        "for i in range(len(df_semana.iloc[:,0])):\n",
        "  df_semana.iloc[i,0] = datetime.strptime(df_semana.iloc[i,0], '%d/%m/%Y').date()\n",
        "df_semana.head()"
      ],
      "execution_count": null,
      "outputs": [
        {
          "output_type": "execute_result",
          "data": {
            "text/html": [
              "<div>\n",
              "<style scoped>\n",
              "    .dataframe tbody tr th:only-of-type {\n",
              "        vertical-align: middle;\n",
              "    }\n",
              "\n",
              "    .dataframe tbody tr th {\n",
              "        vertical-align: top;\n",
              "    }\n",
              "\n",
              "    .dataframe thead th {\n",
              "        text-align: right;\n",
              "    }\n",
              "</style>\n",
              "<table border=\"1\" class=\"dataframe\">\n",
              "  <thead>\n",
              "    <tr style=\"text-align: right;\">\n",
              "      <th></th>\n",
              "      <th>Dia</th>\n",
              "      <th>Chocolate</th>\n",
              "      <th>Pistache</th>\n",
              "      <th>Morango</th>\n",
              "      <th>Amendoim</th>\n",
              "      <th>Leite_ninho</th>\n",
              "      <th>Abacaxi_suico</th>\n",
              "      <th>Coco</th>\n",
              "      <th>Limao</th>\n",
              "      <th>Blue_ice</th>\n",
              "      <th>Maracuja</th>\n",
              "    </tr>\n",
              "  </thead>\n",
              "  <tbody>\n",
              "    <tr>\n",
              "      <th>0</th>\n",
              "      <td>2019-10-01</td>\n",
              "      <td>34</td>\n",
              "      <td>8</td>\n",
              "      <td>27</td>\n",
              "      <td>23</td>\n",
              "      <td>22</td>\n",
              "      <td>17</td>\n",
              "      <td>22</td>\n",
              "      <td>2</td>\n",
              "      <td>32</td>\n",
              "      <td>32</td>\n",
              "    </tr>\n",
              "    <tr>\n",
              "      <th>1</th>\n",
              "      <td>2019-10-02</td>\n",
              "      <td>51</td>\n",
              "      <td>7</td>\n",
              "      <td>22</td>\n",
              "      <td>36</td>\n",
              "      <td>20</td>\n",
              "      <td>26</td>\n",
              "      <td>14</td>\n",
              "      <td>17</td>\n",
              "      <td>18</td>\n",
              "      <td>30</td>\n",
              "    </tr>\n",
              "    <tr>\n",
              "      <th>2</th>\n",
              "      <td>2019-10-03</td>\n",
              "      <td>42</td>\n",
              "      <td>12</td>\n",
              "      <td>31</td>\n",
              "      <td>24</td>\n",
              "      <td>31</td>\n",
              "      <td>33</td>\n",
              "      <td>23</td>\n",
              "      <td>11</td>\n",
              "      <td>19</td>\n",
              "      <td>36</td>\n",
              "    </tr>\n",
              "    <tr>\n",
              "      <th>3</th>\n",
              "      <td>2019-10-04</td>\n",
              "      <td>30</td>\n",
              "      <td>19</td>\n",
              "      <td>30</td>\n",
              "      <td>31</td>\n",
              "      <td>36</td>\n",
              "      <td>30</td>\n",
              "      <td>21</td>\n",
              "      <td>12</td>\n",
              "      <td>22</td>\n",
              "      <td>19</td>\n",
              "    </tr>\n",
              "    <tr>\n",
              "      <th>4</th>\n",
              "      <td>2019-10-05</td>\n",
              "      <td>60</td>\n",
              "      <td>32</td>\n",
              "      <td>34</td>\n",
              "      <td>47</td>\n",
              "      <td>40</td>\n",
              "      <td>41</td>\n",
              "      <td>40</td>\n",
              "      <td>22</td>\n",
              "      <td>38</td>\n",
              "      <td>41</td>\n",
              "    </tr>\n",
              "  </tbody>\n",
              "</table>\n",
              "</div>"
            ],
            "text/plain": [
              "          Dia  Chocolate  Pistache  Morango  ...  Coco  Limao  Blue_ice  Maracuja\n",
              "0  2019-10-01         34         8       27  ...    22      2        32        32\n",
              "1  2019-10-02         51         7       22  ...    14     17        18        30\n",
              "2  2019-10-03         42        12       31  ...    23     11        19        36\n",
              "3  2019-10-04         30        19       30  ...    21     12        22        19\n",
              "4  2019-10-05         60        32       34  ...    40     22        38        41\n",
              "\n",
              "[5 rows x 11 columns]"
            ]
          },
          "metadata": {
            "tags": []
          },
          "execution_count": 11
        }
      ]
    },
    {
      "cell_type": "code",
      "metadata": {
        "id": "52zYE9OsmAtH",
        "outputId": "e312236b-8b1c-4c4e-cc16-dd5948e1d9c9",
        "colab": {
          "base_uri": "https://localhost:8080/"
        }
      },
      "source": [
        "for i in range(len(df_semana.iloc[:,0])):\n",
        "  df_semana.iloc[i,0] =  df_semana.iloc[i,0].weekday()\n",
        "df_semana.head()"
      ],
      "execution_count": null,
      "outputs": [
        {
          "output_type": "execute_result",
          "data": {
            "text/html": [
              "<div>\n",
              "<style scoped>\n",
              "    .dataframe tbody tr th:only-of-type {\n",
              "        vertical-align: middle;\n",
              "    }\n",
              "\n",
              "    .dataframe tbody tr th {\n",
              "        vertical-align: top;\n",
              "    }\n",
              "\n",
              "    .dataframe thead th {\n",
              "        text-align: right;\n",
              "    }\n",
              "</style>\n",
              "<table border=\"1\" class=\"dataframe\">\n",
              "  <thead>\n",
              "    <tr style=\"text-align: right;\">\n",
              "      <th></th>\n",
              "      <th>Dia</th>\n",
              "      <th>Chocolate</th>\n",
              "      <th>Pistache</th>\n",
              "      <th>Morango</th>\n",
              "      <th>Amendoim</th>\n",
              "      <th>Leite_ninho</th>\n",
              "      <th>Abacaxi_suico</th>\n",
              "      <th>Coco</th>\n",
              "      <th>Limao</th>\n",
              "      <th>Blue_ice</th>\n",
              "      <th>Maracuja</th>\n",
              "    </tr>\n",
              "  </thead>\n",
              "  <tbody>\n",
              "    <tr>\n",
              "      <th>0</th>\n",
              "      <td>1</td>\n",
              "      <td>34</td>\n",
              "      <td>8</td>\n",
              "      <td>27</td>\n",
              "      <td>23</td>\n",
              "      <td>22</td>\n",
              "      <td>17</td>\n",
              "      <td>22</td>\n",
              "      <td>2</td>\n",
              "      <td>32</td>\n",
              "      <td>32</td>\n",
              "    </tr>\n",
              "    <tr>\n",
              "      <th>1</th>\n",
              "      <td>2</td>\n",
              "      <td>51</td>\n",
              "      <td>7</td>\n",
              "      <td>22</td>\n",
              "      <td>36</td>\n",
              "      <td>20</td>\n",
              "      <td>26</td>\n",
              "      <td>14</td>\n",
              "      <td>17</td>\n",
              "      <td>18</td>\n",
              "      <td>30</td>\n",
              "    </tr>\n",
              "    <tr>\n",
              "      <th>2</th>\n",
              "      <td>3</td>\n",
              "      <td>42</td>\n",
              "      <td>12</td>\n",
              "      <td>31</td>\n",
              "      <td>24</td>\n",
              "      <td>31</td>\n",
              "      <td>33</td>\n",
              "      <td>23</td>\n",
              "      <td>11</td>\n",
              "      <td>19</td>\n",
              "      <td>36</td>\n",
              "    </tr>\n",
              "    <tr>\n",
              "      <th>3</th>\n",
              "      <td>4</td>\n",
              "      <td>30</td>\n",
              "      <td>19</td>\n",
              "      <td>30</td>\n",
              "      <td>31</td>\n",
              "      <td>36</td>\n",
              "      <td>30</td>\n",
              "      <td>21</td>\n",
              "      <td>12</td>\n",
              "      <td>22</td>\n",
              "      <td>19</td>\n",
              "    </tr>\n",
              "    <tr>\n",
              "      <th>4</th>\n",
              "      <td>5</td>\n",
              "      <td>60</td>\n",
              "      <td>32</td>\n",
              "      <td>34</td>\n",
              "      <td>47</td>\n",
              "      <td>40</td>\n",
              "      <td>41</td>\n",
              "      <td>40</td>\n",
              "      <td>22</td>\n",
              "      <td>38</td>\n",
              "      <td>41</td>\n",
              "    </tr>\n",
              "  </tbody>\n",
              "</table>\n",
              "</div>"
            ],
            "text/plain": [
              "  Dia  Chocolate  Pistache  Morango  ...  Coco  Limao  Blue_ice  Maracuja\n",
              "0   1         34         8       27  ...    22      2        32        32\n",
              "1   2         51         7       22  ...    14     17        18        30\n",
              "2   3         42        12       31  ...    23     11        19        36\n",
              "3   4         30        19       30  ...    21     12        22        19\n",
              "4   5         60        32       34  ...    40     22        38        41\n",
              "\n",
              "[5 rows x 11 columns]"
            ]
          },
          "metadata": {
            "tags": []
          },
          "execution_count": 12
        }
      ]
    },
    {
      "cell_type": "markdown",
      "metadata": {
        "id": "xUGk1g13jtS4"
      },
      "source": [
        ">>Tranformando as datas em valores categóricos\n",
        "* Segunda = 0\n",
        "* Terça   = 1 \n",
        "* .\n",
        "* .\n",
        "* .\n",
        "* Domingo = 6"
      ]
    },
    {
      "cell_type": "code",
      "metadata": {
        "id": "sPd65TY9weeo",
        "outputId": "725a03cf-b0b9-48f9-fe65-eb4edbef41f4",
        "colab": {
          "base_uri": "https://localhost:8080/"
        }
      },
      "source": [
        "df_semana[\"Total\"] =  df_semana.iloc[:,1] +  df_semana.iloc[:,2] +   df_semana.iloc[:,3] +  df_semana.iloc[:,4] +   df_semana.iloc[:,5] +   df_semana.iloc[:,6] +   df_semana.iloc[:,7] +   df_semana.iloc[:,8] +   df_semana.iloc[:,9] +   df_semana.iloc[:,10]\n",
        "df_semanas = df_semana\n",
        "df_semana.head()"
      ],
      "execution_count": null,
      "outputs": [
        {
          "output_type": "execute_result",
          "data": {
            "text/html": [
              "<div>\n",
              "<style scoped>\n",
              "    .dataframe tbody tr th:only-of-type {\n",
              "        vertical-align: middle;\n",
              "    }\n",
              "\n",
              "    .dataframe tbody tr th {\n",
              "        vertical-align: top;\n",
              "    }\n",
              "\n",
              "    .dataframe thead th {\n",
              "        text-align: right;\n",
              "    }\n",
              "</style>\n",
              "<table border=\"1\" class=\"dataframe\">\n",
              "  <thead>\n",
              "    <tr style=\"text-align: right;\">\n",
              "      <th></th>\n",
              "      <th>Dia</th>\n",
              "      <th>Chocolate</th>\n",
              "      <th>Pistache</th>\n",
              "      <th>Morango</th>\n",
              "      <th>Amendoim</th>\n",
              "      <th>Leite_ninho</th>\n",
              "      <th>Abacaxi_suico</th>\n",
              "      <th>Coco</th>\n",
              "      <th>Limao</th>\n",
              "      <th>Blue_ice</th>\n",
              "      <th>Maracuja</th>\n",
              "      <th>Total</th>\n",
              "    </tr>\n",
              "  </thead>\n",
              "  <tbody>\n",
              "    <tr>\n",
              "      <th>0</th>\n",
              "      <td>1</td>\n",
              "      <td>34</td>\n",
              "      <td>8</td>\n",
              "      <td>27</td>\n",
              "      <td>23</td>\n",
              "      <td>22</td>\n",
              "      <td>17</td>\n",
              "      <td>22</td>\n",
              "      <td>2</td>\n",
              "      <td>32</td>\n",
              "      <td>32</td>\n",
              "      <td>219</td>\n",
              "    </tr>\n",
              "    <tr>\n",
              "      <th>1</th>\n",
              "      <td>2</td>\n",
              "      <td>51</td>\n",
              "      <td>7</td>\n",
              "      <td>22</td>\n",
              "      <td>36</td>\n",
              "      <td>20</td>\n",
              "      <td>26</td>\n",
              "      <td>14</td>\n",
              "      <td>17</td>\n",
              "      <td>18</td>\n",
              "      <td>30</td>\n",
              "      <td>241</td>\n",
              "    </tr>\n",
              "    <tr>\n",
              "      <th>2</th>\n",
              "      <td>3</td>\n",
              "      <td>42</td>\n",
              "      <td>12</td>\n",
              "      <td>31</td>\n",
              "      <td>24</td>\n",
              "      <td>31</td>\n",
              "      <td>33</td>\n",
              "      <td>23</td>\n",
              "      <td>11</td>\n",
              "      <td>19</td>\n",
              "      <td>36</td>\n",
              "      <td>262</td>\n",
              "    </tr>\n",
              "    <tr>\n",
              "      <th>3</th>\n",
              "      <td>4</td>\n",
              "      <td>30</td>\n",
              "      <td>19</td>\n",
              "      <td>30</td>\n",
              "      <td>31</td>\n",
              "      <td>36</td>\n",
              "      <td>30</td>\n",
              "      <td>21</td>\n",
              "      <td>12</td>\n",
              "      <td>22</td>\n",
              "      <td>19</td>\n",
              "      <td>250</td>\n",
              "    </tr>\n",
              "    <tr>\n",
              "      <th>4</th>\n",
              "      <td>5</td>\n",
              "      <td>60</td>\n",
              "      <td>32</td>\n",
              "      <td>34</td>\n",
              "      <td>47</td>\n",
              "      <td>40</td>\n",
              "      <td>41</td>\n",
              "      <td>40</td>\n",
              "      <td>22</td>\n",
              "      <td>38</td>\n",
              "      <td>41</td>\n",
              "      <td>395</td>\n",
              "    </tr>\n",
              "  </tbody>\n",
              "</table>\n",
              "</div>"
            ],
            "text/plain": [
              "  Dia  Chocolate  Pistache  Morango  ...  Limao  Blue_ice  Maracuja  Total\n",
              "0   1         34         8       27  ...      2        32        32    219\n",
              "1   2         51         7       22  ...     17        18        30    241\n",
              "2   3         42        12       31  ...     11        19        36    262\n",
              "3   4         30        19       30  ...     12        22        19    250\n",
              "4   5         60        32       34  ...     22        38        41    395\n",
              "\n",
              "[5 rows x 12 columns]"
            ]
          },
          "metadata": {
            "tags": []
          },
          "execution_count": 13
        }
      ]
    },
    {
      "cell_type": "markdown",
      "metadata": {
        "id": "T5_9QOjkj0Cu"
      },
      "source": [
        ">> Criei uma coluna com as somas de vendas de todos os sabores de picolés"
      ]
    },
    {
      "cell_type": "code",
      "metadata": {
        "id": "K6rJ0XIg-20E",
        "outputId": "5437a3e1-3c1e-4e2b-c043-ed12ab467811",
        "colab": {
          "base_uri": "https://localhost:8080/"
        }
      },
      "source": [
        "df_semana = df_semana.drop([\"Chocolate\", \"Pistache\", \"Morango\", \"Amendoim \", \"Leite_ninho\" , \"Abacaxi_suico\", \"Coco\", \"Limao\", \"Blue_ice\", \"Maracuja\" ], axis = 1)\n",
        "df_semana.head()"
      ],
      "execution_count": null,
      "outputs": [
        {
          "output_type": "execute_result",
          "data": {
            "text/html": [
              "<div>\n",
              "<style scoped>\n",
              "    .dataframe tbody tr th:only-of-type {\n",
              "        vertical-align: middle;\n",
              "    }\n",
              "\n",
              "    .dataframe tbody tr th {\n",
              "        vertical-align: top;\n",
              "    }\n",
              "\n",
              "    .dataframe thead th {\n",
              "        text-align: right;\n",
              "    }\n",
              "</style>\n",
              "<table border=\"1\" class=\"dataframe\">\n",
              "  <thead>\n",
              "    <tr style=\"text-align: right;\">\n",
              "      <th></th>\n",
              "      <th>Dia</th>\n",
              "      <th>Total</th>\n",
              "    </tr>\n",
              "  </thead>\n",
              "  <tbody>\n",
              "    <tr>\n",
              "      <th>0</th>\n",
              "      <td>1</td>\n",
              "      <td>219</td>\n",
              "    </tr>\n",
              "    <tr>\n",
              "      <th>1</th>\n",
              "      <td>2</td>\n",
              "      <td>241</td>\n",
              "    </tr>\n",
              "    <tr>\n",
              "      <th>2</th>\n",
              "      <td>3</td>\n",
              "      <td>262</td>\n",
              "    </tr>\n",
              "    <tr>\n",
              "      <th>3</th>\n",
              "      <td>4</td>\n",
              "      <td>250</td>\n",
              "    </tr>\n",
              "    <tr>\n",
              "      <th>4</th>\n",
              "      <td>5</td>\n",
              "      <td>395</td>\n",
              "    </tr>\n",
              "  </tbody>\n",
              "</table>\n",
              "</div>"
            ],
            "text/plain": [
              "  Dia  Total\n",
              "0   1    219\n",
              "1   2    241\n",
              "2   3    262\n",
              "3   4    250\n",
              "4   5    395"
            ]
          },
          "metadata": {
            "tags": []
          },
          "execution_count": 14
        }
      ]
    },
    {
      "cell_type": "markdown",
      "metadata": {
        "id": "kvSMRSUaj8gW"
      },
      "source": [
        ">> Removi as colunas de sabores e deixei apenas o que importava"
      ]
    },
    {
      "cell_type": "code",
      "metadata": {
        "id": "L6Hv6uij-cR4",
        "outputId": "1d38b184-4ce7-4ee6-e9d6-677661bc493c",
        "colab": {
          "base_uri": "https://localhost:8080/"
        }
      },
      "source": [
        "#Contando quantos observações de dias tem de cada dia de semana \n",
        "df_semana.groupby(\"Dia\")[\"Dia\"].count()"
      ],
      "execution_count": null,
      "outputs": [
        {
          "output_type": "execute_result",
          "data": {
            "text/plain": [
              "Dia\n",
              "0    8\n",
              "1    9\n",
              "2    9\n",
              "3    9\n",
              "4    9\n",
              "5    9\n",
              "6    8\n",
              "Name: Dia, dtype: int64"
            ]
          },
          "metadata": {
            "tags": []
          },
          "execution_count": 15
        }
      ]
    },
    {
      "cell_type": "markdown",
      "metadata": {
        "id": "YFCf-med-7DL"
      },
      "source": [
        ">>Podemos perceber que alguns dias tem mais observações do que outros"
      ]
    },
    {
      "cell_type": "markdown",
      "metadata": {
        "id": "molM8LqzkoYA"
      },
      "source": [
        "#6) Análises descritiva de vendas por semana"
      ]
    },
    {
      "cell_type": "code",
      "metadata": {
        "id": "AAyk4Iwptac2",
        "outputId": "a880f3b0-8648-400d-bbf7-904bd4d0efce",
        "colab": {
          "base_uri": "https://localhost:8080/"
        }
      },
      "source": [
        "df_dia = df_semana.groupby(\"Dia\")\n",
        "df_dia.describe()"
      ],
      "execution_count": null,
      "outputs": [
        {
          "output_type": "execute_result",
          "data": {
            "text/html": [
              "<div>\n",
              "<style scoped>\n",
              "    .dataframe tbody tr th:only-of-type {\n",
              "        vertical-align: middle;\n",
              "    }\n",
              "\n",
              "    .dataframe tbody tr th {\n",
              "        vertical-align: top;\n",
              "    }\n",
              "\n",
              "    .dataframe thead tr th {\n",
              "        text-align: left;\n",
              "    }\n",
              "\n",
              "    .dataframe thead tr:last-of-type th {\n",
              "        text-align: right;\n",
              "    }\n",
              "</style>\n",
              "<table border=\"1\" class=\"dataframe\">\n",
              "  <thead>\n",
              "    <tr>\n",
              "      <th></th>\n",
              "      <th colspan=\"8\" halign=\"left\">Total</th>\n",
              "    </tr>\n",
              "    <tr>\n",
              "      <th></th>\n",
              "      <th>count</th>\n",
              "      <th>mean</th>\n",
              "      <th>std</th>\n",
              "      <th>min</th>\n",
              "      <th>25%</th>\n",
              "      <th>50%</th>\n",
              "      <th>75%</th>\n",
              "      <th>max</th>\n",
              "    </tr>\n",
              "    <tr>\n",
              "      <th>Dia</th>\n",
              "      <th></th>\n",
              "      <th></th>\n",
              "      <th></th>\n",
              "      <th></th>\n",
              "      <th></th>\n",
              "      <th></th>\n",
              "      <th></th>\n",
              "      <th></th>\n",
              "    </tr>\n",
              "  </thead>\n",
              "  <tbody>\n",
              "    <tr>\n",
              "      <th>0</th>\n",
              "      <td>8.0</td>\n",
              "      <td>490.375000</td>\n",
              "      <td>14.608584</td>\n",
              "      <td>466.0</td>\n",
              "      <td>484.75</td>\n",
              "      <td>490.5</td>\n",
              "      <td>496.50</td>\n",
              "      <td>513.0</td>\n",
              "    </tr>\n",
              "    <tr>\n",
              "      <th>1</th>\n",
              "      <td>9.0</td>\n",
              "      <td>251.444444</td>\n",
              "      <td>28.275922</td>\n",
              "      <td>218.0</td>\n",
              "      <td>246.00</td>\n",
              "      <td>248.0</td>\n",
              "      <td>254.00</td>\n",
              "      <td>315.0</td>\n",
              "    </tr>\n",
              "    <tr>\n",
              "      <th>2</th>\n",
              "      <td>9.0</td>\n",
              "      <td>254.555556</td>\n",
              "      <td>18.802334</td>\n",
              "      <td>226.0</td>\n",
              "      <td>241.00</td>\n",
              "      <td>254.0</td>\n",
              "      <td>267.00</td>\n",
              "      <td>285.0</td>\n",
              "    </tr>\n",
              "    <tr>\n",
              "      <th>3</th>\n",
              "      <td>9.0</td>\n",
              "      <td>203.777778</td>\n",
              "      <td>38.339855</td>\n",
              "      <td>152.0</td>\n",
              "      <td>170.00</td>\n",
              "      <td>199.0</td>\n",
              "      <td>237.00</td>\n",
              "      <td>262.0</td>\n",
              "    </tr>\n",
              "    <tr>\n",
              "      <th>4</th>\n",
              "      <td>9.0</td>\n",
              "      <td>257.555556</td>\n",
              "      <td>16.156354</td>\n",
              "      <td>233.0</td>\n",
              "      <td>250.00</td>\n",
              "      <td>255.0</td>\n",
              "      <td>266.00</td>\n",
              "      <td>289.0</td>\n",
              "    </tr>\n",
              "    <tr>\n",
              "      <th>5</th>\n",
              "      <td>9.0</td>\n",
              "      <td>401.444444</td>\n",
              "      <td>24.794713</td>\n",
              "      <td>366.0</td>\n",
              "      <td>385.00</td>\n",
              "      <td>398.0</td>\n",
              "      <td>420.00</td>\n",
              "      <td>439.0</td>\n",
              "    </tr>\n",
              "    <tr>\n",
              "      <th>6</th>\n",
              "      <td>8.0</td>\n",
              "      <td>447.125000</td>\n",
              "      <td>14.337140</td>\n",
              "      <td>424.0</td>\n",
              "      <td>444.50</td>\n",
              "      <td>446.0</td>\n",
              "      <td>448.75</td>\n",
              "      <td>476.0</td>\n",
              "    </tr>\n",
              "  </tbody>\n",
              "</table>\n",
              "</div>"
            ],
            "text/plain": [
              "    Total                                                            \n",
              "    count        mean        std    min     25%    50%     75%    max\n",
              "Dia                                                                  \n",
              "0     8.0  490.375000  14.608584  466.0  484.75  490.5  496.50  513.0\n",
              "1     9.0  251.444444  28.275922  218.0  246.00  248.0  254.00  315.0\n",
              "2     9.0  254.555556  18.802334  226.0  241.00  254.0  267.00  285.0\n",
              "3     9.0  203.777778  38.339855  152.0  170.00  199.0  237.00  262.0\n",
              "4     9.0  257.555556  16.156354  233.0  250.00  255.0  266.00  289.0\n",
              "5     9.0  401.444444  24.794713  366.0  385.00  398.0  420.00  439.0\n",
              "6     8.0  447.125000  14.337140  424.0  444.50  446.0  448.75  476.0"
            ]
          },
          "metadata": {
            "tags": []
          },
          "execution_count": 16
        }
      ]
    },
    {
      "cell_type": "markdown",
      "metadata": {
        "id": "W5kPi5v9k3hr"
      },
      "source": [
        "#7) Visualização dos dados vendas por semana\n",
        "\n",
        "---\n",
        "\n",
        "##7.1) Total de vendas de cada dia da semana nos dois meses"
      ]
    },
    {
      "cell_type": "code",
      "metadata": {
        "id": "QUZKBtVuHMdd",
        "outputId": "308efe30-5bda-4d31-baf5-b6229ed4df96",
        "colab": {
          "base_uri": "https://localhost:8080/"
        }
      },
      "source": [
        "df_total = df_semana.groupby(\"Dia\")[\"Total\"].sum()\n",
        "semana = [\"Segunda\", \"Terça\", \"Quarta\",\"Quinta\" , \"Sexta\", \"Sabádo\", \"Domingo\"]\n",
        "df_total = pd.DataFrame({\"Totais de vendas\": df_total, \"Dias de semana\":semana} )\n",
        "ax = df_total.plot.bar(x='Dias de semana', y='Totais de vendas', rot=0)"
      ],
      "execution_count": null,
      "outputs": [
        {
          "output_type": "display_data",
          "data": {
            "image/png": "[encoded data removed]",
            "text/plain": [
              "<Figure size 432x288 with 1 Axes>"
            ]
          },
          "metadata": {
            "tags": []
          }
        }
      ]
    },
    {
      "cell_type": "code",
      "metadata": {
        "id": "6GZXczcZh8M5",
        "outputId": "c9694326-2e4d-410a-897d-b6d878373aba",
        "colab": {
          "base_uri": "https://localhost:8080/"
        }
      },
      "source": [
        "ax = df_total.plot.barh(x='Dias de semana', y='Totais de vendas', rot=0)"
      ],
      "execution_count": null,
      "outputs": [
        {
          "output_type": "display_data",
          "data": {
            "image/png": "[encoded data removed]",
            "text/plain": [
              "<Figure size 432x288 with 1 Axes>"
            ]
          },
          "metadata": {
            "tags": []
          }
        }
      ]
    },
    {
      "cell_type": "markdown",
      "metadata": {
        "id": "8TCAcx5QHOvT"
      },
      "source": [
        "\n",
        "##7.2) Box Plot das vendas por semana"
      ]
    },
    {
      "cell_type": "code",
      "metadata": {
        "id": "RWfcIfz5U49c",
        "outputId": "cf44d76a-49ec-4ff3-dfa8-2fee6c56c146",
        "colab": {
          "base_uri": "https://localhost:8080/"
        }
      },
      "source": [
        "Segunda = df_semana.loc[df_semana[\"Dia\"]== 0, \"Total\"] \n",
        "Terça = df_semana.loc[df_semana[\"Dia\"]== 1, \"Total\"]\n",
        "Quarta = df_semana.loc[df_semana[\"Dia\"]== 2, \"Total\"]\n",
        "Quinta = df_semana.loc[df_semana[\"Dia\"]== 3, \"Total\"]\n",
        "Sexta = df_semana.loc[df_semana[\"Dia\"]== 4, \"Total\"]\n",
        "Sabádo = df_semana.loc[df_semana[\"Dia\"]== 5, \"Total\"]\n",
        "Domingo = df_semana.loc[df_semana[\"Dia\"]== 6, \"Total\"]\n",
        "\n",
        "\n",
        "fig = go.Figure()\n",
        "fig.add_trace( go.Box ( y = Segunda ,  name = \"Segunda\" , marker_color='#FF4136' )) \n",
        "fig.add_trace( go.Box ( y = Terça ,  name = \"Terça\" , marker_color='#FF4136' )) \n",
        "fig.add_trace( go.Box ( y = Quarta ,  name = \"Quarta\" , marker_color='#FF4136' )) \n",
        "fig.add_trace( go.Box ( y = Quinta ,  name = \"Quinta\" , marker_color='#FF4136' )) \n",
        "fig.add_trace( go.Box ( y = Sexta ,  name = \"Sexta\" , marker_color='#FF4136' )) \n",
        "fig.add_trace( go.Box ( y = Sabádo ,  name = \"Sabádo\" , marker_color='#FF4136' )) \n",
        "fig.add_trace( go.Box ( y = Domingo ,  name = \"Domingo\" , marker_color='#FF4136' )) \n",
        "fig.show ()"
      ],
      "execution_count": null,
      "outputs": [
        {
          "output_type": "display_data",
          "data": {
            "text/html": [
              "<html>\n",
              "<head><meta charset=\"utf-8\" /></head>\n",
              "<body>\n",
              "    <div>\n",
              "            <script src=\"https://cdnjs.cloudflare.com/ajax/libs/mathjax/2.7.5/MathJax.js?config=TeX-AMS-MML_SVG\"></script><script type=\"text/javascript\">if (window.MathJax) {MathJax.Hub.Config({SVG: {font: \"STIX-Web\"}});}</script>\n",
              "                <script type=\"text/javascript\">window.PlotlyConfig = {MathJaxConfig: 'local'};</script>\n",
              "        <script src=\"https://cdn.plot.ly/plotly-latest.min.js\"></script>    \n",
              "            <div id=\"e39928f8-42e0-4312-9e3b-9ecc31bfada7\" class=\"plotly-graph-div\" style=\"height:525px; width:100%;\"></div>\n",
              "            <script type=\"text/javascript\">\n",
              "                \n",
              "                    window.PLOTLYENV=window.PLOTLYENV || {};\n",
              "                    \n",
              "                if (document.getElementById(\"e39928f8-42e0-4312-9e3b-9ecc31bfada7\")) {\n",
              "                    Plotly.newPlot(\n",
              "                        'e39928f8-42e0-4312-9e3b-9ecc31bfada7',\n",
              "                        [{\"marker\": {\"color\": \"#FF4136\"}, \"name\": \"Segunda\", \"type\": \"box\", \"y\": [478, 513, 494, 466, 494, 487, 504, 487]}, {\"marker\": {\"color\": \"#FF4136\"}, \"name\": \"Ter\\u00e7a\", \"type\": \"box\", \"y\": [219, 218, 315, 254, 248, 262, 254, 246, 247]}, {\"marker\": {\"color\": \"#FF4136\"}, \"name\": \"Quarta\", \"type\": \"box\", \"y\": [241, 247, 261, 267, 226, 273, 237, 254, 285]}, {\"marker\": {\"color\": \"#FF4136\"}, \"name\": \"Quinta\", \"type\": \"box\", \"y\": [262, 152, 170, 245, 237, 199, 215, 186, 168]}, {\"marker\": {\"color\": \"#FF4136\"}, \"name\": \"Sexta\", \"type\": \"box\", \"y\": [250, 233, 271, 289, 256, 255, 253, 266, 245]}, {\"marker\": {\"color\": \"#FF4136\"}, \"name\": \"Sab\\u00e1do\", \"type\": \"box\", \"y\": [395, 421, 366, 439, 385, 371, 398, 420, 418]}, {\"marker\": {\"color\": \"#FF4136\"}, \"name\": \"Domingo\", \"type\": \"box\", \"y\": [448, 476, 446, 451, 440, 446, 446, 424]}],\n",
              "                        {\"template\": {\"data\": {\"bar\": [{\"error_x\": {\"color\": \"#2a3f5f\"}, \"error_y\": {\"color\": \"#2a3f5f\"}, \"marker\": {\"line\": {\"color\": \"#E5ECF6\", \"width\": 0.5}}, \"type\": \"bar\"}], \"barpolar\": [{\"marker\": {\"line\": {\"color\": \"#E5ECF6\", \"width\": 0.5}}, \"type\": \"barpolar\"}], \"carpet\": [{\"aaxis\": {\"endlinecolor\": \"#2a3f5f\", \"gridcolor\": \"white\", \"linecolor\": \"white\", \"minorgridcolor\": \"white\", \"startlinecolor\": \"#2a3f5f\"}, \"baxis\": {\"endlinecolor\": \"#2a3f5f\", \"gridcolor\": \"white\", \"linecolor\": \"white\", \"minorgridcolor\": \"white\", \"startlinecolor\": \"#2a3f5f\"}, \"type\": \"carpet\"}], \"choropleth\": [{\"colorbar\": {\"outlinewidth\": 0, \"ticks\": \"\"}, \"type\": \"choropleth\"}], \"contour\": [{\"colorbar\": {\"outlinewidth\": 0, \"ticks\": \"\"}, \"colorscale\": [[0.0, \"#0d0887\"], [0.1111111111111111, \"#46039f\"], [0.2222222222222222, \"#7201a8\"], [0.3333333333333333, \"#9c179e\"], [0.4444444444444444, \"#bd3786\"], [0.5555555555555556, \"#d8576b\"], [0.6666666666666666, \"#ed7953\"], [0.7777777777777778, \"#fb9f3a\"], [0.8888888888888888, \"#fdca26\"], [1.0, \"#f0f921\"]], \"type\": \"contour\"}], \"contourcarpet\": [{\"colorbar\": {\"outlinewidth\": 0, \"ticks\": \"\"}, \"type\": \"contourcarpet\"}], \"heatmap\": [{\"colorbar\": {\"outlinewidth\": 0, \"ticks\": \"\"}, \"colorscale\": [[0.0, \"#0d0887\"], [0.1111111111111111, \"#46039f\"], [0.2222222222222222, \"#7201a8\"], [0.3333333333333333, \"#9c179e\"], [0.4444444444444444, \"#bd3786\"], [0.5555555555555556, \"#d8576b\"], [0.6666666666666666, \"#ed7953\"], [0.7777777777777778, \"#fb9f3a\"], [0.8888888888888888, \"#fdca26\"], [1.0, \"#f0f921\"]], \"type\": \"heatmap\"}], \"heatmapgl\": [{\"colorbar\": {\"outlinewidth\": 0, \"ticks\": \"\"}, \"colorscale\": [[0.0, \"#0d0887\"], [0.1111111111111111, \"#46039f\"], [0.2222222222222222, \"#7201a8\"], [0.3333333333333333, \"#9c179e\"], [0.4444444444444444, \"#bd3786\"], [0.5555555555555556, \"#d8576b\"], [0.6666666666666666, \"#ed7953\"], [0.7777777777777778, \"#fb9f3a\"], [0.8888888888888888, \"#fdca26\"], [1.0, \"#f0f921\"]], \"type\": \"heatmapgl\"}], \"histogram\": [{\"marker\": {\"colorbar\": {\"outlinewidth\": 0, \"ticks\": \"\"}}, \"type\": \"histogram\"}], \"histogram2d\": [{\"colorbar\": {\"outlinewidth\": 0, \"ticks\": \"\"}, \"colorscale\": [[0.0, \"#0d0887\"], [0.1111111111111111, \"#46039f\"], [0.2222222222222222, \"#7201a8\"], [0.3333333333333333, \"#9c179e\"], [0.4444444444444444, \"#bd3786\"], [0.5555555555555556, \"#d8576b\"], [0.6666666666666666, \"#ed7953\"], [0.7777777777777778, \"#fb9f3a\"], [0.8888888888888888, \"#fdca26\"], [1.0, \"#f0f921\"]], \"type\": \"histogram2d\"}], \"histogram2dcontour\": [{\"colorbar\": {\"outlinewidth\": 0, \"ticks\": \"\"}, \"colorscale\": [[0.0, \"#0d0887\"], [0.1111111111111111, \"#46039f\"], [0.2222222222222222, \"#7201a8\"], [0.3333333333333333, \"#9c179e\"], [0.4444444444444444, \"#bd3786\"], [0.5555555555555556, \"#d8576b\"], [0.6666666666666666, \"#ed7953\"], [0.7777777777777778, \"#fb9f3a\"], [0.8888888888888888, \"#fdca26\"], [1.0, \"#f0f921\"]], \"type\": \"histogram2dcontour\"}], \"mesh3d\": [{\"colorbar\": {\"outlinewidth\": 0, \"ticks\": \"\"}, \"type\": \"mesh3d\"}], \"parcoords\": [{\"line\": {\"colorbar\": {\"outlinewidth\": 0, \"ticks\": \"\"}}, \"type\": \"parcoords\"}], \"pie\": [{\"automargin\": true, \"type\": \"pie\"}], \"scatter\": [{\"marker\": {\"colorbar\": {\"outlinewidth\": 0, \"ticks\": \"\"}}, \"type\": \"scatter\"}], \"scatter3d\": [{\"line\": {\"colorbar\": {\"outlinewidth\": 0, \"ticks\": \"\"}}, \"marker\": {\"colorbar\": {\"outlinewidth\": 0, \"ticks\": \"\"}}, \"type\": \"scatter3d\"}], \"scattercarpet\": [{\"marker\": {\"colorbar\": {\"outlinewidth\": 0, \"ticks\": \"\"}}, \"type\": \"scattercarpet\"}], \"scattergeo\": [{\"marker\": {\"colorbar\": {\"outlinewidth\": 0, \"ticks\": \"\"}}, \"type\": \"scattergeo\"}], \"scattergl\": [{\"marker\": {\"colorbar\": {\"outlinewidth\": 0, \"ticks\": \"\"}}, \"type\": \"scattergl\"}], \"scattermapbox\": [{\"marker\": {\"colorbar\": {\"outlinewidth\": 0, \"ticks\": \"\"}}, \"type\": \"scattermapbox\"}], \"scatterpolar\": [{\"marker\": {\"colorbar\": {\"outlinewidth\": 0, \"ticks\": \"\"}}, \"type\": \"scatterpolar\"}], \"scatterpolargl\": [{\"marker\": {\"colorbar\": {\"outlinewidth\": 0, \"ticks\": \"\"}}, \"type\": \"scatterpolargl\"}], \"scatterternary\": [{\"marker\": {\"colorbar\": {\"outlinewidth\": 0, \"ticks\": \"\"}}, \"type\": \"scatterternary\"}], \"surface\": [{\"colorbar\": {\"outlinewidth\": 0, \"ticks\": \"\"}, \"colorscale\": [[0.0, \"#0d0887\"], [0.1111111111111111, \"#46039f\"], [0.2222222222222222, \"#7201a8\"], [0.3333333333333333, \"#9c179e\"], [0.4444444444444444, \"#bd3786\"], [0.5555555555555556, \"#d8576b\"], [0.6666666666666666, \"#ed7953\"], [0.7777777777777778, \"#fb9f3a\"], [0.8888888888888888, \"#fdca26\"], [1.0, \"#f0f921\"]], \"type\": \"surface\"}], \"table\": [{\"cells\": {\"fill\": {\"color\": \"#EBF0F8\"}, \"line\": {\"color\": \"white\"}}, \"header\": {\"fill\": {\"color\": \"#C8D4E3\"}, \"line\": {\"color\": \"white\"}}, \"type\": \"table\"}]}, \"layout\": {\"annotationdefaults\": {\"arrowcolor\": \"#2a3f5f\", \"arrowhead\": 0, \"arrowwidth\": 1}, \"coloraxis\": {\"colorbar\": {\"outlinewidth\": 0, \"ticks\": \"\"}}, \"colorscale\": {\"diverging\": [[0, \"#8e0152\"], [0.1, \"#c51b7d\"], [0.2, \"#de77ae\"], [0.3, \"#f1b6da\"], [0.4, \"#fde0ef\"], [0.5, \"#f7f7f7\"], [0.6, \"#e6f5d0\"], [0.7, \"#b8e186\"], [0.8, \"#7fbc41\"], [0.9, \"#4d9221\"], [1, \"#276419\"]], \"sequential\": [[0.0, \"#0d0887\"], [0.1111111111111111, \"#46039f\"], [0.2222222222222222, \"#7201a8\"], [0.3333333333333333, \"#9c179e\"], [0.4444444444444444, \"#bd3786\"], [0.5555555555555556, \"#d8576b\"], [0.6666666666666666, \"#ed7953\"], [0.7777777777777778, \"#fb9f3a\"], [0.8888888888888888, \"#fdca26\"], [1.0, \"#f0f921\"]], \"sequentialminus\": [[0.0, \"#0d0887\"], [0.1111111111111111, \"#46039f\"], [0.2222222222222222, \"#7201a8\"], [0.3333333333333333, \"#9c179e\"], [0.4444444444444444, \"#bd3786\"], [0.5555555555555556, \"#d8576b\"], [0.6666666666666666, \"#ed7953\"], [0.7777777777777778, \"#fb9f3a\"], [0.8888888888888888, \"#fdca26\"], [1.0, \"#f0f921\"]]}, \"colorway\": [\"#636efa\", \"#EF553B\", \"#00cc96\", \"#ab63fa\", \"#FFA15A\", \"#19d3f3\", \"#FF6692\", \"#B6E880\", \"#FF97FF\", \"#FECB52\"], \"font\": {\"color\": \"#2a3f5f\"}, \"geo\": {\"bgcolor\": \"white\", \"lakecolor\": \"white\", \"landcolor\": \"#E5ECF6\", \"showlakes\": true, \"showland\": true, \"subunitcolor\": \"white\"}, \"hoverlabel\": {\"align\": \"left\"}, \"hovermode\": \"closest\", \"mapbox\": {\"style\": \"light\"}, \"paper_bgcolor\": \"white\", \"plot_bgcolor\": \"#E5ECF6\", \"polar\": {\"angularaxis\": {\"gridcolor\": \"white\", \"linecolor\": \"white\", \"ticks\": \"\"}, \"bgcolor\": \"#E5ECF6\", \"radialaxis\": {\"gridcolor\": \"white\", \"linecolor\": \"white\", \"ticks\": \"\"}}, \"scene\": {\"xaxis\": {\"backgroundcolor\": \"#E5ECF6\", \"gridcolor\": \"white\", \"gridwidth\": 2, \"linecolor\": \"white\", \"showbackground\": true, \"ticks\": \"\", \"zerolinecolor\": \"white\"}, \"yaxis\": {\"backgroundcolor\": \"#E5ECF6\", \"gridcolor\": \"white\", \"gridwidth\": 2, \"linecolor\": \"white\", \"showbackground\": true, \"ticks\": \"\", \"zerolinecolor\": \"white\"}, \"zaxis\": {\"backgroundcolor\": \"#E5ECF6\", \"gridcolor\": \"white\", \"gridwidth\": 2, \"linecolor\": \"white\", \"showbackground\": true, \"ticks\": \"\", \"zerolinecolor\": \"white\"}}, \"shapedefaults\": {\"line\": {\"color\": \"#2a3f5f\"}}, \"ternary\": {\"aaxis\": {\"gridcolor\": \"white\", \"linecolor\": \"white\", \"ticks\": \"\"}, \"baxis\": {\"gridcolor\": \"white\", \"linecolor\": \"white\", \"ticks\": \"\"}, \"bgcolor\": \"#E5ECF6\", \"caxis\": {\"gridcolor\": \"white\", \"linecolor\": \"white\", \"ticks\": \"\"}}, \"title\": {\"x\": 0.05}, \"xaxis\": {\"automargin\": true, \"gridcolor\": \"white\", \"linecolor\": \"white\", \"ticks\": \"\", \"title\": {\"standoff\": 15}, \"zerolinecolor\": \"white\", \"zerolinewidth\": 2}, \"yaxis\": {\"automargin\": true, \"gridcolor\": \"white\", \"linecolor\": \"white\", \"ticks\": \"\", \"title\": {\"standoff\": 15}, \"zerolinecolor\": \"white\", \"zerolinewidth\": 2}}}},\n",
              "                        {\"responsive\": true}\n",
              "                    ).then(function(){\n",
              "                            \n",
              "var gd = document.getElementById('e39928f8-42e0-4312-9e3b-9ecc31bfada7');\n",
              "var x = new MutationObserver(function (mutations, observer) {{\n",
              "        var display = window.getComputedStyle(gd).display;\n",
              "        if (!display || display === 'none') {{\n",
              "            console.log([gd, 'removed!']);\n",
              "            Plotly.purge(gd);\n",
              "            observer.disconnect();\n",
              "        }}\n",
              "}});\n",
              "\n",
              "// Listen for the removal of the full notebook cells\n",
              "var notebookContainer = gd.closest('#notebook-container');\n",
              "if (notebookContainer) {{\n",
              "    x.observe(notebookContainer, {childList: true});\n",
              "}}\n",
              "\n",
              "// Listen for the clearing of the current output cell\n",
              "var outputEl = gd.closest('.output');\n",
              "if (outputEl) {{\n",
              "    x.observe(outputEl, {childList: true});\n",
              "}}\n",
              "\n",
              "                        })\n",
              "                };\n",
              "                \n",
              "            </script>\n",
              "        </div>\n",
              "</body>\n",
              "</html>"
            ]
          },
          "metadata": {
            "tags": []
          }
        }
      ]
    },
    {
      "cell_type": "markdown",
      "metadata": {
        "id": "2UE4IXvpog08"
      },
      "source": [
        "##7.2) Histogramas das vendas por semana"
      ]
    },
    {
      "cell_type": "code",
      "metadata": {
        "id": "8IFjpNsAoqxK",
        "outputId": "787a3e11-dd3c-4ce0-c04f-21e920807f64",
        "colab": {
          "base_uri": "https://localhost:8080/"
        }
      },
      "source": [
        "plt.style.use('fivethirtyeight')\n",
        "plt.figure(2 , figsize = (200 , 5))\n",
        "plt.subplot(1 , 7, 7 )\n",
        "\n",
        "sns.distplot(Segunda)\n",
        "sns.distplot(Terça)\n",
        "sns.distplot(Quarta)\n",
        "sns.distplot(Quinta)\n",
        "sns.distplot(Sexta)\n",
        "sns.distplot(Sabádo)\n",
        "sns.distplot(Domingo)\n",
        "\n",
        "plt.show()"
      ],
      "execution_count": null,
      "outputs": [
        {
          "output_type": "display_data",
          "data": {
            "image/png": "[encoded data removed]",
            "text/plain": [
              "<Figure size 14400x360 with 1 Axes>"
            ]
          },
          "metadata": {
            "tags": []
          }
        }
      ]
    },
    {
      "cell_type": "code",
      "metadata": {
        "id": "PZwPGOVyQMzC"
      },
      "source": [
        ""
      ],
      "execution_count": null,
      "outputs": []
    },
    {
      "cell_type": "markdown",
      "metadata": {
        "id": "TaCvVVlEeuFp"
      },
      "source": [
        "#Por mes\n",
        "\n",
        "##Mes 1\n"
      ]
    },
    {
      "cell_type": "code",
      "metadata": {
        "id": "KpGVQVnLe1T-",
        "outputId": "e3609273-c60c-473a-f513-c62eaff0e4da",
        "colab": {
          "base_uri": "https://localhost:8080/",
          "height": 330
        }
      },
      "source": [
        "df_mes1 = df_semanas.iloc[0:30, :]\n",
        "df_mes1[\"Total\"] =  df_mes1.iloc[:,1] +  df_mes1.iloc[:,2] +  df_mes1.iloc[:,3] +  df_mes1.iloc[:,4] +   df_mes1.iloc[:,5] +   df_mes1.iloc[:,6] + df_mes1.iloc[:,7] +   df_mes1.iloc[:,8] +   df_mes1.iloc[:,9] +   df_mes1.iloc[:,10]\n",
        "df_mes1 = df_mes1.drop([\"Chocolate\", \"Pistache\", \"Morango\", \"Amendoim \", \"Leite_ninho\" , \"Abacaxi_suico\", \"Coco\", \"Limao\", \"Blue_ice\", \"Maracuja\" ], axis = 1)\n",
        "df_mes1.head()"
      ],
      "execution_count": null,
      "outputs": [
        {
          "output_type": "stream",
          "text": [
            "/usr/local/lib/python3.6/dist-packages/ipykernel_launcher.py:3: SettingWithCopyWarning:\n",
            "\n",
            "\n",
            "A value is trying to be set on a copy of a slice from a DataFrame.\n",
            "Try using .loc[row_indexer,col_indexer] = value instead\n",
            "\n",
            "See the caveats in the documentation: https://pandas.pydata.org/pandas-docs/stable/user_guide/indexing.html#returning-a-view-versus-a-copy\n",
            "\n"
          ],
          "name": "stderr"
        },
        {
          "output_type": "execute_result",
          "data": {
            "text/html": [
              "<div>\n",
              "<style scoped>\n",
              "    .dataframe tbody tr th:only-of-type {\n",
              "        vertical-align: middle;\n",
              "    }\n",
              "\n",
              "    .dataframe tbody tr th {\n",
              "        vertical-align: top;\n",
              "    }\n",
              "\n",
              "    .dataframe thead th {\n",
              "        text-align: right;\n",
              "    }\n",
              "</style>\n",
              "<table border=\"1\" class=\"dataframe\">\n",
              "  <thead>\n",
              "    <tr style=\"text-align: right;\">\n",
              "      <th></th>\n",
              "      <th>Dia</th>\n",
              "      <th>Total</th>\n",
              "    </tr>\n",
              "  </thead>\n",
              "  <tbody>\n",
              "    <tr>\n",
              "      <th>0</th>\n",
              "      <td>1</td>\n",
              "      <td>219</td>\n",
              "    </tr>\n",
              "    <tr>\n",
              "      <th>1</th>\n",
              "      <td>2</td>\n",
              "      <td>241</td>\n",
              "    </tr>\n",
              "    <tr>\n",
              "      <th>2</th>\n",
              "      <td>3</td>\n",
              "      <td>262</td>\n",
              "    </tr>\n",
              "    <tr>\n",
              "      <th>3</th>\n",
              "      <td>4</td>\n",
              "      <td>250</td>\n",
              "    </tr>\n",
              "    <tr>\n",
              "      <th>4</th>\n",
              "      <td>5</td>\n",
              "      <td>395</td>\n",
              "    </tr>\n",
              "  </tbody>\n",
              "</table>\n",
              "</div>"
            ],
            "text/plain": [
              "  Dia  Total\n",
              "0   1    219\n",
              "1   2    241\n",
              "2   3    262\n",
              "3   4    250\n",
              "4   5    395"
            ]
          },
          "metadata": {
            "tags": []
          },
          "execution_count": 63
        }
      ]
    },
    {
      "cell_type": "code",
      "metadata": {
        "id": "K_4w_Owhfpmg",
        "outputId": "6e943809-5be6-49eb-effa-e052e836c479",
        "colab": {
          "base_uri": "https://localhost:8080/",
          "height": 314
        }
      },
      "source": [
        "df_mes1g = df_mes1.groupby(\"Dia\")\n",
        "df_mes1g.describe()"
      ],
      "execution_count": null,
      "outputs": [
        {
          "output_type": "execute_result",
          "data": {
            "text/html": [
              "<div>\n",
              "<style scoped>\n",
              "    .dataframe tbody tr th:only-of-type {\n",
              "        vertical-align: middle;\n",
              "    }\n",
              "\n",
              "    .dataframe tbody tr th {\n",
              "        vertical-align: top;\n",
              "    }\n",
              "\n",
              "    .dataframe thead tr th {\n",
              "        text-align: left;\n",
              "    }\n",
              "\n",
              "    .dataframe thead tr:last-of-type th {\n",
              "        text-align: right;\n",
              "    }\n",
              "</style>\n",
              "<table border=\"1\" class=\"dataframe\">\n",
              "  <thead>\n",
              "    <tr>\n",
              "      <th></th>\n",
              "      <th colspan=\"8\" halign=\"left\">Total</th>\n",
              "    </tr>\n",
              "    <tr>\n",
              "      <th></th>\n",
              "      <th>count</th>\n",
              "      <th>mean</th>\n",
              "      <th>std</th>\n",
              "      <th>min</th>\n",
              "      <th>25%</th>\n",
              "      <th>50%</th>\n",
              "      <th>75%</th>\n",
              "      <th>max</th>\n",
              "    </tr>\n",
              "    <tr>\n",
              "      <th>Dia</th>\n",
              "      <th></th>\n",
              "      <th></th>\n",
              "      <th></th>\n",
              "      <th></th>\n",
              "      <th></th>\n",
              "      <th></th>\n",
              "      <th></th>\n",
              "      <th></th>\n",
              "    </tr>\n",
              "  </thead>\n",
              "  <tbody>\n",
              "    <tr>\n",
              "      <th>0</th>\n",
              "      <td>4.0</td>\n",
              "      <td>487.75</td>\n",
              "      <td>20.369503</td>\n",
              "      <td>466.0</td>\n",
              "      <td>475.00</td>\n",
              "      <td>486.0</td>\n",
              "      <td>498.75</td>\n",
              "      <td>513.0</td>\n",
              "    </tr>\n",
              "    <tr>\n",
              "      <th>1</th>\n",
              "      <td>5.0</td>\n",
              "      <td>250.80</td>\n",
              "      <td>39.455038</td>\n",
              "      <td>218.0</td>\n",
              "      <td>219.00</td>\n",
              "      <td>248.0</td>\n",
              "      <td>254.00</td>\n",
              "      <td>315.0</td>\n",
              "    </tr>\n",
              "    <tr>\n",
              "      <th>2</th>\n",
              "      <td>5.0</td>\n",
              "      <td>248.40</td>\n",
              "      <td>16.303374</td>\n",
              "      <td>226.0</td>\n",
              "      <td>241.00</td>\n",
              "      <td>247.0</td>\n",
              "      <td>261.00</td>\n",
              "      <td>267.0</td>\n",
              "    </tr>\n",
              "    <tr>\n",
              "      <th>3</th>\n",
              "      <td>4.0</td>\n",
              "      <td>207.25</td>\n",
              "      <td>54.353013</td>\n",
              "      <td>152.0</td>\n",
              "      <td>165.50</td>\n",
              "      <td>207.5</td>\n",
              "      <td>249.25</td>\n",
              "      <td>262.0</td>\n",
              "    </tr>\n",
              "    <tr>\n",
              "      <th>4</th>\n",
              "      <td>4.0</td>\n",
              "      <td>260.75</td>\n",
              "      <td>24.418231</td>\n",
              "      <td>233.0</td>\n",
              "      <td>245.75</td>\n",
              "      <td>260.5</td>\n",
              "      <td>275.50</td>\n",
              "      <td>289.0</td>\n",
              "    </tr>\n",
              "    <tr>\n",
              "      <th>5</th>\n",
              "      <td>4.0</td>\n",
              "      <td>405.25</td>\n",
              "      <td>31.794916</td>\n",
              "      <td>366.0</td>\n",
              "      <td>387.75</td>\n",
              "      <td>408.0</td>\n",
              "      <td>425.50</td>\n",
              "      <td>439.0</td>\n",
              "    </tr>\n",
              "    <tr>\n",
              "      <th>6</th>\n",
              "      <td>4.0</td>\n",
              "      <td>455.25</td>\n",
              "      <td>13.985111</td>\n",
              "      <td>446.0</td>\n",
              "      <td>447.50</td>\n",
              "      <td>449.5</td>\n",
              "      <td>457.25</td>\n",
              "      <td>476.0</td>\n",
              "    </tr>\n",
              "  </tbody>\n",
              "</table>\n",
              "</div>"
            ],
            "text/plain": [
              "    Total                                                        \n",
              "    count    mean        std    min     25%    50%     75%    max\n",
              "Dia                                                              \n",
              "0     4.0  487.75  20.369503  466.0  475.00  486.0  498.75  513.0\n",
              "1     5.0  250.80  39.455038  218.0  219.00  248.0  254.00  315.0\n",
              "2     5.0  248.40  16.303374  226.0  241.00  247.0  261.00  267.0\n",
              "3     4.0  207.25  54.353013  152.0  165.50  207.5  249.25  262.0\n",
              "4     4.0  260.75  24.418231  233.0  245.75  260.5  275.50  289.0\n",
              "5     4.0  405.25  31.794916  366.0  387.75  408.0  425.50  439.0\n",
              "6     4.0  455.25  13.985111  446.0  447.50  449.5  457.25  476.0"
            ]
          },
          "metadata": {
            "tags": []
          },
          "execution_count": 64
        }
      ]
    },
    {
      "cell_type": "code",
      "metadata": {
        "id": "27NNECPdfIfA",
        "outputId": "e9744069-b2ad-4ae0-954d-daa390f1b881",
        "colab": {
          "base_uri": "https://localhost:8080/",
          "height": 278
        }
      },
      "source": [
        "df_total = df_mes1.groupby(\"Dia\")[\"Total\"].sum().plot.barh()"
      ],
      "execution_count": null,
      "outputs": [
        {
          "output_type": "display_data",
          "data": {
            "image/png": "[encoded data removed]",
            "text/plain": [
              "<Figure size 432x288 with 1 Axes>"
            ]
          },
          "metadata": {
            "tags": []
          }
        }
      ]
    },
    {
      "cell_type": "code",
      "metadata": {
        "id": "RLOVtdqmfRHh",
        "outputId": "4c80f3d7-b90b-451d-e3ce-e5ca7ee22b1b",
        "colab": {
          "base_uri": "https://localhost:8080/",
          "height": 542
        }
      },
      "source": [
        "Segunda1 = df_mes1.loc[df_mes1[\"Dia\"]== 0, \"Total\"] \n",
        "Terça1 = df_mes1.loc[df_mes1[\"Dia\"]== 1, \"Total\"]\n",
        "Quarta1 = df_mes1.loc[df_mes1[\"Dia\"]== 2, \"Total\"]\n",
        "Quinta1 = df_mes1.loc[df_mes1[\"Dia\"]== 3, \"Total\"]\n",
        "Sexta1 = df_mes1.loc[df_mes1[\"Dia\"]== 4, \"Total\"]\n",
        "Sabádo1 = df_mes1.loc[df_mes1[\"Dia\"]== 5, \"Total\"]\n",
        "Domingo1 = df_mes1.loc[df_mes1[\"Dia\"]== 6, \"Total\"]\n",
        "\n",
        "fig1 = go.Figure()\n",
        "fig1.add_trace( go.Box ( y = Segunda1 ,  name = \"Segunda\" , marker_color='#FF4136' )) \n",
        "fig1.add_trace( go.Box ( y = Terça1 ,  name = \"Terça\" , marker_color='#FF4136' )) \n",
        "fig1.add_trace( go.Box ( y = Quarta1 ,  name = \"Quarta\" , marker_color='#FF4136' )) \n",
        "fig1.add_trace( go.Box ( y = Quinta1 ,  name = \"Quinta\" , marker_color='#FF4136' )) \n",
        "fig1.add_trace( go.Box ( y = Sexta1 ,  name = \"Sexta\" , marker_color='#FF4136' )) \n",
        "fig1.add_trace( go.Box ( y = Sabádo1 ,  name = \"Sabádo\" , marker_color='#FF4136' )) \n",
        "fig1.add_trace( go.Box ( y = Domingo1 ,  name = \"Domingo\" , marker_color='#FF4136' )) \n",
        "fig1.show ()"
      ],
      "execution_count": null,
      "outputs": [
        {
          "output_type": "display_data",
          "data": {
            "text/html": [
              "<html>\n",
              "<head><meta charset=\"utf-8\" /></head>\n",
              "<body>\n",
              "    <div>\n",
              "            <script src=\"https://cdnjs.cloudflare.com/ajax/libs/mathjax/2.7.5/MathJax.js?config=TeX-AMS-MML_SVG\"></script><script type=\"text/javascript\">if (window.MathJax) {MathJax.Hub.Config({SVG: {font: \"STIX-Web\"}});}</script>\n",
              "                <script type=\"text/javascript\">window.PlotlyConfig = {MathJaxConfig: 'local'};</script>\n",
              "        <script src=\"https://cdn.plot.ly/plotly-latest.min.js\"></script>    \n",
              "            <div id=\"ab56b8e4-439a-44a9-b058-5a028a20b39d\" class=\"plotly-graph-div\" style=\"height:525px; width:100%;\"></div>\n",
              "            <script type=\"text/javascript\">\n",
              "                \n",
              "                    window.PLOTLYENV=window.PLOTLYENV || {};\n",
              "                    \n",
              "                if (document.getElementById(\"ab56b8e4-439a-44a9-b058-5a028a20b39d\")) {\n",
              "                    Plotly.newPlot(\n",
              "                        'ab56b8e4-439a-44a9-b058-5a028a20b39d',\n",
              "                        [{\"marker\": {\"color\": \"#FF4136\"}, \"name\": \"Segunda\", \"type\": \"box\", \"y\": [478, 513, 494, 466]}, {\"marker\": {\"color\": \"#FF4136\"}, \"name\": \"Ter\\u00e7a\", \"type\": \"box\", \"y\": [219, 218, 315, 254, 248]}, {\"marker\": {\"color\": \"#FF4136\"}, \"name\": \"Quarta\", \"type\": \"box\", \"y\": [241, 247, 261, 267, 226]}, {\"marker\": {\"color\": \"#FF4136\"}, \"name\": \"Quinta\", \"type\": \"box\", \"y\": [262, 152, 170, 245]}, {\"marker\": {\"color\": \"#FF4136\"}, \"name\": \"Sexta\", \"type\": \"box\", \"y\": [250, 233, 271, 289]}, {\"marker\": {\"color\": \"#FF4136\"}, \"name\": \"Sab\\u00e1do\", \"type\": \"box\", \"y\": [395, 421, 366, 439]}, {\"marker\": {\"color\": \"#FF4136\"}, \"name\": \"Domingo\", \"type\": \"box\", \"y\": [448, 476, 446, 451]}],\n",
              "                        {\"template\": {\"data\": {\"bar\": [{\"error_x\": {\"color\": \"#2a3f5f\"}, \"error_y\": {\"color\": \"#2a3f5f\"}, \"marker\": {\"line\": {\"color\": \"#E5ECF6\", \"width\": 0.5}}, \"type\": \"bar\"}], \"barpolar\": [{\"marker\": {\"line\": {\"color\": \"#E5ECF6\", \"width\": 0.5}}, \"type\": \"barpolar\"}], \"carpet\": [{\"aaxis\": {\"endlinecolor\": \"#2a3f5f\", \"gridcolor\": \"white\", \"linecolor\": \"white\", \"minorgridcolor\": \"white\", \"startlinecolor\": \"#2a3f5f\"}, \"baxis\": {\"endlinecolor\": \"#2a3f5f\", \"gridcolor\": \"white\", \"linecolor\": \"white\", \"minorgridcolor\": \"white\", \"startlinecolor\": \"#2a3f5f\"}, \"type\": \"carpet\"}], \"choropleth\": [{\"colorbar\": {\"outlinewidth\": 0, \"ticks\": \"\"}, \"type\": \"choropleth\"}], \"contour\": [{\"colorbar\": {\"outlinewidth\": 0, \"ticks\": \"\"}, \"colorscale\": [[0.0, \"#0d0887\"], [0.1111111111111111, \"#46039f\"], [0.2222222222222222, \"#7201a8\"], [0.3333333333333333, \"#9c179e\"], [0.4444444444444444, \"#bd3786\"], [0.5555555555555556, \"#d8576b\"], [0.6666666666666666, \"#ed7953\"], [0.7777777777777778, \"#fb9f3a\"], [0.8888888888888888, \"#fdca26\"], [1.0, \"#f0f921\"]], \"type\": \"contour\"}], \"contourcarpet\": [{\"colorbar\": {\"outlinewidth\": 0, \"ticks\": \"\"}, \"type\": \"contourcarpet\"}], \"heatmap\": [{\"colorbar\": {\"outlinewidth\": 0, \"ticks\": \"\"}, \"colorscale\": [[0.0, \"#0d0887\"], [0.1111111111111111, \"#46039f\"], [0.2222222222222222, \"#7201a8\"], [0.3333333333333333, \"#9c179e\"], [0.4444444444444444, \"#bd3786\"], [0.5555555555555556, \"#d8576b\"], [0.6666666666666666, \"#ed7953\"], [0.7777777777777778, \"#fb9f3a\"], [0.8888888888888888, \"#fdca26\"], [1.0, \"#f0f921\"]], \"type\": \"heatmap\"}], \"heatmapgl\": [{\"colorbar\": {\"outlinewidth\": 0, \"ticks\": \"\"}, \"colorscale\": [[0.0, \"#0d0887\"], [0.1111111111111111, \"#46039f\"], [0.2222222222222222, \"#7201a8\"], [0.3333333333333333, \"#9c179e\"], [0.4444444444444444, \"#bd3786\"], [0.5555555555555556, \"#d8576b\"], [0.6666666666666666, \"#ed7953\"], [0.7777777777777778, \"#fb9f3a\"], [0.8888888888888888, \"#fdca26\"], [1.0, \"#f0f921\"]], \"type\": \"heatmapgl\"}], \"histogram\": [{\"marker\": {\"colorbar\": {\"outlinewidth\": 0, \"ticks\": \"\"}}, \"type\": \"histogram\"}], \"histogram2d\": [{\"colorbar\": {\"outlinewidth\": 0, \"ticks\": \"\"}, \"colorscale\": [[0.0, \"#0d0887\"], [0.1111111111111111, \"#46039f\"], [0.2222222222222222, \"#7201a8\"], [0.3333333333333333, \"#9c179e\"], [0.4444444444444444, \"#bd3786\"], [0.5555555555555556, \"#d8576b\"], [0.6666666666666666, \"#ed7953\"], [0.7777777777777778, \"#fb9f3a\"], [0.8888888888888888, \"#fdca26\"], [1.0, \"#f0f921\"]], \"type\": \"histogram2d\"}], \"histogram2dcontour\": [{\"colorbar\": {\"outlinewidth\": 0, \"ticks\": \"\"}, \"colorscale\": [[0.0, \"#0d0887\"], [0.1111111111111111, \"#46039f\"], [0.2222222222222222, \"#7201a8\"], [0.3333333333333333, \"#9c179e\"], [0.4444444444444444, \"#bd3786\"], [0.5555555555555556, \"#d8576b\"], [0.6666666666666666, \"#ed7953\"], [0.7777777777777778, \"#fb9f3a\"], [0.8888888888888888, \"#fdca26\"], [1.0, \"#f0f921\"]], \"type\": \"histogram2dcontour\"}], \"mesh3d\": [{\"colorbar\": {\"outlinewidth\": 0, \"ticks\": \"\"}, \"type\": \"mesh3d\"}], \"parcoords\": [{\"line\": {\"colorbar\": {\"outlinewidth\": 0, \"ticks\": \"\"}}, \"type\": \"parcoords\"}], \"pie\": [{\"automargin\": true, \"type\": \"pie\"}], \"scatter\": [{\"marker\": {\"colorbar\": {\"outlinewidth\": 0, \"ticks\": \"\"}}, \"type\": \"scatter\"}], \"scatter3d\": [{\"line\": {\"colorbar\": {\"outlinewidth\": 0, \"ticks\": \"\"}}, \"marker\": {\"colorbar\": {\"outlinewidth\": 0, \"ticks\": \"\"}}, \"type\": \"scatter3d\"}], \"scattercarpet\": [{\"marker\": {\"colorbar\": {\"outlinewidth\": 0, \"ticks\": \"\"}}, \"type\": \"scattercarpet\"}], \"scattergeo\": [{\"marker\": {\"colorbar\": {\"outlinewidth\": 0, \"ticks\": \"\"}}, \"type\": \"scattergeo\"}], \"scattergl\": [{\"marker\": {\"colorbar\": {\"outlinewidth\": 0, \"ticks\": \"\"}}, \"type\": \"scattergl\"}], \"scattermapbox\": [{\"marker\": {\"colorbar\": {\"outlinewidth\": 0, \"ticks\": \"\"}}, \"type\": \"scattermapbox\"}], \"scatterpolar\": [{\"marker\": {\"colorbar\": {\"outlinewidth\": 0, \"ticks\": \"\"}}, \"type\": \"scatterpolar\"}], \"scatterpolargl\": [{\"marker\": {\"colorbar\": {\"outlinewidth\": 0, \"ticks\": \"\"}}, \"type\": \"scatterpolargl\"}], \"scatterternary\": [{\"marker\": {\"colorbar\": {\"outlinewidth\": 0, \"ticks\": \"\"}}, \"type\": \"scatterternary\"}], \"surface\": [{\"colorbar\": {\"outlinewidth\": 0, \"ticks\": \"\"}, \"colorscale\": [[0.0, \"#0d0887\"], [0.1111111111111111, \"#46039f\"], [0.2222222222222222, \"#7201a8\"], [0.3333333333333333, \"#9c179e\"], [0.4444444444444444, \"#bd3786\"], [0.5555555555555556, \"#d8576b\"], [0.6666666666666666, \"#ed7953\"], [0.7777777777777778, \"#fb9f3a\"], [0.8888888888888888, \"#fdca26\"], [1.0, \"#f0f921\"]], \"type\": \"surface\"}], \"table\": [{\"cells\": {\"fill\": {\"color\": \"#EBF0F8\"}, \"line\": {\"color\": \"white\"}}, \"header\": {\"fill\": {\"color\": \"#C8D4E3\"}, \"line\": {\"color\": \"white\"}}, \"type\": \"table\"}]}, \"layout\": {\"annotationdefaults\": {\"arrowcolor\": \"#2a3f5f\", \"arrowhead\": 0, \"arrowwidth\": 1}, \"coloraxis\": {\"colorbar\": {\"outlinewidth\": 0, \"ticks\": \"\"}}, \"colorscale\": {\"diverging\": [[0, \"#8e0152\"], [0.1, \"#c51b7d\"], [0.2, \"#de77ae\"], [0.3, \"#f1b6da\"], [0.4, \"#fde0ef\"], [0.5, \"#f7f7f7\"], [0.6, \"#e6f5d0\"], [0.7, \"#b8e186\"], [0.8, \"#7fbc41\"], [0.9, \"#4d9221\"], [1, \"#276419\"]], \"sequential\": [[0.0, \"#0d0887\"], [0.1111111111111111, \"#46039f\"], [0.2222222222222222, \"#7201a8\"], [0.3333333333333333, \"#9c179e\"], [0.4444444444444444, \"#bd3786\"], [0.5555555555555556, \"#d8576b\"], [0.6666666666666666, \"#ed7953\"], [0.7777777777777778, \"#fb9f3a\"], [0.8888888888888888, \"#fdca26\"], [1.0, \"#f0f921\"]], \"sequentialminus\": [[0.0, \"#0d0887\"], [0.1111111111111111, \"#46039f\"], [0.2222222222222222, \"#7201a8\"], [0.3333333333333333, \"#9c179e\"], [0.4444444444444444, \"#bd3786\"], [0.5555555555555556, \"#d8576b\"], [0.6666666666666666, \"#ed7953\"], [0.7777777777777778, \"#fb9f3a\"], [0.8888888888888888, \"#fdca26\"], [1.0, \"#f0f921\"]]}, \"colorway\": [\"#636efa\", \"#EF553B\", \"#00cc96\", \"#ab63fa\", \"#FFA15A\", \"#19d3f3\", \"#FF6692\", \"#B6E880\", \"#FF97FF\", \"#FECB52\"], \"font\": {\"color\": \"#2a3f5f\"}, \"geo\": {\"bgcolor\": \"white\", \"lakecolor\": \"white\", \"landcolor\": \"#E5ECF6\", \"showlakes\": true, \"showland\": true, \"subunitcolor\": \"white\"}, \"hoverlabel\": {\"align\": \"left\"}, \"hovermode\": \"closest\", \"mapbox\": {\"style\": \"light\"}, \"paper_bgcolor\": \"white\", \"plot_bgcolor\": \"#E5ECF6\", \"polar\": {\"angularaxis\": {\"gridcolor\": \"white\", \"linecolor\": \"white\", \"ticks\": \"\"}, \"bgcolor\": \"#E5ECF6\", \"radialaxis\": {\"gridcolor\": \"white\", \"linecolor\": \"white\", \"ticks\": \"\"}}, \"scene\": {\"xaxis\": {\"backgroundcolor\": \"#E5ECF6\", \"gridcolor\": \"white\", \"gridwidth\": 2, \"linecolor\": \"white\", \"showbackground\": true, \"ticks\": \"\", \"zerolinecolor\": \"white\"}, \"yaxis\": {\"backgroundcolor\": \"#E5ECF6\", \"gridcolor\": \"white\", \"gridwidth\": 2, \"linecolor\": \"white\", \"showbackground\": true, \"ticks\": \"\", \"zerolinecolor\": \"white\"}, \"zaxis\": {\"backgroundcolor\": \"#E5ECF6\", \"gridcolor\": \"white\", \"gridwidth\": 2, \"linecolor\": \"white\", \"showbackground\": true, \"ticks\": \"\", \"zerolinecolor\": \"white\"}}, \"shapedefaults\": {\"line\": {\"color\": \"#2a3f5f\"}}, \"ternary\": {\"aaxis\": {\"gridcolor\": \"white\", \"linecolor\": \"white\", \"ticks\": \"\"}, \"baxis\": {\"gridcolor\": \"white\", \"linecolor\": \"white\", \"ticks\": \"\"}, \"bgcolor\": \"#E5ECF6\", \"caxis\": {\"gridcolor\": \"white\", \"linecolor\": \"white\", \"ticks\": \"\"}}, \"title\": {\"x\": 0.05}, \"xaxis\": {\"automargin\": true, \"gridcolor\": \"white\", \"linecolor\": \"white\", \"ticks\": \"\", \"title\": {\"standoff\": 15}, \"zerolinecolor\": \"white\", \"zerolinewidth\": 2}, \"yaxis\": {\"automargin\": true, \"gridcolor\": \"white\", \"linecolor\": \"white\", \"ticks\": \"\", \"title\": {\"standoff\": 15}, \"zerolinecolor\": \"white\", \"zerolinewidth\": 2}}}},\n",
              "                        {\"responsive\": true}\n",
              "                    ).then(function(){\n",
              "                            \n",
              "var gd = document.getElementById('ab56b8e4-439a-44a9-b058-5a028a20b39d');\n",
              "var x = new MutationObserver(function (mutations, observer) {{\n",
              "        var display = window.getComputedStyle(gd).display;\n",
              "        if (!display || display === 'none') {{\n",
              "            console.log([gd, 'removed!']);\n",
              "            Plotly.purge(gd);\n",
              "            observer.disconnect();\n",
              "        }}\n",
              "}});\n",
              "\n",
              "// Listen for the removal of the full notebook cells\n",
              "var notebookContainer = gd.closest('#notebook-container');\n",
              "if (notebookContainer) {{\n",
              "    x.observe(notebookContainer, {childList: true});\n",
              "}}\n",
              "\n",
              "// Listen for the clearing of the current output cell\n",
              "var outputEl = gd.closest('.output');\n",
              "if (outputEl) {{\n",
              "    x.observe(outputEl, {childList: true});\n",
              "}}\n",
              "\n",
              "                        })\n",
              "                };\n",
              "                \n",
              "            </script>\n",
              "        </div>\n",
              "</body>\n",
              "</html>"
            ]
          },
          "metadata": {
            "tags": []
          }
        }
      ]
    },
    {
      "cell_type": "markdown",
      "metadata": {
        "id": "1UBbYWrRglXE"
      },
      "source": [
        "##Mes 2\n"
      ]
    },
    {
      "cell_type": "code",
      "metadata": {
        "id": "YDGR5O6Yfkuu",
        "outputId": "cd6577a7-90ef-4aa1-a952-55c75f4a597b",
        "colab": {
          "base_uri": "https://localhost:8080/",
          "height": 330
        }
      },
      "source": [
        "df_mes2 = df_semanas.iloc[31:61, :]\n",
        "df_mes2[\"Total\"] =  df_mes2.iloc[:,1] +  df_mes2.iloc[:,2] +  df_mes2.iloc[:,3] +  df_mes2.iloc[:,4] +   df_mes2.iloc[:,5] +   df_mes2.iloc[:,6] + df_mes2.iloc[:,7] + df_mes2.iloc[:,8] +   df_mes2.iloc[:,9] +   df_mes2.iloc[:,10]\n",
        "df_mes2 = df_mes2.drop([\"Chocolate\", \"Pistache\", \"Morango\", \"Amendoim \", \"Leite_ninho\" , \"Abacaxi_suico\", \"Coco\", \"Limao\", \"Blue_ice\", \"Maracuja\" ], axis = 1)\n",
        "df_mes2.head()"
      ],
      "execution_count": null,
      "outputs": [
        {
          "output_type": "stream",
          "text": [
            "/usr/local/lib/python3.6/dist-packages/ipykernel_launcher.py:2: SettingWithCopyWarning:\n",
            "\n",
            "\n",
            "A value is trying to be set on a copy of a slice from a DataFrame.\n",
            "Try using .loc[row_indexer,col_indexer] = value instead\n",
            "\n",
            "See the caveats in the documentation: https://pandas.pydata.org/pandas-docs/stable/user_guide/indexing.html#returning-a-view-versus-a-copy\n",
            "\n"
          ],
          "name": "stderr"
        },
        {
          "output_type": "execute_result",
          "data": {
            "text/html": [
              "<div>\n",
              "<style scoped>\n",
              "    .dataframe tbody tr th:only-of-type {\n",
              "        vertical-align: middle;\n",
              "    }\n",
              "\n",
              "    .dataframe tbody tr th {\n",
              "        vertical-align: top;\n",
              "    }\n",
              "\n",
              "    .dataframe thead th {\n",
              "        text-align: right;\n",
              "    }\n",
              "</style>\n",
              "<table border=\"1\" class=\"dataframe\">\n",
              "  <thead>\n",
              "    <tr style=\"text-align: right;\">\n",
              "      <th></th>\n",
              "      <th>Dia</th>\n",
              "      <th>Total</th>\n",
              "    </tr>\n",
              "  </thead>\n",
              "  <tbody>\n",
              "    <tr>\n",
              "      <th>31</th>\n",
              "      <td>4</td>\n",
              "      <td>256</td>\n",
              "    </tr>\n",
              "    <tr>\n",
              "      <th>32</th>\n",
              "      <td>5</td>\n",
              "      <td>385</td>\n",
              "    </tr>\n",
              "    <tr>\n",
              "      <th>33</th>\n",
              "      <td>6</td>\n",
              "      <td>440</td>\n",
              "    </tr>\n",
              "    <tr>\n",
              "      <th>34</th>\n",
              "      <td>0</td>\n",
              "      <td>494</td>\n",
              "    </tr>\n",
              "    <tr>\n",
              "      <th>35</th>\n",
              "      <td>1</td>\n",
              "      <td>262</td>\n",
              "    </tr>\n",
              "  </tbody>\n",
              "</table>\n",
              "</div>"
            ],
            "text/plain": [
              "   Dia  Total\n",
              "31   4    256\n",
              "32   5    385\n",
              "33   6    440\n",
              "34   0    494\n",
              "35   1    262"
            ]
          },
          "metadata": {
            "tags": []
          },
          "execution_count": 67
        }
      ]
    },
    {
      "cell_type": "code",
      "metadata": {
        "id": "xOVkrwO-g4SI",
        "outputId": "49f308e2-51e0-42c8-cb24-059b0487fffd",
        "colab": {
          "base_uri": "https://localhost:8080/",
          "height": 314
        }
      },
      "source": [
        "df_mes1g = df_mes1.groupby(\"Dia\")\n",
        "df_mes1g.describe()"
      ],
      "execution_count": null,
      "outputs": [
        {
          "output_type": "execute_result",
          "data": {
            "text/html": [
              "<div>\n",
              "<style scoped>\n",
              "    .dataframe tbody tr th:only-of-type {\n",
              "        vertical-align: middle;\n",
              "    }\n",
              "\n",
              "    .dataframe tbody tr th {\n",
              "        vertical-align: top;\n",
              "    }\n",
              "\n",
              "    .dataframe thead tr th {\n",
              "        text-align: left;\n",
              "    }\n",
              "\n",
              "    .dataframe thead tr:last-of-type th {\n",
              "        text-align: right;\n",
              "    }\n",
              "</style>\n",
              "<table border=\"1\" class=\"dataframe\">\n",
              "  <thead>\n",
              "    <tr>\n",
              "      <th></th>\n",
              "      <th colspan=\"8\" halign=\"left\">Total</th>\n",
              "    </tr>\n",
              "    <tr>\n",
              "      <th></th>\n",
              "      <th>count</th>\n",
              "      <th>mean</th>\n",
              "      <th>std</th>\n",
              "      <th>min</th>\n",
              "      <th>25%</th>\n",
              "      <th>50%</th>\n",
              "      <th>75%</th>\n",
              "      <th>max</th>\n",
              "    </tr>\n",
              "    <tr>\n",
              "      <th>Dia</th>\n",
              "      <th></th>\n",
              "      <th></th>\n",
              "      <th></th>\n",
              "      <th></th>\n",
              "      <th></th>\n",
              "      <th></th>\n",
              "      <th></th>\n",
              "      <th></th>\n",
              "    </tr>\n",
              "  </thead>\n",
              "  <tbody>\n",
              "    <tr>\n",
              "      <th>0</th>\n",
              "      <td>4.0</td>\n",
              "      <td>487.75</td>\n",
              "      <td>20.369503</td>\n",
              "      <td>466.0</td>\n",
              "      <td>475.00</td>\n",
              "      <td>486.0</td>\n",
              "      <td>498.75</td>\n",
              "      <td>513.0</td>\n",
              "    </tr>\n",
              "    <tr>\n",
              "      <th>1</th>\n",
              "      <td>5.0</td>\n",
              "      <td>250.80</td>\n",
              "      <td>39.455038</td>\n",
              "      <td>218.0</td>\n",
              "      <td>219.00</td>\n",
              "      <td>248.0</td>\n",
              "      <td>254.00</td>\n",
              "      <td>315.0</td>\n",
              "    </tr>\n",
              "    <tr>\n",
              "      <th>2</th>\n",
              "      <td>5.0</td>\n",
              "      <td>248.40</td>\n",
              "      <td>16.303374</td>\n",
              "      <td>226.0</td>\n",
              "      <td>241.00</td>\n",
              "      <td>247.0</td>\n",
              "      <td>261.00</td>\n",
              "      <td>267.0</td>\n",
              "    </tr>\n",
              "    <tr>\n",
              "      <th>3</th>\n",
              "      <td>4.0</td>\n",
              "      <td>207.25</td>\n",
              "      <td>54.353013</td>\n",
              "      <td>152.0</td>\n",
              "      <td>165.50</td>\n",
              "      <td>207.5</td>\n",
              "      <td>249.25</td>\n",
              "      <td>262.0</td>\n",
              "    </tr>\n",
              "    <tr>\n",
              "      <th>4</th>\n",
              "      <td>4.0</td>\n",
              "      <td>260.75</td>\n",
              "      <td>24.418231</td>\n",
              "      <td>233.0</td>\n",
              "      <td>245.75</td>\n",
              "      <td>260.5</td>\n",
              "      <td>275.50</td>\n",
              "      <td>289.0</td>\n",
              "    </tr>\n",
              "    <tr>\n",
              "      <th>5</th>\n",
              "      <td>4.0</td>\n",
              "      <td>405.25</td>\n",
              "      <td>31.794916</td>\n",
              "      <td>366.0</td>\n",
              "      <td>387.75</td>\n",
              "      <td>408.0</td>\n",
              "      <td>425.50</td>\n",
              "      <td>439.0</td>\n",
              "    </tr>\n",
              "    <tr>\n",
              "      <th>6</th>\n",
              "      <td>4.0</td>\n",
              "      <td>455.25</td>\n",
              "      <td>13.985111</td>\n",
              "      <td>446.0</td>\n",
              "      <td>447.50</td>\n",
              "      <td>449.5</td>\n",
              "      <td>457.25</td>\n",
              "      <td>476.0</td>\n",
              "    </tr>\n",
              "  </tbody>\n",
              "</table>\n",
              "</div>"
            ],
            "text/plain": [
              "    Total                                                        \n",
              "    count    mean        std    min     25%    50%     75%    max\n",
              "Dia                                                              \n",
              "0     4.0  487.75  20.369503  466.0  475.00  486.0  498.75  513.0\n",
              "1     5.0  250.80  39.455038  218.0  219.00  248.0  254.00  315.0\n",
              "2     5.0  248.40  16.303374  226.0  241.00  247.0  261.00  267.0\n",
              "3     4.0  207.25  54.353013  152.0  165.50  207.5  249.25  262.0\n",
              "4     4.0  260.75  24.418231  233.0  245.75  260.5  275.50  289.0\n",
              "5     4.0  405.25  31.794916  366.0  387.75  408.0  425.50  439.0\n",
              "6     4.0  455.25  13.985111  446.0  447.50  449.5  457.25  476.0"
            ]
          },
          "metadata": {
            "tags": []
          },
          "execution_count": 68
        }
      ]
    },
    {
      "cell_type": "code",
      "metadata": {
        "id": "umRxM1xqg8TL",
        "outputId": "555f8cab-6ce0-42cc-ac6c-a9e7839beb4a",
        "colab": {
          "base_uri": "https://localhost:8080/",
          "height": 278
        }
      },
      "source": [
        "df_total = df_mes1.groupby(\"Dia\")[\"Total\"].sum().plot.barh()"
      ],
      "execution_count": null,
      "outputs": [
        {
          "output_type": "display_data",
          "data": {
            "image/png": "[encoded data removed]",
            "text/plain": [
              "<Figure size 432x288 with 1 Axes>"
            ]
          },
          "metadata": {
            "tags": []
          }
        }
      ]
    },
    {
      "cell_type": "code",
      "metadata": {
        "id": "KY0HPkzAg-nW",
        "outputId": "64ebd937-80b7-41d5-8e9c-66b9218d0a6c",
        "colab": {
          "base_uri": "https://localhost:8080/",
          "height": 542
        }
      },
      "source": [
        "Segunda2 = df_mes2.loc[df_mes2[\"Dia\"]== 0, \"Total\"] \n",
        "Terça2 = df_mes2.loc[df_mes2[\"Dia\"]== 1, \"Total\"]\n",
        "Quarta2 = df_mes2.loc[df_mes2[\"Dia\"]== 2, \"Total\"]\n",
        "Quinta2 = df_mes2.loc[df_mes2[\"Dia\"]== 3, \"Total\"]\n",
        "Sexta2 = df_mes2.loc[df_mes2[\"Dia\"]== 4, \"Total\"]\n",
        "Sabádo2 = df_mes2.loc[df_mes2[\"Dia\"]== 5, \"Total\"]\n",
        "Domingo2 = df_mes2.loc[df_mes2[\"Dia\"]== 6, \"Total\"]\n",
        "\n",
        "fig2 = go.Figure()\n",
        "fig2.add_trace( go.Box ( y = Segunda2 ,  name = \"Segunda\" , marker_color='#FF4136' )) \n",
        "fig2.add_trace( go.Box ( y = Terça2 ,  name = \"Terça\" , marker_color='#FF4136' )) \n",
        "fig2.add_trace( go.Box ( y = Quarta2 ,  name = \"Quarta\" , marker_color='#FF4136' )) \n",
        "fig2.add_trace( go.Box ( y = Quinta2 ,  name = \"Quinta\" , marker_color='#FF4136' )) \n",
        "fig2.add_trace( go.Box ( y = Sexta2 ,  name = \"Sexta\" , marker_color='#FF4136' )) \n",
        "fig2.add_trace( go.Box ( y = Sabádo2 ,  name = \"Sabádo\" , marker_color='#FF4136' )) \n",
        "fig2.add_trace( go.Box ( y = Domingo2 ,  name = \"Domingo\" , marker_color='#FF4136' )) \n",
        "fig2.show ()"
      ],
      "execution_count": null,
      "outputs": [
        {
          "output_type": "display_data",
          "data": {
            "text/html": [
              "<html>\n",
              "<head><meta charset=\"utf-8\" /></head>\n",
              "<body>\n",
              "    <div>\n",
              "            <script src=\"https://cdnjs.cloudflare.com/ajax/libs/mathjax/2.7.5/MathJax.js?config=TeX-AMS-MML_SVG\"></script><script type=\"text/javascript\">if (window.MathJax) {MathJax.Hub.Config({SVG: {font: \"STIX-Web\"}});}</script>\n",
              "                <script type=\"text/javascript\">window.PlotlyConfig = {MathJaxConfig: 'local'};</script>\n",
              "        <script src=\"https://cdn.plot.ly/plotly-latest.min.js\"></script>    \n",
              "            <div id=\"c1e3d1d7-aaab-4949-8ef1-024768ab2896\" class=\"plotly-graph-div\" style=\"height:525px; width:100%;\"></div>\n",
              "            <script type=\"text/javascript\">\n",
              "                \n",
              "                    window.PLOTLYENV=window.PLOTLYENV || {};\n",
              "                    \n",
              "                if (document.getElementById(\"c1e3d1d7-aaab-4949-8ef1-024768ab2896\")) {\n",
              "                    Plotly.newPlot(\n",
              "                        'c1e3d1d7-aaab-4949-8ef1-024768ab2896',\n",
              "                        [{\"marker\": {\"color\": \"#FF4136\"}, \"name\": \"Segunda\", \"type\": \"box\", \"y\": [494, 487, 504, 487]}, {\"marker\": {\"color\": \"#FF4136\"}, \"name\": \"Ter\\u00e7a\", \"type\": \"box\", \"y\": [262, 254, 246, 247]}, {\"marker\": {\"color\": \"#FF4136\"}, \"name\": \"Quarta\", \"type\": \"box\", \"y\": [273, 237, 254, 285]}, {\"marker\": {\"color\": \"#FF4136\"}, \"name\": \"Quinta\", \"type\": \"box\", \"y\": [199, 215, 186, 168]}, {\"marker\": {\"color\": \"#FF4136\"}, \"name\": \"Sexta\", \"type\": \"box\", \"y\": [256, 255, 253, 266, 245]}, {\"marker\": {\"color\": \"#FF4136\"}, \"name\": \"Sab\\u00e1do\", \"type\": \"box\", \"y\": [385, 371, 398, 420, 418]}, {\"marker\": {\"color\": \"#FF4136\"}, \"name\": \"Domingo\", \"type\": \"box\", \"y\": [440, 446, 446, 424]}],\n",
              "                        {\"template\": {\"data\": {\"bar\": [{\"error_x\": {\"color\": \"#2a3f5f\"}, \"error_y\": {\"color\": \"#2a3f5f\"}, \"marker\": {\"line\": {\"color\": \"#E5ECF6\", \"width\": 0.5}}, \"type\": \"bar\"}], \"barpolar\": [{\"marker\": {\"line\": {\"color\": \"#E5ECF6\", \"width\": 0.5}}, \"type\": \"barpolar\"}], \"carpet\": [{\"aaxis\": {\"endlinecolor\": \"#2a3f5f\", \"gridcolor\": \"white\", \"linecolor\": \"white\", \"minorgridcolor\": \"white\", \"startlinecolor\": \"#2a3f5f\"}, \"baxis\": {\"endlinecolor\": \"#2a3f5f\", \"gridcolor\": \"white\", \"linecolor\": \"white\", \"minorgridcolor\": \"white\", \"startlinecolor\": \"#2a3f5f\"}, \"type\": \"carpet\"}], \"choropleth\": [{\"colorbar\": {\"outlinewidth\": 0, \"ticks\": \"\"}, \"type\": \"choropleth\"}], \"contour\": [{\"colorbar\": {\"outlinewidth\": 0, \"ticks\": \"\"}, \"colorscale\": [[0.0, \"#0d0887\"], [0.1111111111111111, \"#46039f\"], [0.2222222222222222, \"#7201a8\"], [0.3333333333333333, \"#9c179e\"], [0.4444444444444444, \"#bd3786\"], [0.5555555555555556, \"#d8576b\"], [0.6666666666666666, \"#ed7953\"], [0.7777777777777778, \"#fb9f3a\"], [0.8888888888888888, \"#fdca26\"], [1.0, \"#f0f921\"]], \"type\": \"contour\"}], \"contourcarpet\": [{\"colorbar\": {\"outlinewidth\": 0, \"ticks\": \"\"}, \"type\": \"contourcarpet\"}], \"heatmap\": [{\"colorbar\": {\"outlinewidth\": 0, \"ticks\": \"\"}, \"colorscale\": [[0.0, \"#0d0887\"], [0.1111111111111111, \"#46039f\"], [0.2222222222222222, \"#7201a8\"], [0.3333333333333333, \"#9c179e\"], [0.4444444444444444, \"#bd3786\"], [0.5555555555555556, \"#d8576b\"], [0.6666666666666666, \"#ed7953\"], [0.7777777777777778, \"#fb9f3a\"], [0.8888888888888888, \"#fdca26\"], [1.0, \"#f0f921\"]], \"type\": \"heatmap\"}], \"heatmapgl\": [{\"colorbar\": {\"outlinewidth\": 0, \"ticks\": \"\"}, \"colorscale\": [[0.0, \"#0d0887\"], [0.1111111111111111, \"#46039f\"], [0.2222222222222222, \"#7201a8\"], [0.3333333333333333, \"#9c179e\"], [0.4444444444444444, \"#bd3786\"], [0.5555555555555556, \"#d8576b\"], [0.6666666666666666, \"#ed7953\"], [0.7777777777777778, \"#fb9f3a\"], [0.8888888888888888, \"#fdca26\"], [1.0, \"#f0f921\"]], \"type\": \"heatmapgl\"}], \"histogram\": [{\"marker\": {\"colorbar\": {\"outlinewidth\": 0, \"ticks\": \"\"}}, \"type\": \"histogram\"}], \"histogram2d\": [{\"colorbar\": {\"outlinewidth\": 0, \"ticks\": \"\"}, \"colorscale\": [[0.0, \"#0d0887\"], [0.1111111111111111, \"#46039f\"], [0.2222222222222222, \"#7201a8\"], [0.3333333333333333, \"#9c179e\"], [0.4444444444444444, \"#bd3786\"], [0.5555555555555556, \"#d8576b\"], [0.6666666666666666, \"#ed7953\"], [0.7777777777777778, \"#fb9f3a\"], [0.8888888888888888, \"#fdca26\"], [1.0, \"#f0f921\"]], \"type\": \"histogram2d\"}], \"histogram2dcontour\": [{\"colorbar\": {\"outlinewidth\": 0, \"ticks\": \"\"}, \"colorscale\": [[0.0, \"#0d0887\"], [0.1111111111111111, \"#46039f\"], [0.2222222222222222, \"#7201a8\"], [0.3333333333333333, \"#9c179e\"], [0.4444444444444444, \"#bd3786\"], [0.5555555555555556, \"#d8576b\"], [0.6666666666666666, \"#ed7953\"], [0.7777777777777778, \"#fb9f3a\"], [0.8888888888888888, \"#fdca26\"], [1.0, \"#f0f921\"]], \"type\": \"histogram2dcontour\"}], \"mesh3d\": [{\"colorbar\": {\"outlinewidth\": 0, \"ticks\": \"\"}, \"type\": \"mesh3d\"}], \"parcoords\": [{\"line\": {\"colorbar\": {\"outlinewidth\": 0, \"ticks\": \"\"}}, \"type\": \"parcoords\"}], \"pie\": [{\"automargin\": true, \"type\": \"pie\"}], \"scatter\": [{\"marker\": {\"colorbar\": {\"outlinewidth\": 0, \"ticks\": \"\"}}, \"type\": \"scatter\"}], \"scatter3d\": [{\"line\": {\"colorbar\": {\"outlinewidth\": 0, \"ticks\": \"\"}}, \"marker\": {\"colorbar\": {\"outlinewidth\": 0, \"ticks\": \"\"}}, \"type\": \"scatter3d\"}], \"scattercarpet\": [{\"marker\": {\"colorbar\": {\"outlinewidth\": 0, \"ticks\": \"\"}}, \"type\": \"scattercarpet\"}], \"scattergeo\": [{\"marker\": {\"colorbar\": {\"outlinewidth\": 0, \"ticks\": \"\"}}, \"type\": \"scattergeo\"}], \"scattergl\": [{\"marker\": {\"colorbar\": {\"outlinewidth\": 0, \"ticks\": \"\"}}, \"type\": \"scattergl\"}], \"scattermapbox\": [{\"marker\": {\"colorbar\": {\"outlinewidth\": 0, \"ticks\": \"\"}}, \"type\": \"scattermapbox\"}], \"scatterpolar\": [{\"marker\": {\"colorbar\": {\"outlinewidth\": 0, \"ticks\": \"\"}}, \"type\": \"scatterpolar\"}], \"scatterpolargl\": [{\"marker\": {\"colorbar\": {\"outlinewidth\": 0, \"ticks\": \"\"}}, \"type\": \"scatterpolargl\"}], \"scatterternary\": [{\"marker\": {\"colorbar\": {\"outlinewidth\": 0, \"ticks\": \"\"}}, \"type\": \"scatterternary\"}], \"surface\": [{\"colorbar\": {\"outlinewidth\": 0, \"ticks\": \"\"}, \"colorscale\": [[0.0, \"#0d0887\"], [0.1111111111111111, \"#46039f\"], [0.2222222222222222, \"#7201a8\"], [0.3333333333333333, \"#9c179e\"], [0.4444444444444444, \"#bd3786\"], [0.5555555555555556, \"#d8576b\"], [0.6666666666666666, \"#ed7953\"], [0.7777777777777778, \"#fb9f3a\"], [0.8888888888888888, \"#fdca26\"], [1.0, \"#f0f921\"]], \"type\": \"surface\"}], \"table\": [{\"cells\": {\"fill\": {\"color\": \"#EBF0F8\"}, \"line\": {\"color\": \"white\"}}, \"header\": {\"fill\": {\"color\": \"#C8D4E3\"}, \"line\": {\"color\": \"white\"}}, \"type\": \"table\"}]}, \"layout\": {\"annotationdefaults\": {\"arrowcolor\": \"#2a3f5f\", \"arrowhead\": 0, \"arrowwidth\": 1}, \"coloraxis\": {\"colorbar\": {\"outlinewidth\": 0, \"ticks\": \"\"}}, \"colorscale\": {\"diverging\": [[0, \"#8e0152\"], [0.1, \"#c51b7d\"], [0.2, \"#de77ae\"], [0.3, \"#f1b6da\"], [0.4, \"#fde0ef\"], [0.5, \"#f7f7f7\"], [0.6, \"#e6f5d0\"], [0.7, \"#b8e186\"], [0.8, \"#7fbc41\"], [0.9, \"#4d9221\"], [1, \"#276419\"]], \"sequential\": [[0.0, \"#0d0887\"], [0.1111111111111111, \"#46039f\"], [0.2222222222222222, \"#7201a8\"], [0.3333333333333333, \"#9c179e\"], [0.4444444444444444, \"#bd3786\"], [0.5555555555555556, \"#d8576b\"], [0.6666666666666666, \"#ed7953\"], [0.7777777777777778, \"#fb9f3a\"], [0.8888888888888888, \"#fdca26\"], [1.0, \"#f0f921\"]], \"sequentialminus\": [[0.0, \"#0d0887\"], [0.1111111111111111, \"#46039f\"], [0.2222222222222222, \"#7201a8\"], [0.3333333333333333, \"#9c179e\"], [0.4444444444444444, \"#bd3786\"], [0.5555555555555556, \"#d8576b\"], [0.6666666666666666, \"#ed7953\"], [0.7777777777777778, \"#fb9f3a\"], [0.8888888888888888, \"#fdca26\"], [1.0, \"#f0f921\"]]}, \"colorway\": [\"#636efa\", \"#EF553B\", \"#00cc96\", \"#ab63fa\", \"#FFA15A\", \"#19d3f3\", \"#FF6692\", \"#B6E880\", \"#FF97FF\", \"#FECB52\"], \"font\": {\"color\": \"#2a3f5f\"}, \"geo\": {\"bgcolor\": \"white\", \"lakecolor\": \"white\", \"landcolor\": \"#E5ECF6\", \"showlakes\": true, \"showland\": true, \"subunitcolor\": \"white\"}, \"hoverlabel\": {\"align\": \"left\"}, \"hovermode\": \"closest\", \"mapbox\": {\"style\": \"light\"}, \"paper_bgcolor\": \"white\", \"plot_bgcolor\": \"#E5ECF6\", \"polar\": {\"angularaxis\": {\"gridcolor\": \"white\", \"linecolor\": \"white\", \"ticks\": \"\"}, \"bgcolor\": \"#E5ECF6\", \"radialaxis\": {\"gridcolor\": \"white\", \"linecolor\": \"white\", \"ticks\": \"\"}}, \"scene\": {\"xaxis\": {\"backgroundcolor\": \"#E5ECF6\", \"gridcolor\": \"white\", \"gridwidth\": 2, \"linecolor\": \"white\", \"showbackground\": true, \"ticks\": \"\", \"zerolinecolor\": \"white\"}, \"yaxis\": {\"backgroundcolor\": \"#E5ECF6\", \"gridcolor\": \"white\", \"gridwidth\": 2, \"linecolor\": \"white\", \"showbackground\": true, \"ticks\": \"\", \"zerolinecolor\": \"white\"}, \"zaxis\": {\"backgroundcolor\": \"#E5ECF6\", \"gridcolor\": \"white\", \"gridwidth\": 2, \"linecolor\": \"white\", \"showbackground\": true, \"ticks\": \"\", \"zerolinecolor\": \"white\"}}, \"shapedefaults\": {\"line\": {\"color\": \"#2a3f5f\"}}, \"ternary\": {\"aaxis\": {\"gridcolor\": \"white\", \"linecolor\": \"white\", \"ticks\": \"\"}, \"baxis\": {\"gridcolor\": \"white\", \"linecolor\": \"white\", \"ticks\": \"\"}, \"bgcolor\": \"#E5ECF6\", \"caxis\": {\"gridcolor\": \"white\", \"linecolor\": \"white\", \"ticks\": \"\"}}, \"title\": {\"x\": 0.05}, \"xaxis\": {\"automargin\": true, \"gridcolor\": \"white\", \"linecolor\": \"white\", \"ticks\": \"\", \"title\": {\"standoff\": 15}, \"zerolinecolor\": \"white\", \"zerolinewidth\": 2}, \"yaxis\": {\"automargin\": true, \"gridcolor\": \"white\", \"linecolor\": \"white\", \"ticks\": \"\", \"title\": {\"standoff\": 15}, \"zerolinecolor\": \"white\", \"zerolinewidth\": 2}}}},\n",
              "                        {\"responsive\": true}\n",
              "                    ).then(function(){\n",
              "                            \n",
              "var gd = document.getElementById('c1e3d1d7-aaab-4949-8ef1-024768ab2896');\n",
              "var x = new MutationObserver(function (mutations, observer) {{\n",
              "        var display = window.getComputedStyle(gd).display;\n",
              "        if (!display || display === 'none') {{\n",
              "            console.log([gd, 'removed!']);\n",
              "            Plotly.purge(gd);\n",
              "            observer.disconnect();\n",
              "        }}\n",
              "}});\n",
              "\n",
              "// Listen for the removal of the full notebook cells\n",
              "var notebookContainer = gd.closest('#notebook-container');\n",
              "if (notebookContainer) {{\n",
              "    x.observe(notebookContainer, {childList: true});\n",
              "}}\n",
              "\n",
              "// Listen for the clearing of the current output cell\n",
              "var outputEl = gd.closest('.output');\n",
              "if (outputEl) {{\n",
              "    x.observe(outputEl, {childList: true});\n",
              "}}\n",
              "\n",
              "                        })\n",
              "                };\n",
              "                \n",
              "            </script>\n",
              "        </div>\n",
              "</body>\n",
              "</html>"
            ]
          },
          "metadata": {
            "tags": []
          }
        }
      ]
    },
    {
      "cell_type": "markdown",
      "metadata": {
        "id": "siV1Kkc2f7Pw"
      },
      "source": [
        "#ANALISE AMPLITUDE"
      ]
    },
    {
      "cell_type": "code",
      "metadata": {
        "id": "FCDMWJpGg_pa",
        "outputId": "f9faf23d-00ec-4972-99aa-cf9caf7c5458",
        "colab": {
          "base_uri": "https://localhost:8080/",
          "height": 282
        }
      },
      "source": [
        "df.describe()"
      ],
      "execution_count": null,
      "outputs": [
        {
          "output_type": "execute_result",
          "data": {
            "text/html": [
              "<div>\n",
              "<style scoped>\n",
              "    .dataframe tbody tr th:only-of-type {\n",
              "        vertical-align: middle;\n",
              "    }\n",
              "\n",
              "    .dataframe tbody tr th {\n",
              "        vertical-align: top;\n",
              "    }\n",
              "\n",
              "    .dataframe thead th {\n",
              "        text-align: right;\n",
              "    }\n",
              "</style>\n",
              "<table border=\"1\" class=\"dataframe\">\n",
              "  <thead>\n",
              "    <tr style=\"text-align: right;\">\n",
              "      <th></th>\n",
              "      <th>Chocolate</th>\n",
              "      <th>Pistache</th>\n",
              "      <th>Morango</th>\n",
              "      <th>Amendoim</th>\n",
              "      <th>Leite_ninho</th>\n",
              "      <th>Abacaxi_suico</th>\n",
              "      <th>Coco</th>\n",
              "      <th>Limao</th>\n",
              "      <th>Blue_ice</th>\n",
              "      <th>Maracuja</th>\n",
              "    </tr>\n",
              "  </thead>\n",
              "  <tbody>\n",
              "    <tr>\n",
              "      <th>count</th>\n",
              "      <td>61.000000</td>\n",
              "      <td>61.000000</td>\n",
              "      <td>61.000000</td>\n",
              "      <td>61.000000</td>\n",
              "      <td>61.000000</td>\n",
              "      <td>61.000000</td>\n",
              "      <td>61.000000</td>\n",
              "      <td>61.000000</td>\n",
              "      <td>61.000000</td>\n",
              "      <td>61.000000</td>\n",
              "    </tr>\n",
              "    <tr>\n",
              "      <th>mean</th>\n",
              "      <td>45.885246</td>\n",
              "      <td>17.754098</td>\n",
              "      <td>35.163934</td>\n",
              "      <td>36.606557</td>\n",
              "      <td>37.491803</td>\n",
              "      <td>33.573770</td>\n",
              "      <td>28.245902</td>\n",
              "      <td>23.311475</td>\n",
              "      <td>32.901639</td>\n",
              "      <td>33.967213</td>\n",
              "    </tr>\n",
              "    <tr>\n",
              "      <th>std</th>\n",
              "      <td>14.111577</td>\n",
              "      <td>9.456313</td>\n",
              "      <td>13.089666</td>\n",
              "      <td>13.727441</td>\n",
              "      <td>12.088042</td>\n",
              "      <td>14.377597</td>\n",
              "      <td>11.949415</td>\n",
              "      <td>13.398434</td>\n",
              "      <td>13.957919</td>\n",
              "      <td>12.621367</td>\n",
              "    </tr>\n",
              "    <tr>\n",
              "      <th>min</th>\n",
              "      <td>14.000000</td>\n",
              "      <td>0.000000</td>\n",
              "      <td>11.000000</td>\n",
              "      <td>10.000000</td>\n",
              "      <td>18.000000</td>\n",
              "      <td>7.000000</td>\n",
              "      <td>5.000000</td>\n",
              "      <td>1.000000</td>\n",
              "      <td>8.000000</td>\n",
              "      <td>4.000000</td>\n",
              "    </tr>\n",
              "    <tr>\n",
              "      <th>25%</th>\n",
              "      <td>34.000000</td>\n",
              "      <td>10.000000</td>\n",
              "      <td>23.000000</td>\n",
              "      <td>24.000000</td>\n",
              "      <td>28.000000</td>\n",
              "      <td>20.000000</td>\n",
              "      <td>21.000000</td>\n",
              "      <td>11.000000</td>\n",
              "      <td>20.000000</td>\n",
              "      <td>23.000000</td>\n",
              "    </tr>\n",
              "    <tr>\n",
              "      <th>50%</th>\n",
              "      <td>43.000000</td>\n",
              "      <td>15.000000</td>\n",
              "      <td>37.000000</td>\n",
              "      <td>34.000000</td>\n",
              "      <td>37.000000</td>\n",
              "      <td>32.000000</td>\n",
              "      <td>28.000000</td>\n",
              "      <td>22.000000</td>\n",
              "      <td>32.000000</td>\n",
              "      <td>34.000000</td>\n",
              "    </tr>\n",
              "    <tr>\n",
              "      <th>75%</th>\n",
              "      <td>56.000000</td>\n",
              "      <td>25.000000</td>\n",
              "      <td>43.000000</td>\n",
              "      <td>48.000000</td>\n",
              "      <td>48.000000</td>\n",
              "      <td>43.000000</td>\n",
              "      <td>37.000000</td>\n",
              "      <td>34.000000</td>\n",
              "      <td>44.000000</td>\n",
              "      <td>43.000000</td>\n",
              "    </tr>\n",
              "    <tr>\n",
              "      <th>max</th>\n",
              "      <td>80.000000</td>\n",
              "      <td>36.000000</td>\n",
              "      <td>63.000000</td>\n",
              "      <td>67.000000</td>\n",
              "      <td>61.000000</td>\n",
              "      <td>64.000000</td>\n",
              "      <td>52.000000</td>\n",
              "      <td>55.000000</td>\n",
              "      <td>61.000000</td>\n",
              "      <td>61.000000</td>\n",
              "    </tr>\n",
              "  </tbody>\n",
              "</table>\n",
              "</div>"
            ],
            "text/plain": [
              "       Chocolate   Pistache    Morango  ...      Limao   Blue_ice   Maracuja\n",
              "count  61.000000  61.000000  61.000000  ...  61.000000  61.000000  61.000000\n",
              "mean   45.885246  17.754098  35.163934  ...  23.311475  32.901639  33.967213\n",
              "std    14.111577   9.456313  13.089666  ...  13.398434  13.957919  12.621367\n",
              "min    14.000000   0.000000  11.000000  ...   1.000000   8.000000   4.000000\n",
              "25%    34.000000  10.000000  23.000000  ...  11.000000  20.000000  23.000000\n",
              "50%    43.000000  15.000000  37.000000  ...  22.000000  32.000000  34.000000\n",
              "75%    56.000000  25.000000  43.000000  ...  34.000000  44.000000  43.000000\n",
              "max    80.000000  36.000000  63.000000  ...  55.000000  61.000000  61.000000\n",
              "\n",
              "[8 rows x 10 columns]"
            ]
          },
          "metadata": {
            "tags": []
          },
          "execution_count": 174
        }
      ]
    },
    {
      "cell_type": "code",
      "metadata": {
        "id": "oANcYMVmjNsN",
        "outputId": "8832b633-5621-4416-9585-d46e89056381",
        "colab": {
          "base_uri": "https://localhost:8080/",
          "height": 370
        }
      },
      "source": [
        "c = pd.DataFrame([[1,2,3,4,5,6,7,8]])\n",
        "b = 0\n",
        "min = 18\n",
        "max = 61\n",
        "a = int(round((max - min)/7,0))\n",
        "for x in range(1,8):\n",
        "  b = min + (x*a)\n",
        "  c.iloc[1,x] = df.loc[df[\"Leite_ninho\"]< b , \"Leite_ninho\"].count()\n",
        "c.head()  "
      ],
      "execution_count": null,
      "outputs": [
        {
          "output_type": "error",
          "ename": "IndexError",
          "evalue": "ignored",
          "traceback": [
            "\u001b[0;31m---------------------------------------------------------------------------\u001b[0m",
            "\u001b[0;31mIndexError\u001b[0m                                Traceback (most recent call last)",
            "\u001b[0;32m<ipython-input-199-be47f794e053>\u001b[0m in \u001b[0;36m<module>\u001b[0;34m()\u001b[0m\n\u001b[1;32m      6\u001b[0m \u001b[0;32mfor\u001b[0m \u001b[0mx\u001b[0m \u001b[0;32min\u001b[0m \u001b[0mrange\u001b[0m\u001b[0;34m(\u001b[0m\u001b[0;36m1\u001b[0m\u001b[0;34m,\u001b[0m\u001b[0;36m8\u001b[0m\u001b[0;34m)\u001b[0m\u001b[0;34m:\u001b[0m\u001b[0;34m\u001b[0m\u001b[0;34m\u001b[0m\u001b[0m\n\u001b[1;32m      7\u001b[0m   \u001b[0mb\u001b[0m \u001b[0;34m=\u001b[0m \u001b[0mmin\u001b[0m \u001b[0;34m+\u001b[0m \u001b[0;34m(\u001b[0m\u001b[0mx\u001b[0m\u001b[0;34m*\u001b[0m\u001b[0ma\u001b[0m\u001b[0;34m)\u001b[0m\u001b[0;34m\u001b[0m\u001b[0;34m\u001b[0m\u001b[0m\n\u001b[0;32m----> 8\u001b[0;31m   \u001b[0mc\u001b[0m\u001b[0;34m.\u001b[0m\u001b[0miloc\u001b[0m\u001b[0;34m[\u001b[0m\u001b[0;36m1\u001b[0m\u001b[0;34m,\u001b[0m\u001b[0mx\u001b[0m\u001b[0;34m]\u001b[0m \u001b[0;34m=\u001b[0m \u001b[0mdf\u001b[0m\u001b[0;34m.\u001b[0m\u001b[0mloc\u001b[0m\u001b[0;34m[\u001b[0m\u001b[0mdf\u001b[0m\u001b[0;34m[\u001b[0m\u001b[0;34m\"Leite_ninho\"\u001b[0m\u001b[0;34m]\u001b[0m\u001b[0;34m<\u001b[0m \u001b[0mb\u001b[0m \u001b[0;34m,\u001b[0m \u001b[0;34m\"Leite_ninho\"\u001b[0m\u001b[0;34m]\u001b[0m\u001b[0;34m.\u001b[0m\u001b[0mcount\u001b[0m\u001b[0;34m(\u001b[0m\u001b[0;34m)\u001b[0m\u001b[0;34m\u001b[0m\u001b[0;34m\u001b[0m\u001b[0m\n\u001b[0m\u001b[1;32m      9\u001b[0m \u001b[0mc\u001b[0m\u001b[0;34m.\u001b[0m\u001b[0mhead\u001b[0m\u001b[0;34m(\u001b[0m\u001b[0;34m)\u001b[0m\u001b[0;34m\u001b[0m\u001b[0;34m\u001b[0m\u001b[0m\n",
            "\u001b[0;32m/usr/local/lib/python3.6/dist-packages/pandas/core/indexing.py\u001b[0m in \u001b[0;36m__setitem__\u001b[0;34m(self, key, value)\u001b[0m\n\u001b[1;32m    668\u001b[0m         \u001b[0;32melse\u001b[0m\u001b[0;34m:\u001b[0m\u001b[0;34m\u001b[0m\u001b[0;34m\u001b[0m\u001b[0m\n\u001b[1;32m    669\u001b[0m             \u001b[0mkey\u001b[0m \u001b[0;34m=\u001b[0m \u001b[0mcom\u001b[0m\u001b[0;34m.\u001b[0m\u001b[0mapply_if_callable\u001b[0m\u001b[0;34m(\u001b[0m\u001b[0mkey\u001b[0m\u001b[0;34m,\u001b[0m \u001b[0mself\u001b[0m\u001b[0;34m.\u001b[0m\u001b[0mobj\u001b[0m\u001b[0;34m)\u001b[0m\u001b[0;34m\u001b[0m\u001b[0;34m\u001b[0m\u001b[0m\n\u001b[0;32m--> 670\u001b[0;31m         \u001b[0mindexer\u001b[0m \u001b[0;34m=\u001b[0m \u001b[0mself\u001b[0m\u001b[0;34m.\u001b[0m\u001b[0m_get_setitem_indexer\u001b[0m\u001b[0;34m(\u001b[0m\u001b[0mkey\u001b[0m\u001b[0;34m)\u001b[0m\u001b[0;34m\u001b[0m\u001b[0;34m\u001b[0m\u001b[0m\n\u001b[0m\u001b[1;32m    671\u001b[0m         \u001b[0mself\u001b[0m\u001b[0;34m.\u001b[0m\u001b[0m_setitem_with_indexer\u001b[0m\u001b[0;34m(\u001b[0m\u001b[0mindexer\u001b[0m\u001b[0;34m,\u001b[0m \u001b[0mvalue\u001b[0m\u001b[0;34m)\u001b[0m\u001b[0;34m\u001b[0m\u001b[0;34m\u001b[0m\u001b[0m\n\u001b[1;32m    672\u001b[0m \u001b[0;34m\u001b[0m\u001b[0m\n",
            "\u001b[0;32m/usr/local/lib/python3.6/dist-packages/pandas/core/indexing.py\u001b[0m in \u001b[0;36m_get_setitem_indexer\u001b[0;34m(self, key)\u001b[0m\n\u001b[1;32m    646\u001b[0m         \u001b[0;32mif\u001b[0m \u001b[0misinstance\u001b[0m\u001b[0;34m(\u001b[0m\u001b[0mkey\u001b[0m\u001b[0;34m,\u001b[0m \u001b[0mtuple\u001b[0m\u001b[0;34m)\u001b[0m\u001b[0;34m:\u001b[0m\u001b[0;34m\u001b[0m\u001b[0;34m\u001b[0m\u001b[0m\n\u001b[1;32m    647\u001b[0m             \u001b[0;32mtry\u001b[0m\u001b[0;34m:\u001b[0m\u001b[0;34m\u001b[0m\u001b[0;34m\u001b[0m\u001b[0m\n\u001b[0;32m--> 648\u001b[0;31m                 \u001b[0;32mreturn\u001b[0m \u001b[0mself\u001b[0m\u001b[0;34m.\u001b[0m\u001b[0m_convert_tuple\u001b[0m\u001b[0;34m(\u001b[0m\u001b[0mkey\u001b[0m\u001b[0;34m)\u001b[0m\u001b[0;34m\u001b[0m\u001b[0;34m\u001b[0m\u001b[0m\n\u001b[0m\u001b[1;32m    649\u001b[0m             \u001b[0;32mexcept\u001b[0m \u001b[0mIndexingError\u001b[0m\u001b[0;34m:\u001b[0m\u001b[0;34m\u001b[0m\u001b[0;34m\u001b[0m\u001b[0m\n\u001b[1;32m    650\u001b[0m                 \u001b[0;32mpass\u001b[0m\u001b[0;34m\u001b[0m\u001b[0;34m\u001b[0m\u001b[0m\n",
            "\u001b[0;32m/usr/local/lib/python3.6/dist-packages/pandas/core/indexing.py\u001b[0m in \u001b[0;36m_convert_tuple\u001b[0;34m(self, key)\u001b[0m\n\u001b[1;32m    731\u001b[0m                 \u001b[0;32mif\u001b[0m \u001b[0mi\u001b[0m \u001b[0;34m>=\u001b[0m \u001b[0mself\u001b[0m\u001b[0;34m.\u001b[0m\u001b[0mndim\u001b[0m\u001b[0;34m:\u001b[0m\u001b[0;34m\u001b[0m\u001b[0;34m\u001b[0m\u001b[0m\n\u001b[1;32m    732\u001b[0m                     \u001b[0;32mraise\u001b[0m \u001b[0mIndexingError\u001b[0m\u001b[0;34m(\u001b[0m\u001b[0;34m\"Too many indexers\"\u001b[0m\u001b[0;34m)\u001b[0m\u001b[0;34m\u001b[0m\u001b[0;34m\u001b[0m\u001b[0m\n\u001b[0;32m--> 733\u001b[0;31m                 \u001b[0midx\u001b[0m \u001b[0;34m=\u001b[0m \u001b[0mself\u001b[0m\u001b[0;34m.\u001b[0m\u001b[0m_convert_to_indexer\u001b[0m\u001b[0;34m(\u001b[0m\u001b[0mk\u001b[0m\u001b[0;34m,\u001b[0m \u001b[0maxis\u001b[0m\u001b[0;34m=\u001b[0m\u001b[0mi\u001b[0m\u001b[0;34m)\u001b[0m\u001b[0;34m\u001b[0m\u001b[0;34m\u001b[0m\u001b[0m\n\u001b[0m\u001b[1;32m    734\u001b[0m                 \u001b[0mkeyidx\u001b[0m\u001b[0;34m.\u001b[0m\u001b[0mappend\u001b[0m\u001b[0;34m(\u001b[0m\u001b[0midx\u001b[0m\u001b[0;34m)\u001b[0m\u001b[0;34m\u001b[0m\u001b[0;34m\u001b[0m\u001b[0m\n\u001b[1;32m    735\u001b[0m         \u001b[0;32mreturn\u001b[0m \u001b[0mtuple\u001b[0m\u001b[0;34m(\u001b[0m\u001b[0mkeyidx\u001b[0m\u001b[0;34m)\u001b[0m\u001b[0;34m\u001b[0m\u001b[0;34m\u001b[0m\u001b[0m\n",
            "\u001b[0;32m/usr/local/lib/python3.6/dist-packages/pandas/core/indexing.py\u001b[0m in \u001b[0;36m_convert_to_indexer\u001b[0;34m(self, obj, axis, raise_missing)\u001b[0m\n\u001b[1;32m   2153\u001b[0m \u001b[0;34m\u001b[0m\u001b[0m\n\u001b[1;32m   2154\u001b[0m         \u001b[0;32mtry\u001b[0m\u001b[0;34m:\u001b[0m\u001b[0;34m\u001b[0m\u001b[0;34m\u001b[0m\u001b[0m\n\u001b[0;32m-> 2155\u001b[0;31m             \u001b[0mself\u001b[0m\u001b[0;34m.\u001b[0m\u001b[0m_validate_key\u001b[0m\u001b[0;34m(\u001b[0m\u001b[0mobj\u001b[0m\u001b[0;34m,\u001b[0m \u001b[0maxis\u001b[0m\u001b[0;34m)\u001b[0m\u001b[0;34m\u001b[0m\u001b[0;34m\u001b[0m\u001b[0m\n\u001b[0m\u001b[1;32m   2156\u001b[0m             \u001b[0;32mreturn\u001b[0m \u001b[0mobj\u001b[0m\u001b[0;34m\u001b[0m\u001b[0;34m\u001b[0m\u001b[0m\n\u001b[1;32m   2157\u001b[0m         \u001b[0;32mexcept\u001b[0m \u001b[0mValueError\u001b[0m\u001b[0;34m:\u001b[0m\u001b[0;34m\u001b[0m\u001b[0;34m\u001b[0m\u001b[0m\n",
            "\u001b[0;32m/usr/local/lib/python3.6/dist-packages/pandas/core/indexing.py\u001b[0m in \u001b[0;36m_validate_key\u001b[0;34m(self, key, axis)\u001b[0m\n\u001b[1;32m   1992\u001b[0m             \u001b[0;32mreturn\u001b[0m\u001b[0;34m\u001b[0m\u001b[0;34m\u001b[0m\u001b[0m\n\u001b[1;32m   1993\u001b[0m         \u001b[0;32melif\u001b[0m \u001b[0mis_integer\u001b[0m\u001b[0;34m(\u001b[0m\u001b[0mkey\u001b[0m\u001b[0;34m)\u001b[0m\u001b[0;34m:\u001b[0m\u001b[0;34m\u001b[0m\u001b[0;34m\u001b[0m\u001b[0m\n\u001b[0;32m-> 1994\u001b[0;31m             \u001b[0mself\u001b[0m\u001b[0;34m.\u001b[0m\u001b[0m_validate_integer\u001b[0m\u001b[0;34m(\u001b[0m\u001b[0mkey\u001b[0m\u001b[0;34m,\u001b[0m \u001b[0maxis\u001b[0m\u001b[0;34m)\u001b[0m\u001b[0;34m\u001b[0m\u001b[0;34m\u001b[0m\u001b[0m\n\u001b[0m\u001b[1;32m   1995\u001b[0m         \u001b[0;32melif\u001b[0m \u001b[0misinstance\u001b[0m\u001b[0;34m(\u001b[0m\u001b[0mkey\u001b[0m\u001b[0;34m,\u001b[0m \u001b[0mtuple\u001b[0m\u001b[0;34m)\u001b[0m\u001b[0;34m:\u001b[0m\u001b[0;34m\u001b[0m\u001b[0;34m\u001b[0m\u001b[0m\n\u001b[1;32m   1996\u001b[0m             \u001b[0;31m# a tuple should already have been caught by this point\u001b[0m\u001b[0;34m\u001b[0m\u001b[0;34m\u001b[0m\u001b[0;34m\u001b[0m\u001b[0m\n",
            "\u001b[0;32m/usr/local/lib/python3.6/dist-packages/pandas/core/indexing.py\u001b[0m in \u001b[0;36m_validate_integer\u001b[0;34m(self, key, axis)\u001b[0m\n\u001b[1;32m   2061\u001b[0m         \u001b[0mlen_axis\u001b[0m \u001b[0;34m=\u001b[0m \u001b[0mlen\u001b[0m\u001b[0;34m(\u001b[0m\u001b[0mself\u001b[0m\u001b[0;34m.\u001b[0m\u001b[0mobj\u001b[0m\u001b[0;34m.\u001b[0m\u001b[0m_get_axis\u001b[0m\u001b[0;34m(\u001b[0m\u001b[0maxis\u001b[0m\u001b[0;34m)\u001b[0m\u001b[0;34m)\u001b[0m\u001b[0;34m\u001b[0m\u001b[0;34m\u001b[0m\u001b[0m\n\u001b[1;32m   2062\u001b[0m         \u001b[0;32mif\u001b[0m \u001b[0mkey\u001b[0m \u001b[0;34m>=\u001b[0m \u001b[0mlen_axis\u001b[0m \u001b[0;32mor\u001b[0m \u001b[0mkey\u001b[0m \u001b[0;34m<\u001b[0m \u001b[0;34m-\u001b[0m\u001b[0mlen_axis\u001b[0m\u001b[0;34m:\u001b[0m\u001b[0;34m\u001b[0m\u001b[0;34m\u001b[0m\u001b[0m\n\u001b[0;32m-> 2063\u001b[0;31m             \u001b[0;32mraise\u001b[0m \u001b[0mIndexError\u001b[0m\u001b[0;34m(\u001b[0m\u001b[0;34m\"single positional indexer is out-of-bounds\"\u001b[0m\u001b[0;34m)\u001b[0m\u001b[0;34m\u001b[0m\u001b[0;34m\u001b[0m\u001b[0m\n\u001b[0m\u001b[1;32m   2064\u001b[0m \u001b[0;34m\u001b[0m\u001b[0m\n\u001b[1;32m   2065\u001b[0m     \u001b[0;32mdef\u001b[0m \u001b[0m_getitem_tuple\u001b[0m\u001b[0;34m(\u001b[0m\u001b[0mself\u001b[0m\u001b[0;34m,\u001b[0m \u001b[0mtup\u001b[0m\u001b[0;34m:\u001b[0m \u001b[0mTuple\u001b[0m\u001b[0;34m)\u001b[0m\u001b[0;34m:\u001b[0m\u001b[0;34m\u001b[0m\u001b[0;34m\u001b[0m\u001b[0m\n",
            "\u001b[0;31mIndexError\u001b[0m: single positional indexer is out-of-bounds"
          ]
        }
      ]
    },
    {
      "cell_type": "code",
      "metadata": {
        "id": "v2I2a_tkX-h4",
        "outputId": "8b5147c0-d586-4f04-c273-7bca13c76e44",
        "colab": {
          "base_uri": "https://localhost:8080/",
          "height": 76
        }
      },
      "source": [
        "\n",
        "c.head()"
      ],
      "execution_count": null,
      "outputs": [
        {
          "output_type": "execute_result",
          "data": {
            "text/html": [
              "<div>\n",
              "<style scoped>\n",
              "    .dataframe tbody tr th:only-of-type {\n",
              "        vertical-align: middle;\n",
              "    }\n",
              "\n",
              "    .dataframe tbody tr th {\n",
              "        vertical-align: top;\n",
              "    }\n",
              "\n",
              "    .dataframe thead th {\n",
              "        text-align: right;\n",
              "    }\n",
              "</style>\n",
              "<table border=\"1\" class=\"dataframe\">\n",
              "  <thead>\n",
              "    <tr style=\"text-align: right;\">\n",
              "      <th></th>\n",
              "      <th>0</th>\n",
              "      <th>1</th>\n",
              "      <th>2</th>\n",
              "      <th>3</th>\n",
              "      <th>4</th>\n",
              "      <th>5</th>\n",
              "      <th>6</th>\n",
              "      <th>7</th>\n",
              "    </tr>\n",
              "  </thead>\n",
              "  <tbody>\n",
              "    <tr>\n",
              "      <th>0</th>\n",
              "      <td>1</td>\n",
              "      <td>2</td>\n",
              "      <td>3</td>\n",
              "      <td>4</td>\n",
              "      <td>5</td>\n",
              "      <td>6</td>\n",
              "      <td>7</td>\n",
              "      <td>8</td>\n",
              "    </tr>\n",
              "  </tbody>\n",
              "</table>\n",
              "</div>"
            ],
            "text/plain": [
              "   0  1  2  3  4  5  6  7\n",
              "0  1  2  3  4  5  6  7  8"
            ]
          },
          "metadata": {
            "tags": []
          },
          "execution_count": 198
        }
      ]
    },
    {
      "cell_type": "code",
      "metadata": {
        "id": "C7dT_29KHSjG",
        "outputId": "8c0b9f4f-c82d-4135-d107-03c3ebb4aeac",
        "colab": {
          "base_uri": "https://localhost:8080/",
          "height": 418
        }
      },
      "source": [
        "plt.style.use('seaborn-deep')\n",
        "plt.figure(1 , figsize = (18 , 6))\n",
        "df.iloc[:,5].hist( color= 'b', bins=8)\n",
        "plt.xlabel(\"Vendas do picolé de Leite Ninho \", fontsize=15)\n",
        "plt.ylabel(\"Frequência Absoluta\",fontsize=15)\n",
        "plt.xlim([10,67])\n",
        "plt.show()"
      ],
      "execution_count": null,
      "outputs": [
        {
          "output_type": "display_data",
          "data": {
            "image/png": "[encoded data removed]",
            "text/plain": [
              "<Figure size 1296x432 with 1 Axes>"
            ]
          },
          "metadata": {
            "tags": []
          }
        }
      ]
    }
  ]
}